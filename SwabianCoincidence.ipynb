{
 "cells": [
  {
   "cell_type": "code",
   "execution_count": 1,
   "metadata": {},
   "outputs": [],
   "source": [
    "from TimeTagger import FileReader\n",
    "import numpy as np\n",
    "import easygui"
   ]
  },
  {
   "cell_type": "markdown",
   "metadata": {},
   "source": [
    "We know that H and V got swapped in BOB so I must correct for it in code. "
   ]
  },
  {
   "cell_type": "code",
   "execution_count": 2,
   "metadata": {},
   "outputs": [],
   "source": [
    "#GLOBAL DEFINITIONS\n",
    "H = 1\n",
    "V = 2\n",
    "A = 3\n",
    "D = 4\n"
   ]
  },
  {
   "cell_type": "code",
   "execution_count": 3,
   "metadata": {},
   "outputs": [],
   "source": [
    "#folder = r'C:\\Data\\\\'\n",
    "folder = \"./swabian/20200714_Swabian_Timestamp/data_2\"\n",
    "#file = '2.97mW_1.1.ttbin'\n",
    "file = \"4_1uW0dB.1.ttbin\"\n",
    "filepath = folder + '/' + file\n",
    "\n",
    "#filepath = easygui.fileopenbox(default = folder)\n",
    "\n",
    "\n",
    "\n",
    "\n"
   ]
  },
  {
   "cell_type": "code",
   "execution_count": 4,
   "metadata": {},
   "outputs": [],
   "source": [
    "def loadSwabianTimeStamps(fileIn, t = np.inf):\n",
    "    \n",
    "        file_reader = FileReader(fileIn)\n",
    "        stamps = []\n",
    "        channel = []\n",
    "        \n",
    "        \n",
    "        while file_reader.hasData():\n",
    "            #n_events = 100000; # Number of events to read at once\n",
    "            n_events = 200000; # Number of events to read at once\n",
    "            \n",
    "            # Read at most n_events.\n",
    "            data = file_reader.getData(n_events);  # data is an instance of TimeTagStreamBuffer\n",
    "\n",
    "            channelTmp = data.getChannels()\n",
    "            stampsTmp = data.getTimestamps()\n",
    "          #  overflow_types = data.getEventTypes()   # TimeTag = 0, Error = 1, OverflowBegin = 2, OverflowEnd = 3, MissedEvents = 4\n",
    "          #  missed_events = data.getMissedEvents()\n",
    "            \n",
    "            for i in range(len(channelTmp)):\n",
    "                channel.append(channelTmp[i])\n",
    "                stamps.append(stampsTmp[i])\n",
    "            break\n",
    "            if stamps[-1] - stamps[0] > t:\n",
    "                break\n",
    "        return stamps, channel\n"
   ]
  },
  {
   "cell_type": "code",
   "execution_count": 5,
   "metadata": {},
   "outputs": [],
   "source": [
    "stamps, channel = loadSwabianTimeStamps(filepath)"
   ]
  },
  {
   "cell_type": "code",
   "execution_count": 6,
   "metadata": {},
   "outputs": [
    {
     "data": {
      "text/plain": [
       "[2, 6, 2, 8, 1, 2, 4, 4, 5, 8, 5, 7, 3, 7, 4, 6, 5, 6, 1, 5]"
      ]
     },
     "execution_count": 6,
     "metadata": {},
     "output_type": "execute_result"
    }
   ],
   "source": [
    "channel[:20]"
   ]
  },
  {
   "cell_type": "code",
   "execution_count": 7,
   "metadata": {},
   "outputs": [],
   "source": [
    "#seperate out alice's and bob's events\n",
    "astamps = []\n",
    "achannel = []\n",
    "bstamps = []\n",
    "bchannel = []\n",
    "for (s,c) in zip(stamps, channel):\n",
    "    if (c <=4):\n",
    "        astamps.append(s)\n",
    "        achannel.append(c)\n",
    "    else:\n",
    "        bstamps.append(s)\n",
    "        nc = c-4\n",
    "        \n",
    "        if (nc==3):\n",
    "            nc = 4\n",
    "        elif (nc == 4):\n",
    "            nc = 3\n",
    "        bchannel.append(nc)"
   ]
  },
  {
   "cell_type": "code",
   "execution_count": 8,
   "metadata": {},
   "outputs": [
    {
     "data": {
      "text/plain": [
       "89959"
      ]
     },
     "execution_count": 8,
     "metadata": {},
     "output_type": "execute_result"
    }
   ],
   "source": [
    "len(astamps)"
   ]
  },
  {
   "cell_type": "code",
   "execution_count": 126,
   "metadata": {},
   "outputs": [
    {
     "data": {
      "text/plain": [
       "110041"
      ]
     },
     "execution_count": 126,
     "metadata": {},
     "output_type": "execute_result"
    }
   ],
   "source": [
    "len(bstamps)"
   ]
  },
  {
   "cell_type": "code",
   "execution_count": 127,
   "metadata": {},
   "outputs": [
    {
     "data": {
      "text/plain": [
       "577447917"
      ]
     },
     "execution_count": 127,
     "metadata": {},
     "output_type": "execute_result"
    }
   ],
   "source": [
    "577447917"
   ]
  },
  {
   "cell_type": "code",
   "execution_count": 128,
   "metadata": {},
   "outputs": [
    {
     "data": {
      "text/plain": [
       "200000"
      ]
     },
     "execution_count": 128,
     "metadata": {},
     "output_type": "execute_result"
    }
   ],
   "source": [
    "len(bstamps)+len(astamps)"
   ]
  },
  {
   "cell_type": "code",
   "execution_count": 114,
   "metadata": {},
   "outputs": [
    {
     "ename": "NameError",
     "evalue": "name 'saverawevents' is not defined",
     "output_type": "error",
     "traceback": [
      "\u001b[0;31m---------------------------------------------------------------------------\u001b[0m",
      "\u001b[0;31mNameError\u001b[0m                                 Traceback (most recent call last)",
      "\u001b[0;32m<ipython-input-114-8aced52272d4>\u001b[0m in \u001b[0;36m<module>\u001b[0;34m\u001b[0m\n\u001b[1;32m      1\u001b[0m \u001b[0;31m#convert the resolution to 1/8 of a nanosecond\u001b[0m\u001b[0;34m\u001b[0m\u001b[0;34m\u001b[0m\u001b[0;34m\u001b[0m\u001b[0m\n\u001b[0;32m----> 2\u001b[0;31m \u001b[0msaverawevents\u001b[0m\u001b[0;34m\u001b[0m\u001b[0;34m\u001b[0m\u001b[0m\n\u001b[0m",
      "\u001b[0;31mNameError\u001b[0m: name 'saverawevents' is not defined"
     ]
    }
   ],
   "source": [
    "#convert the resolution to 1/8 of a nanosecond\n",
    "saverawevents"
   ]
  },
  {
   "cell_type": "code",
   "execution_count": 115,
   "metadata": {},
   "outputs": [
    {
     "data": {
      "text/plain": [
       "1101535893176"
      ]
     },
     "execution_count": 115,
     "metadata": {},
     "output_type": "execute_result"
    }
   ],
   "source": [
    "astamps[-1]"
   ]
  },
  {
   "cell_type": "code",
   "execution_count": 116,
   "metadata": {},
   "outputs": [
    {
     "data": {
      "text/plain": [
       "2"
      ]
     },
     "execution_count": 116,
     "metadata": {},
     "output_type": "execute_result"
    }
   ],
   "source": [
    "achannel[-1]"
   ]
  },
  {
   "cell_type": "code",
   "execution_count": 117,
   "metadata": {},
   "outputs": [
    {
     "data": {
      "text/plain": [
       "[1086398751803,\n",
       " 1086398894346,\n",
       " 1086398985766,\n",
       " 1086399116932,\n",
       " 1086399157249,\n",
       " 1086399262520,\n",
       " 1086399490280,\n",
       " 1086399689867,\n",
       " 1086400241735,\n",
       " 1086400301477]"
      ]
     },
     "execution_count": 117,
     "metadata": {},
     "output_type": "execute_result"
    }
   ],
   "source": [
    "astamps[:10]"
   ]
  },
  {
   "cell_type": "code",
   "execution_count": 118,
   "metadata": {},
   "outputs": [
    {
     "data": {
      "text/plain": [
       "[2, 2, 1, 2, 4, 4, 3, 4, 1, 2]"
      ]
     },
     "execution_count": 118,
     "metadata": {},
     "output_type": "execute_result"
    }
   ],
   "source": [
    "achannel[:10]"
   ]
  },
  {
   "cell_type": "code",
   "execution_count": 119,
   "metadata": {},
   "outputs": [
    {
     "data": {
      "text/plain": [
       "67356"
      ]
     },
     "execution_count": 119,
     "metadata": {},
     "output_type": "execute_result"
    }
   ],
   "source": [
    "len(astamps)"
   ]
  },
  {
   "cell_type": "code",
   "execution_count": 120,
   "metadata": {},
   "outputs": [
    {
     "data": {
      "text/plain": [
       "34342903.0"
      ]
     },
     "execution_count": 120,
     "metadata": {},
     "output_type": "execute_result"
    }
   ],
   "source": [
    "2197945792/64"
   ]
  },
  {
   "cell_type": "code",
   "execution_count": 129,
   "metadata": {},
   "outputs": [],
   "source": [
    "def coincount(at,ad,bt,bd,amd=H,bmd=H,cwindow=1000,shift=0 ):\n",
    "    #print(\"coincount: \",amd,bmd,cwindow,shift)\n",
    "    ia = 0\n",
    "    ib = 0\n",
    "    coin_count = 0\n",
    "    while (ia<len(at) and ib <len(bt)):\n",
    "        #ignore beacon events\n",
    "        if (ad[ia]!=amd):\n",
    "            ia+=1\n",
    "            continue\n",
    "        if (bd[ib]!=bmd):\n",
    "            ib+=1\n",
    "            continue\n",
    "            \n",
    "        diff = bt[ib]- at[ia] + shift\n",
    "\n",
    "        if (abs(diff)<=cwindow):\n",
    "            coin_count +=1\n",
    "            \n",
    "            ia+=1\n",
    "            ib+=1\n",
    "            #continue\n",
    "        elif (diff>cwindow):\n",
    "            ia+=1\n",
    "            #continue\n",
    "        elif( diff <-cwindow):\n",
    "            ib+=1\n",
    "            #continue\n",
    "        else:\n",
    "            print (\"ERROR! I should not be here\")\n",
    "            break\n",
    "    return coin_count\n"
   ]
  },
  {
   "cell_type": "code",
   "execution_count": 70,
   "metadata": {},
   "outputs": [],
   "source": [
    "#x = coincount(astamps, achannel,bstamps, bchannel, H, H,cwindow=1000,shift=0)\n",
    "#x"
   ]
  },
  {
   "cell_type": "code",
   "execution_count": null,
   "metadata": {},
   "outputs": [],
   "source": []
  },
  {
   "cell_type": "code",
   "execution_count": 130,
   "metadata": {},
   "outputs": [],
   "source": [
    "def g2_heisto(at,ad,bt,bd,amd=H,bmd=H,cwindow=1000,search_steps=10,search_direction=1):\n",
    "    heisto = []\n",
    "    i = 0\n",
    "    count = 0\n",
    "    while(i<search_steps):\n",
    "        shift = i*cwindow*search_direction\n",
    "        count = coincount(at, ad,bt, bd, amd,bmd,cwindow=cwindow,shift=shift)\n",
    "        #print (count)\n",
    "        heisto.append(count)\n",
    "        i += 1\n",
    "    return heisto "
   ]
  },
  {
   "cell_type": "code",
   "execution_count": 134,
   "metadata": {},
   "outputs": [
    {
     "name": "stdout",
     "output_type": "stream",
     "text": [
      "[35, 30, 27, 33, 32, 28, 33, 39, 30, 35, 48, 55, 79, 307, 1040, 1093, 361, 74, 45, 48]\n"
     ]
    },
    {
     "data": {
      "text/plain": [
       "15"
      ]
     },
     "execution_count": 134,
     "metadata": {},
     "output_type": "execute_result"
    }
   ],
   "source": [
    "h = g2_heisto(astamps, achannel,bstamps, bchannel, amd=H ,bmd=A,cwindow=500,search_steps=20,search_direction=-1)\n",
    "print (h)\n",
    "h.index(max(h))"
   ]
  },
  {
   "cell_type": "code",
   "execution_count": 132,
   "metadata": {},
   "outputs": [],
   "source": [
    "detectors = [\"_\",\"H\",\"V\",\"A\",\"D\"]"
   ]
  },
  {
   "cell_type": "code",
   "execution_count": 133,
   "metadata": {},
   "outputs": [
    {
     "name": "stdout",
     "output_type": "stream",
     "text": [
      "detectors H H \tshiftsteps 9 \tcoincount 2753\n",
      "detectors H V \tshiftsteps 25 \tcoincount 54\n",
      "detectors H A \tshiftsteps 15 \tcoincount 1093\n",
      "detectors H D \tshiftsteps 8 \tcoincount 1750\n",
      "detectors V H \tshiftsteps 10 \tcoincount 53\n",
      "detectors V V \tshiftsteps 11 \tcoincount 2462\n",
      "detectors V A \tshiftsteps 16 \tcoincount 1280\n",
      "detectors V D \tshiftsteps 10 \tcoincount 1156\n",
      "detectors A H \tshiftsteps 10 \tcoincount 717\n",
      "detectors A V \tshiftsteps 11 \tcoincount 751\n",
      "detectors A A \tshiftsteps 16 \tcoincount 1524\n",
      "detectors A D \tshiftsteps 9 \tcoincount 99\n",
      "detectors D H \tshiftsteps 8 \tcoincount 650\n",
      "detectors D V \tshiftsteps 8 \tcoincount 801\n",
      "detectors D A \tshiftsteps 13 \tcoincount 66\n",
      "detectors D D \tshiftsteps 7 \tcoincount 1521\n"
     ]
    }
   ],
   "source": [
    "for i in range (1,5):\n",
    "    for j in range (1,5):\n",
    "        h = g2_heisto(astamps, achannel,bstamps, bchannel, amd=i, bmd=j,cwindow=500,search_steps=20,search_direction=-1)\n",
    "        print (\"detectors\", detectors[i],detectors[j],\"\\tshiftsteps\",h.index(max(h)),\"\\tcoincount\",max(h))"
   ]
  },
  {
   "cell_type": "code",
   "execution_count": 135,
   "metadata": {},
   "outputs": [],
   "source": [
    "def correct_timestamp(stamps,detectors,sH=0,sV=0,sA=0,sD=0):\n",
    "    cstamp=[]\n",
    "    ts = 0\n",
    "    for (s,d) in zip (stamps,detectors):\n",
    "        ts = s\n",
    "        if(d==H): \n",
    "            ts+=sH\n",
    "        elif(d==V):\n",
    "            ts+=sV\n",
    "        elif(d==A):\n",
    "            ts+=sA\n",
    "        elif(d==D):\n",
    "            ts+=sD      \n",
    "        cstamp.append(ts)\n",
    "    return cstamp"
   ]
  },
  {
   "cell_type": "code",
   "execution_count": 152,
   "metadata": {},
   "outputs": [],
   "source": [
    "#correct alice HV delay missmatch add 500ps to alice's V \n",
    "astamps_corrected = correct_timestamp(astamps,achannel,sH=2*500,sV=4*500,sA=6*500+3*500,sD=3*500+3*500)"
   ]
  },
  {
   "cell_type": "code",
   "execution_count": 153,
   "metadata": {},
   "outputs": [],
   "source": [
    "#h = g2_heisto(astamps_corrected, achannel,bstamps, bchannel, amd=H, bmd=H,cwindow=500,search_steps=30,search_direction=-1)\n",
    "#print (h)\n",
    "#h.index(max(h))"
   ]
  },
  {
   "cell_type": "code",
   "execution_count": 154,
   "metadata": {},
   "outputs": [],
   "source": [
    "#correct Bob\n",
    "# add 7 To Bob's A basis\n",
    "bstamps_corrected = correct_timestamp(bstamps,bchannel,sH=0,sV=0,sA=0,sD=6*500)"
   ]
  },
  {
   "cell_type": "code",
   "execution_count": 155,
   "metadata": {},
   "outputs": [
    {
     "name": "stdout",
     "output_type": "stream",
     "text": [
      "detectors H H \tshiftsteps 7 \tcoincount 2753\n",
      "detectors H V \tshiftsteps 7 \tcoincount 53\n",
      "detectors H A \tshiftsteps 13 \tcoincount 1093\n",
      "detectors H D \tshiftsteps 12 \tcoincount 1750\n",
      "detectors V H \tshiftsteps 6 \tcoincount 53\n",
      "detectors V V \tshiftsteps 7 \tcoincount 2462\n",
      "detectors V A \tshiftsteps 12 \tcoincount 1280\n",
      "detectors V D \tshiftsteps 12 \tcoincount 1156\n",
      "detectors A H \tshiftsteps 1 \tcoincount 717\n",
      "detectors A V \tshiftsteps 2 \tcoincount 751\n",
      "detectors A A \tshiftsteps 7 \tcoincount 1524\n",
      "detectors A D \tshiftsteps 6 \tcoincount 99\n",
      "detectors D H \tshiftsteps 2 \tcoincount 650\n",
      "detectors D V \tshiftsteps 2 \tcoincount 801\n",
      "detectors D A \tshiftsteps 7 \tcoincount 66\n",
      "detectors D D \tshiftsteps 7 \tcoincount 1521\n"
     ]
    }
   ],
   "source": [
    "for i in range (1,5):\n",
    "    for j in range (1,5):\n",
    "        h = g2_heisto(astamps_corrected, achannel,bstamps_corrected, bchannel, amd=i, bmd=j,cwindow=500,search_steps=20,search_direction=-1)\n",
    "        print (\"detectors\", detectors[i],detectors[j],\"\\tshiftsteps\",h.index(max(h)),\"\\tcoincount\",max(h))"
   ]
  },
  {
   "cell_type": "code",
   "execution_count": 156,
   "metadata": {},
   "outputs": [],
   "source": [
    "#h = g2_heisto(astamps_corrected, achannel,bstamps_corrected, bchannel, amd=A, bmd=H,cwindow=500,search_steps=20,search_direction=-1)\n",
    "#print (h)\n",
    "#h.index(max(h))"
   ]
  },
  {
   "cell_type": "code",
   "execution_count": 157,
   "metadata": {},
   "outputs": [],
   "source": [
    "def match_coincidence(at,ad,bt,bd,cwindow,shift):\n",
    "    ia = 0\n",
    "    ib = 0\n",
    "    acoin_indexes = []\n",
    "    bcoin_indexes = []\n",
    "    while (ia<len(at) and ib <len(bt)):\n",
    "        \n",
    "        diff = bt[ib]- at[ia] + shift\n",
    "\n",
    "        if (abs(diff)<=cwindow):\n",
    "            #coin_count +=1\n",
    "            acoin_indexes.append(ia)\n",
    "            bcoin_indexes.append(ib)\n",
    "            ia+=1\n",
    "            ib+=1\n",
    "            #continue\n",
    "        elif (diff>cwindow):\n",
    "            ia+=1\n",
    "            #continue\n",
    "        elif( diff <-cwindow):\n",
    "            ib+=1\n",
    "            #continue\n",
    "        else:\n",
    "            print (\"ERROR! I should not be here\")\n",
    "            break\n",
    "    return acoin_indexes,bcoin_indexes\n",
    "    "
   ]
  },
  {
   "cell_type": "code",
   "execution_count": 191,
   "metadata": {},
   "outputs": [],
   "source": [
    "ac_indexes,bc_indexes = match_coincidence(astamps_corrected,achannel,bstamps_corrected,bchannel,3000,-7*500)"
   ]
  },
  {
   "cell_type": "code",
   "execution_count": 192,
   "metadata": {},
   "outputs": [
    {
     "data": {
      "text/plain": [
       "20061"
      ]
     },
     "execution_count": 192,
     "metadata": {},
     "output_type": "execute_result"
    }
   ],
   "source": [
    "len(ac_indexes)"
   ]
  },
  {
   "cell_type": "code",
   "execution_count": 193,
   "metadata": {},
   "outputs": [
    {
     "data": {
      "text/plain": [
       "0.22300158961304595"
      ]
     },
     "execution_count": 193,
     "metadata": {},
     "output_type": "execute_result"
    }
   ],
   "source": [
    "len(ac_indexes)/ len(astamps)"
   ]
  },
  {
   "cell_type": "code",
   "execution_count": 181,
   "metadata": {},
   "outputs": [
    {
     "data": {
      "text/plain": [
       "[1, 5, 8, 9, 11, 16, 20, 21, 23, 24]"
      ]
     },
     "execution_count": 181,
     "metadata": {},
     "output_type": "execute_result"
    }
   ],
   "source": [
    "ac_indexes[:10]"
   ]
  },
  {
   "cell_type": "code",
   "execution_count": 182,
   "metadata": {},
   "outputs": [
    {
     "data": {
      "text/plain": [
       "[1, 2, 10, 11, 12, 18, 24, 25, 30, 32]"
      ]
     },
     "execution_count": 182,
     "metadata": {},
     "output_type": "execute_result"
    }
   ],
   "source": [
    "bc_indexes[:10]"
   ]
  },
  {
   "cell_type": "code",
   "execution_count": 183,
   "metadata": {},
   "outputs": [
    {
     "name": "stdout",
     "output_type": "stream",
     "text": [
      "1086407877784 1086410543788 2661504\n"
     ]
    }
   ],
   "source": [
    "print(astamps_corrected[51],bstamps_corrected[76], bstamps_corrected[76] - astamps_corrected[51]-9*500)"
   ]
  },
  {
   "cell_type": "code",
   "execution_count": 184,
   "metadata": {},
   "outputs": [],
   "source": [
    "basis_count = 0\n",
    "error_count = 0\n",
    "for (a,b) in zip(ac_indexes,bc_indexes):\n",
    "    da = achannel[a]\n",
    "    db = bchannel[b]\n",
    "    if (da >= 3 and db >= 3):\n",
    "        #basis HV\n",
    "        #print(da,db)\n",
    "        basis_count+=1\n",
    "        if (da!=db):\n",
    "            error_count+=1\n",
    "    if( da<3 and db <3):\n",
    "        #print (da,db)\n",
    "        if(da!=db):\n",
    "            error_count+=1\n",
    "        basis_count+=1"
   ]
  },
  {
   "cell_type": "code",
   "execution_count": 171,
   "metadata": {},
   "outputs": [
    {
     "data": {
      "text/plain": [
       "10119"
      ]
     },
     "execution_count": 171,
     "metadata": {},
     "output_type": "execute_result"
    }
   ],
   "source": [
    "basis_count"
   ]
  },
  {
   "cell_type": "code",
   "execution_count": 172,
   "metadata": {},
   "outputs": [
    {
     "data": {
      "text/plain": [
       "478"
      ]
     },
     "execution_count": 172,
     "metadata": {},
     "output_type": "execute_result"
    }
   ],
   "source": [
    "error_count"
   ]
  },
  {
   "cell_type": "code",
   "execution_count": 173,
   "metadata": {},
   "outputs": [
    {
     "data": {
      "text/plain": [
       "4.723786935467931"
      ]
     },
     "execution_count": 173,
     "metadata": {},
     "output_type": "execute_result"
    }
   ],
   "source": [
    "QBER = error_count / basis_count\n",
    "QBER*100"
   ]
  },
  {
   "cell_type": "code",
   "execution_count": 174,
   "metadata": {},
   "outputs": [
    {
     "data": {
      "text/plain": [
       "[1086398753803,\n",
       " 1086398896346,\n",
       " 1086398986766,\n",
       " 1086399118932,\n",
       " 1086399160249,\n",
       " 1086399265520,\n",
       " 1086399494780,\n",
       " 1086399692867,\n",
       " 1086400242735,\n",
       " 1086400303477]"
      ]
     },
     "execution_count": 174,
     "metadata": {},
     "output_type": "execute_result"
    }
   ],
   "source": [
    "astamps_corrected[0:10]"
   ]
  },
  {
   "cell_type": "code",
   "execution_count": 175,
   "metadata": {},
   "outputs": [
    {
     "data": {
      "text/plain": [
       "[1086398875555,\n",
       " 1086398902493,\n",
       " 1086399266452,\n",
       " 1086399304476,\n",
       " 1086399336997,\n",
       " 1086399344556,\n",
       " 1086399650658,\n",
       " 1086399826464,\n",
       " 1086400121460,\n",
       " 1086400189646]"
      ]
     },
     "execution_count": 175,
     "metadata": {},
     "output_type": "execute_result"
    }
   ],
   "source": [
    "bstamps_corrected[0:10]"
   ]
  },
  {
   "cell_type": "code",
   "execution_count": 24,
   "metadata": {
    "scrolled": true
   },
   "outputs": [
    {
     "data": {
      "text/plain": [
       "3338337"
      ]
     },
     "execution_count": 24,
     "metadata": {},
     "output_type": "execute_result"
    }
   ],
   "source": [
    "len (ac_indexes)"
   ]
  },
  {
   "cell_type": "code",
   "execution_count": 26,
   "metadata": {},
   "outputs": [
    {
     "data": {
      "text/plain": [
       "9.966141765334"
      ]
     },
     "execution_count": 26,
     "metadata": {},
     "output_type": "execute_result"
    }
   ],
   "source": [
    "duration = astamps[-1]-astamps[0]\n",
    "duration / (10**12)"
   ]
  },
  {
   "cell_type": "code",
   "execution_count": 28,
   "metadata": {},
   "outputs": [
    {
     "data": {
      "text/plain": [
       "3434290.3"
      ]
     },
     "execution_count": 28,
     "metadata": {},
     "output_type": "execute_result"
    }
   ],
   "source": [
    "len(astamps)/10"
   ]
  },
  {
   "cell_type": "markdown",
   "metadata": {},
   "source": [
    "Singles rate 3.4 Million/s\n",
    "coincidence rate 333 K/s \n",
    "QBER = 3.7 %\n",
    "coincidence window 500 ps\n",
    "\n",
    "for coincidence window of 1 ns QBER is around 4.2 %\n"
   ]
  }
 ],
 "metadata": {
  "kernelspec": {
   "display_name": "Python 3",
   "language": "python",
   "name": "python3"
  },
  "language_info": {
   "codemirror_mode": {
    "name": "ipython",
    "version": 3
   },
   "file_extension": ".py",
   "mimetype": "text/x-python",
   "name": "python",
   "nbconvert_exporter": "python",
   "pygments_lexer": "ipython3",
   "version": "3.8.2"
  }
 },
 "nbformat": 4,
 "nbformat_minor": 4
}
