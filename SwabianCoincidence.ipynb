{
 "cells": [
  {
   "cell_type": "code",
   "execution_count": 115,
   "metadata": {},
   "outputs": [],
   "source": [
    "from TimeTagger import FileReader\n",
    "import numpy as np\n",
    "import easygui\n",
    "import numpy as np\n",
    "import matplotlib.pyplot as plt"
   ]
  },
  {
   "cell_type": "code",
   "execution_count": null,
   "metadata": {},
   "outputs": [],
   "source": []
  },
  {
   "cell_type": "markdown",
   "metadata": {},
   "source": [
    "We know that H and V got swapped in BOB so I must correct for it in code. "
   ]
  },
  {
   "cell_type": "code",
   "execution_count": 116,
   "metadata": {},
   "outputs": [],
   "source": [
    "#GLOBAL DEFINITIONS\n",
    "H = 1\n",
    "V = 2\n",
    "A = 3\n",
    "D = 4\n"
   ]
  },
  {
   "cell_type": "code",
   "execution_count": 1,
   "metadata": {},
   "outputs": [],
   "source": [
    "#folder = r'C:\\Data\\\\'\n",
    "folder = \"/media/tanvir/QubeSat1_64/23_10_2020\"\n",
    "#file = '2.97mW_1.1.ttbin'\n",
    "file = \"onlyB.1.ttbin\"\n",
    "filepath = folder + '/' + file\n",
    "\n",
    "#filepath = easygui.fileopenbox(default = folder)\n",
    "\n",
    "\n",
    "\n",
    "\n"
   ]
  },
  {
   "cell_type": "code",
   "execution_count": 2,
   "metadata": {},
   "outputs": [
    {
     "ename": "NameError",
     "evalue": "name 'np' is not defined",
     "output_type": "error",
     "traceback": [
      "\u001b[0;31m---------------------------------------------------------------------------\u001b[0m",
      "\u001b[0;31mNameError\u001b[0m                                 Traceback (most recent call last)",
      "\u001b[0;32m<ipython-input-2-9dc9c8d3cc81>\u001b[0m in \u001b[0;36m<module>\u001b[0;34m\u001b[0m\n\u001b[0;32m----> 1\u001b[0;31m \u001b[0;32mdef\u001b[0m \u001b[0mloadSwabianTimeStamps\u001b[0m\u001b[0;34m(\u001b[0m\u001b[0mfileIn\u001b[0m\u001b[0;34m,\u001b[0m \u001b[0mt\u001b[0m \u001b[0;34m=\u001b[0m \u001b[0mnp\u001b[0m\u001b[0;34m.\u001b[0m\u001b[0minf\u001b[0m\u001b[0;34m)\u001b[0m\u001b[0;34m:\u001b[0m\u001b[0;34m\u001b[0m\u001b[0;34m\u001b[0m\u001b[0m\n\u001b[0m\u001b[1;32m      2\u001b[0m \u001b[0;34m\u001b[0m\u001b[0m\n\u001b[1;32m      3\u001b[0m         \u001b[0mfile_reader\u001b[0m \u001b[0;34m=\u001b[0m \u001b[0mFileReader\u001b[0m\u001b[0;34m(\u001b[0m\u001b[0mfileIn\u001b[0m\u001b[0;34m)\u001b[0m\u001b[0;34m\u001b[0m\u001b[0;34m\u001b[0m\u001b[0m\n\u001b[1;32m      4\u001b[0m         \u001b[0mstamps\u001b[0m \u001b[0;34m=\u001b[0m \u001b[0;34m[\u001b[0m\u001b[0;34m]\u001b[0m\u001b[0;34m\u001b[0m\u001b[0;34m\u001b[0m\u001b[0m\n\u001b[1;32m      5\u001b[0m         \u001b[0mchannel\u001b[0m \u001b[0;34m=\u001b[0m \u001b[0;34m[\u001b[0m\u001b[0;34m]\u001b[0m\u001b[0;34m\u001b[0m\u001b[0;34m\u001b[0m\u001b[0m\n",
      "\u001b[0;31mNameError\u001b[0m: name 'np' is not defined"
     ]
    }
   ],
   "source": [
    "def loadSwabianTimeStamps(fileIn, t = np.inf):\n",
    "    \n",
    "        file_reader = FileReader(fileIn)\n",
    "        stamps = []\n",
    "        channel = []\n",
    "        \n",
    "        \n",
    "        while file_reader.hasData():\n",
    "            n_events = 100000; # Number of events to read at once\n",
    "            #n_events = 200000; # Number of events to read at once\n",
    "            \n",
    "            # Read at most n_events.\n",
    "            data = file_reader.getData(n_events);  # data is an instance of TimeTagStreamBuffer\n",
    "\n",
    "            channelTmp = data.getChannels()\n",
    "            stampsTmp = data.getTimestamps()\n",
    "          #  overflow_types = data.getEventTypes()   # TimeTag = 0, Error = 1, OverflowBegin = 2, OverflowEnd = 3, MissedEvents = 4\n",
    "          #  missed_events = data.getMissedEvents()\n",
    "            \n",
    "            for i in range(len(channelTmp)):\n",
    "                channel.append(channelTmp[i])\n",
    "                stamps.append(stampsTmp[i])\n",
    "            break\n",
    "            if stamps[-1] - stamps[0] > t:\n",
    "                break\n",
    "        return stamps, channel\n"
   ]
  },
  {
   "cell_type": "code",
   "execution_count": 119,
   "metadata": {},
   "outputs": [],
   "source": [
    "stamps, channel = loadSwabianTimeStamps(filepath)"
   ]
  },
  {
   "cell_type": "code",
   "execution_count": 120,
   "metadata": {},
   "outputs": [
    {
     "data": {
      "text/plain": [
       "[2, 1, 3, 6, 1, 2, 6, 4, 2, 3, 1, 7, 8, 8, 3, 6, 8, 7, 2, 6]"
      ]
     },
     "execution_count": 120,
     "metadata": {},
     "output_type": "execute_result"
    }
   ],
   "source": [
    "channel[:20]"
   ]
  },
  {
   "cell_type": "code",
   "execution_count": 121,
   "metadata": {},
   "outputs": [],
   "source": [
    "#seperate out alice's and bob's events\n",
    "astamps = []\n",
    "achannel = []\n",
    "bstamps = []\n",
    "bchannel = []\n",
    "for (s,c) in zip(stamps, channel):\n",
    "    if (c <=4):\n",
    "        astamps.append(s)\n",
    "        achannel.append(c)\n",
    "    else:\n",
    "        bstamps.append(s)\n",
    "        nc = c-4\n",
    "        \n",
    "        #23 Oct Data\n",
    "        if (nc == H):\n",
    "            nc = A\n",
    "        elif (nc == V):\n",
    "            nc = D\n",
    "        elif (nc == A):\n",
    "            nc = H\n",
    "        elif (nc == D):\n",
    "            nc = V\n",
    "        else :\n",
    "            print (\"Error! unknown channel\")\n",
    "            break\n",
    "\n",
    "        '''    \n",
    "        #1st Oct data\n",
    "        \n",
    "        if (nc == H):\n",
    "            nc = D\n",
    "        elif (nc == V):\n",
    "            nc = A\n",
    "        elif (nc == A):\n",
    "            nc = H\n",
    "        elif (nc == D):\n",
    "            nc = V\n",
    "        else :\n",
    "            print (\"Error! unknown channel\")\n",
    "            break\n",
    "        \n",
    "        '''\n",
    "        '''if (nc == V):\n",
    "            nc = D\n",
    "        elif (nc == D):\n",
    "            nc = V\n",
    "        \n",
    "        if (nc == A):\n",
    "            nc = H\n",
    "        elif (nc == H):\n",
    "            nc = A\n",
    "            \n",
    "        if (nc == A):\n",
    "            nc = D\n",
    "        elif (nc ==D):\n",
    "            nc = A\n",
    "        '''\n",
    "        '''if (nc == A):\n",
    "            nc = H\n",
    "        elif (nc == H):\n",
    "            nc = A\n",
    "        elif (nc == V):\n",
    "            nc = D\n",
    "        elif (nc == D):\n",
    "            nc = V\n",
    "        '''\n",
    "        \n",
    "        '''#24 Aug Data\n",
    "        if ( nc == H ):\n",
    "            nc = A\n",
    "        elif ( nc == V):\n",
    "            nc = D\n",
    "        elif ( nc == A):\n",
    "            nc = V\n",
    "        elif (nc == D):\n",
    "            nc = H\n",
    "        else :\n",
    "            print (\"Error! unknown channel\")\n",
    "            break\n",
    "        '''    \n",
    "        '''if ( nc == H):\n",
    "            nc = D\n",
    "        elif (nc==D):\n",
    "            nc = H\n",
    "        \n",
    "        if ( nc == A):\n",
    "            nc = V\n",
    "        elif (nc ==V):\n",
    "            nc = A\n",
    "        \n",
    "        if ( nc == A):\n",
    "            nc = D\n",
    "        elif ( nc == D):\n",
    "            nc = A'''\n",
    "        \n",
    "        '''#28th and 29th July data\n",
    "        if (nc == D):\n",
    "            nc = H\n",
    "        elif (nc == H):\n",
    "            nc = A\n",
    "        elif (nc == A):\n",
    "            nc = V\n",
    "        elif (nc== V):\n",
    "            nc = D'''\n",
    "        \n",
    "        '''\n",
    "        # 14 july data\n",
    "        if (nc==3):\n",
    "            nc = 4\n",
    "        elif (nc == 4):\n",
    "            nc = 3\n",
    "            \n",
    "        '''        \n",
    "        bchannel.append(nc)"
   ]
  },
  {
   "cell_type": "code",
   "execution_count": 122,
   "metadata": {},
   "outputs": [
    {
     "data": {
      "text/plain": [
       "47002"
      ]
     },
     "execution_count": 122,
     "metadata": {},
     "output_type": "execute_result"
    }
   ],
   "source": [
    "len(astamps)"
   ]
  },
  {
   "cell_type": "code",
   "execution_count": 123,
   "metadata": {},
   "outputs": [
    {
     "data": {
      "text/plain": [
       "52998"
      ]
     },
     "execution_count": 123,
     "metadata": {},
     "output_type": "execute_result"
    }
   ],
   "source": [
    "len(bstamps)"
   ]
  },
  {
   "cell_type": "code",
   "execution_count": 124,
   "metadata": {},
   "outputs": [
    {
     "data": {
      "text/plain": [
       "577447917"
      ]
     },
     "execution_count": 124,
     "metadata": {},
     "output_type": "execute_result"
    }
   ],
   "source": [
    "577447917"
   ]
  },
  {
   "cell_type": "code",
   "execution_count": 125,
   "metadata": {},
   "outputs": [
    {
     "data": {
      "text/plain": [
       "100000"
      ]
     },
     "execution_count": 125,
     "metadata": {},
     "output_type": "execute_result"
    }
   ],
   "source": [
    "len(bstamps)+len(astamps)"
   ]
  },
  {
   "cell_type": "code",
   "execution_count": 126,
   "metadata": {},
   "outputs": [],
   "source": [
    "#convert the resolution to 1/8 of a nanosecond\n",
    "#saverawevents"
   ]
  },
  {
   "cell_type": "code",
   "execution_count": 127,
   "metadata": {},
   "outputs": [
    {
     "data": {
      "text/plain": [
       "2.089109531"
      ]
     },
     "execution_count": 127,
     "metadata": {},
     "output_type": "execute_result"
    }
   ],
   "source": [
    "100*(astamps[-1] - astamps[0])/10**12"
   ]
  },
  {
   "cell_type": "code",
   "execution_count": 128,
   "metadata": {},
   "outputs": [
    {
     "data": {
      "text/plain": [
       "2"
      ]
     },
     "execution_count": 128,
     "metadata": {},
     "output_type": "execute_result"
    }
   ],
   "source": [
    "achannel[-1]"
   ]
  },
  {
   "cell_type": "code",
   "execution_count": 129,
   "metadata": {},
   "outputs": [
    {
     "data": {
      "text/plain": [
       "[1235534489257,\n",
       " 1235534516022,\n",
       " 1235534804337,\n",
       " 1235534844696,\n",
       " 1235535183062,\n",
       " 1235535455496,\n",
       " 1235535706266,\n",
       " 1235535750548,\n",
       " 1235535934006,\n",
       " 1235536494566]"
      ]
     },
     "execution_count": 129,
     "metadata": {},
     "output_type": "execute_result"
    }
   ],
   "source": [
    "astamps[:10]"
   ]
  },
  {
   "cell_type": "code",
   "execution_count": 130,
   "metadata": {},
   "outputs": [
    {
     "data": {
      "text/plain": [
       "[2, 1, 3, 1, 2, 4, 2, 3, 1, 3]"
      ]
     },
     "execution_count": 130,
     "metadata": {},
     "output_type": "execute_result"
    }
   ],
   "source": [
    "achannel[:10]"
   ]
  },
  {
   "cell_type": "code",
   "execution_count": 131,
   "metadata": {},
   "outputs": [
    {
     "data": {
      "text/plain": [
       "47002"
      ]
     },
     "execution_count": 131,
     "metadata": {},
     "output_type": "execute_result"
    }
   ],
   "source": [
    "len(astamps)"
   ]
  },
  {
   "cell_type": "code",
   "execution_count": 132,
   "metadata": {},
   "outputs": [
    {
     "data": {
      "text/plain": [
       "34342903.0"
      ]
     },
     "execution_count": 132,
     "metadata": {},
     "output_type": "execute_result"
    }
   ],
   "source": [
    "2197945792/64"
   ]
  },
  {
   "cell_type": "code",
   "execution_count": 133,
   "metadata": {},
   "outputs": [],
   "source": [
    "def coincount(at,ad,bt,bd,amd=H,bmd=H,cwindow=1000,shift=0 ):\n",
    "    #print(\"coincount: \",amd,bmd,cwindow,shift)\n",
    "    ia = 0\n",
    "    ib = 0\n",
    "    coin_count = 0\n",
    "    while (ia<len(at) and ib <len(bt)):\n",
    "        #ignore beacon events\n",
    "        if (ad[ia]!=amd):\n",
    "            ia+=1\n",
    "            continue\n",
    "        if (bd[ib]!=bmd):\n",
    "            ib+=1\n",
    "            continue\n",
    "            \n",
    "        diff = bt[ib]- at[ia] + shift\n",
    "\n",
    "        if (abs(diff)<=cwindow):\n",
    "            coin_count +=1\n",
    "            \n",
    "            ia+=1\n",
    "            ib+=1\n",
    "            #continue\n",
    "        elif (diff>cwindow):\n",
    "            ia+=1\n",
    "            #continue\n",
    "        elif( diff <-cwindow):\n",
    "            ib+=1\n",
    "            #continue\n",
    "        else:\n",
    "            print (\"ERROR! I should not be here\")\n",
    "            break\n",
    "    return coin_count\n"
   ]
  },
  {
   "cell_type": "code",
   "execution_count": 134,
   "metadata": {},
   "outputs": [],
   "source": [
    "#x = coincount(astamps, achannel,bstamps, bchannel, H, H,cwindow=1000,shift=0)\n",
    "#x"
   ]
  },
  {
   "cell_type": "code",
   "execution_count": null,
   "metadata": {},
   "outputs": [],
   "source": []
  },
  {
   "cell_type": "code",
   "execution_count": 135,
   "metadata": {},
   "outputs": [],
   "source": [
    "def g2_heisto(at,ad,bt,bd,amd=H,bmd=H,cwindow=1000,search_steps=10, step_size_ps = 500,search_direction=1):\n",
    "    heisto = []\n",
    "    i = 0\n",
    "    count = 0\n",
    "    while(i<search_steps):\n",
    "        shift = i*step_size_ps*search_direction\n",
    "        count = coincount(at, ad,bt, bd, amd,bmd,cwindow=cwindow,shift=shift)\n",
    "        #print (count)\n",
    "        heisto.append(count)\n",
    "        i += 1\n",
    "    return heisto "
   ]
  },
  {
   "cell_type": "code",
   "execution_count": 136,
   "metadata": {},
   "outputs": [
    {
     "data": {
      "text/plain": [
       "47002"
      ]
     },
     "execution_count": 136,
     "metadata": {},
     "output_type": "execute_result"
    }
   ],
   "source": [
    "len(astamps)"
   ]
  },
  {
   "cell_type": "code",
   "execution_count": 137,
   "metadata": {},
   "outputs": [
    {
     "data": {
      "text/plain": [
       "1235534489257"
      ]
     },
     "execution_count": 137,
     "metadata": {},
     "output_type": "execute_result"
    }
   ],
   "source": [
    "astamps[0]"
   ]
  },
  {
   "cell_type": "code",
   "execution_count": 138,
   "metadata": {},
   "outputs": [
    {
     "data": {
      "text/plain": [
       "'h = g2_heisto(astamps, achannel,bstamps, bchannel, amd=A ,bmd=V,cwindow=500,search_steps=20,search_direction=-1)\\nprint (h)\\nprint(h.index(max(h)))\\nplt.title(\\'HA cross correlation\\')\\nplt.xlabel(\"shift (500ps)\")\\nplt.ylabel(\"counts\")\\nplt.plot(h,\\'-bo\\')'"
      ]
     },
     "execution_count": 138,
     "metadata": {},
     "output_type": "execute_result"
    }
   ],
   "source": [
    "'''h = g2_heisto(astamps, achannel,bstamps, bchannel, amd=A ,bmd=V,cwindow=500,search_steps=20,search_direction=-1)\n",
    "print (h)\n",
    "print(h.index(max(h)))\n",
    "plt.title('HA cross correlation')\n",
    "plt.xlabel(\"shift (500ps)\")\n",
    "plt.ylabel(\"counts\")\n",
    "plt.plot(h,'-bo')'''"
   ]
  },
  {
   "cell_type": "code",
   "execution_count": 139,
   "metadata": {},
   "outputs": [],
   "source": [
    "detectors = [\"_\",\"H\",\"V\",\"A\",\"D\"]"
   ]
  },
  {
   "cell_type": "code",
   "execution_count": 141,
   "metadata": {},
   "outputs": [
    {
     "name": "stdout",
     "output_type": "stream",
     "text": [
      "detectors H H \tshiftsteps 30 \tcoincount 1762\n",
      "detectors H V \tshiftsteps 29 \tcoincount 26\n",
      "detectors H A \tshiftsteps 29 \tcoincount 854\n"
     ]
    },
    {
     "ename": "KeyboardInterrupt",
     "evalue": "",
     "output_type": "error",
     "traceback": [
      "\u001b[0;31m---------------------------------------------------------------------------\u001b[0m",
      "\u001b[0;31mKeyboardInterrupt\u001b[0m                         Traceback (most recent call last)",
      "\u001b[0;32m<ipython-input-141-95fcafcbbc8d>\u001b[0m in \u001b[0;36m<module>\u001b[0;34m\u001b[0m\n\u001b[1;32m      2\u001b[0m     \u001b[0;32mfor\u001b[0m \u001b[0mj\u001b[0m \u001b[0;32min\u001b[0m \u001b[0mrange\u001b[0m \u001b[0;34m(\u001b[0m\u001b[0;36m1\u001b[0m\u001b[0;34m,\u001b[0m\u001b[0;36m5\u001b[0m\u001b[0;34m)\u001b[0m\u001b[0;34m:\u001b[0m\u001b[0;34m\u001b[0m\u001b[0;34m\u001b[0m\u001b[0m\n\u001b[1;32m      3\u001b[0m         \u001b[0;32mif\u001b[0m\u001b[0;34m(\u001b[0m\u001b[0;32mTrue\u001b[0m\u001b[0;34m)\u001b[0m\u001b[0;34m:\u001b[0m\u001b[0;34m\u001b[0m\u001b[0;34m\u001b[0m\u001b[0m\n\u001b[0;32m----> 4\u001b[0;31m             \u001b[0mh\u001b[0m \u001b[0;34m=\u001b[0m \u001b[0mg2_heisto\u001b[0m\u001b[0;34m(\u001b[0m\u001b[0mastamps\u001b[0m\u001b[0;34m,\u001b[0m \u001b[0machannel\u001b[0m\u001b[0;34m,\u001b[0m\u001b[0mbstamps\u001b[0m\u001b[0;34m,\u001b[0m \u001b[0mbchannel\u001b[0m\u001b[0;34m,\u001b[0m \u001b[0mamd\u001b[0m\u001b[0;34m=\u001b[0m\u001b[0mi\u001b[0m\u001b[0;34m,\u001b[0m \u001b[0mbmd\u001b[0m\u001b[0;34m=\u001b[0m\u001b[0mj\u001b[0m\u001b[0;34m,\u001b[0m\u001b[0mcwindow\u001b[0m\u001b[0;34m=\u001b[0m\u001b[0;36m750\u001b[0m\u001b[0;34m,\u001b[0m\u001b[0msearch_steps\u001b[0m\u001b[0;34m=\u001b[0m\u001b[0;36m40\u001b[0m\u001b[0;34m,\u001b[0m\u001b[0mstep_size_ps\u001b[0m\u001b[0;34m=\u001b[0m\u001b[0;36m250\u001b[0m\u001b[0;34m,\u001b[0m\u001b[0msearch_direction\u001b[0m\u001b[0;34m=\u001b[0m\u001b[0;34m-\u001b[0m\u001b[0;36m1\u001b[0m\u001b[0;34m)\u001b[0m\u001b[0;34m\u001b[0m\u001b[0;34m\u001b[0m\u001b[0m\n\u001b[0m\u001b[1;32m      5\u001b[0m             \u001b[0mprint\u001b[0m \u001b[0;34m(\u001b[0m\u001b[0;34m\"detectors\"\u001b[0m\u001b[0;34m,\u001b[0m \u001b[0mdetectors\u001b[0m\u001b[0;34m[\u001b[0m\u001b[0mi\u001b[0m\u001b[0;34m]\u001b[0m\u001b[0;34m,\u001b[0m\u001b[0mdetectors\u001b[0m\u001b[0;34m[\u001b[0m\u001b[0mj\u001b[0m\u001b[0;34m]\u001b[0m\u001b[0;34m,\u001b[0m\u001b[0;34m\"\\tshiftsteps\"\u001b[0m\u001b[0;34m,\u001b[0m\u001b[0mh\u001b[0m\u001b[0;34m.\u001b[0m\u001b[0mindex\u001b[0m\u001b[0;34m(\u001b[0m\u001b[0mmax\u001b[0m\u001b[0;34m(\u001b[0m\u001b[0mh\u001b[0m\u001b[0;34m)\u001b[0m\u001b[0;34m)\u001b[0m\u001b[0;34m,\u001b[0m\u001b[0;34m\"\\tcoincount\"\u001b[0m\u001b[0;34m,\u001b[0m\u001b[0mmax\u001b[0m\u001b[0;34m(\u001b[0m\u001b[0mh\u001b[0m\u001b[0;34m)\u001b[0m\u001b[0;34m)\u001b[0m\u001b[0;34m\u001b[0m\u001b[0;34m\u001b[0m\u001b[0m\n\u001b[1;32m      6\u001b[0m             \u001b[0;31m#if (i==j)\u001b[0m\u001b[0;34m\u001b[0m\u001b[0;34m\u001b[0m\u001b[0;34m\u001b[0m\u001b[0m\n",
      "\u001b[0;32m<ipython-input-135-24d2d8c42286>\u001b[0m in \u001b[0;36mg2_heisto\u001b[0;34m(at, ad, bt, bd, amd, bmd, cwindow, search_steps, step_size_ps, search_direction)\u001b[0m\n\u001b[1;32m      5\u001b[0m     \u001b[0;32mwhile\u001b[0m\u001b[0;34m(\u001b[0m\u001b[0mi\u001b[0m\u001b[0;34m<\u001b[0m\u001b[0msearch_steps\u001b[0m\u001b[0;34m)\u001b[0m\u001b[0;34m:\u001b[0m\u001b[0;34m\u001b[0m\u001b[0;34m\u001b[0m\u001b[0m\n\u001b[1;32m      6\u001b[0m         \u001b[0mshift\u001b[0m \u001b[0;34m=\u001b[0m \u001b[0mi\u001b[0m\u001b[0;34m*\u001b[0m\u001b[0mstep_size_ps\u001b[0m\u001b[0;34m*\u001b[0m\u001b[0msearch_direction\u001b[0m\u001b[0;34m\u001b[0m\u001b[0;34m\u001b[0m\u001b[0m\n\u001b[0;32m----> 7\u001b[0;31m         \u001b[0mcount\u001b[0m \u001b[0;34m=\u001b[0m \u001b[0mcoincount\u001b[0m\u001b[0;34m(\u001b[0m\u001b[0mat\u001b[0m\u001b[0;34m,\u001b[0m \u001b[0mad\u001b[0m\u001b[0;34m,\u001b[0m\u001b[0mbt\u001b[0m\u001b[0;34m,\u001b[0m \u001b[0mbd\u001b[0m\u001b[0;34m,\u001b[0m \u001b[0mamd\u001b[0m\u001b[0;34m,\u001b[0m\u001b[0mbmd\u001b[0m\u001b[0;34m,\u001b[0m\u001b[0mcwindow\u001b[0m\u001b[0;34m=\u001b[0m\u001b[0mcwindow\u001b[0m\u001b[0;34m,\u001b[0m\u001b[0mshift\u001b[0m\u001b[0;34m=\u001b[0m\u001b[0mshift\u001b[0m\u001b[0;34m)\u001b[0m\u001b[0;34m\u001b[0m\u001b[0;34m\u001b[0m\u001b[0m\n\u001b[0m\u001b[1;32m      8\u001b[0m         \u001b[0;31m#print (count)\u001b[0m\u001b[0;34m\u001b[0m\u001b[0;34m\u001b[0m\u001b[0;34m\u001b[0m\u001b[0m\n\u001b[1;32m      9\u001b[0m         \u001b[0mheisto\u001b[0m\u001b[0;34m.\u001b[0m\u001b[0mappend\u001b[0m\u001b[0;34m(\u001b[0m\u001b[0mcount\u001b[0m\u001b[0;34m)\u001b[0m\u001b[0;34m\u001b[0m\u001b[0;34m\u001b[0m\u001b[0m\n",
      "\u001b[0;32m<ipython-input-133-4bcdccb45483>\u001b[0m in \u001b[0;36mcoincount\u001b[0;34m(at, ad, bt, bd, amd, bmd, cwindow, shift)\u001b[0m\n\u001b[1;32m      6\u001b[0m     \u001b[0;32mwhile\u001b[0m \u001b[0;34m(\u001b[0m\u001b[0mia\u001b[0m\u001b[0;34m<\u001b[0m\u001b[0mlen\u001b[0m\u001b[0;34m(\u001b[0m\u001b[0mat\u001b[0m\u001b[0;34m)\u001b[0m \u001b[0;32mand\u001b[0m \u001b[0mib\u001b[0m \u001b[0;34m<\u001b[0m\u001b[0mlen\u001b[0m\u001b[0;34m(\u001b[0m\u001b[0mbt\u001b[0m\u001b[0;34m)\u001b[0m\u001b[0;34m)\u001b[0m\u001b[0;34m:\u001b[0m\u001b[0;34m\u001b[0m\u001b[0;34m\u001b[0m\u001b[0m\n\u001b[1;32m      7\u001b[0m         \u001b[0;31m#ignore beacon events\u001b[0m\u001b[0;34m\u001b[0m\u001b[0;34m\u001b[0m\u001b[0;34m\u001b[0m\u001b[0m\n\u001b[0;32m----> 8\u001b[0;31m         \u001b[0;32mif\u001b[0m \u001b[0;34m(\u001b[0m\u001b[0mad\u001b[0m\u001b[0;34m[\u001b[0m\u001b[0mia\u001b[0m\u001b[0;34m]\u001b[0m\u001b[0;34m!=\u001b[0m\u001b[0mamd\u001b[0m\u001b[0;34m)\u001b[0m\u001b[0;34m:\u001b[0m\u001b[0;34m\u001b[0m\u001b[0;34m\u001b[0m\u001b[0m\n\u001b[0m\u001b[1;32m      9\u001b[0m             \u001b[0mia\u001b[0m\u001b[0;34m+=\u001b[0m\u001b[0;36m1\u001b[0m\u001b[0;34m\u001b[0m\u001b[0;34m\u001b[0m\u001b[0m\n\u001b[1;32m     10\u001b[0m             \u001b[0;32mcontinue\u001b[0m\u001b[0;34m\u001b[0m\u001b[0;34m\u001b[0m\u001b[0m\n",
      "\u001b[0;31mKeyboardInterrupt\u001b[0m: "
     ]
    },
    {
     "data": {
      "image/png": "[encoded data removed]",
      "text/plain": [
       "<Figure size 432x288 with 1 Axes>"
      ]
     },
     "metadata": {
      "needs_background": "light"
     },
     "output_type": "display_data"
    }
   ],
   "source": [
    "for i in range (1,5):\n",
    "    for j in range (1,5):\n",
    "        if(True):\n",
    "            h = g2_heisto(astamps, achannel,bstamps, bchannel, amd=i, bmd=j,cwindow=750,search_steps=40,step_size_ps=250,search_direction=-1)\n",
    "            print (\"detectors\", detectors[i],detectors[j],\"\\tshiftsteps\",h.index(max(h)),\"\\tcoincount\",max(h))\n",
    "            #if (i==j) \n",
    "            plt.plot(h, marker='o', label=detectors[i]+detectors[j])\n",
    "\n",
    "plt.title(\"Matching\")\n",
    "plt.xlabel(\"Shift (250ps)\")\n",
    "plt.ylabel(\"count\")\n",
    "#plt.legend()\n",
    "plt.savefig(\"./plots/Matching.jpg\")\n",
    "plt.show()"
   ]
  },
  {
   "cell_type": "code",
   "execution_count": 142,
   "metadata": {},
   "outputs": [
    {
     "data": {
      "image/png": "[encoded data removed]",
      "text/plain": [
       "<Figure size 432x288 with 1 Axes>"
      ]
     },
     "metadata": {
      "needs_background": "light"
     },
     "output_type": "display_data"
    }
   ],
   "source": [
    "a = [2,3,2,5]\n",
    "b = [3.4,1,9]\n",
    "\n",
    "plt.plot(a,marker='o',label=\"a\")\n",
    "plt.plot(b,label='b')\n",
    "plt.legend()\n",
    "plt.show()"
   ]
  },
  {
   "cell_type": "code",
   "execution_count": 143,
   "metadata": {},
   "outputs": [],
   "source": [
    "def correct_timestamp(stamps,detectors,step_size_ps=250,sH=0,sV=0,sA=0,sD=0):\n",
    "    cstamp=[]\n",
    "    ts = 0\n",
    "    for (s,d) in zip (stamps,detectors):\n",
    "        ts = s\n",
    "        if(d==H): \n",
    "            ts+=sH*step_size_ps\n",
    "        elif(d==V):\n",
    "            ts+=sV*step_size_ps\n",
    "        elif(d==A):\n",
    "            ts+=sA*step_size_ps\n",
    "        elif(d==D):\n",
    "            ts+=sD*step_size_ps      \n",
    "        cstamp.append(ts)\n",
    "        \n",
    "    print (step_size_ps*sH,step_size_ps*sV,step_size_ps*sA,step_size_ps*sD)\n",
    "    \n",
    "    return cstamp"
   ]
  },
  {
   "cell_type": "code",
   "execution_count": 177,
   "metadata": {},
   "outputs": [
    {
     "name": "stdout",
     "output_type": "stream",
     "text": [
      "0 -750 -1250 -250\n"
     ]
    }
   ],
   "source": [
    "#correct alice HV delay missmatch add 500ps to alice's V \n",
    "#astamps_corrected = correct_timestamp(astamps,achannel,sH=0,sV=-1*500,sA=0,sD=-2*500) #28 july data\n",
    "#astamps_corrected = correct_timestamp(astamps,achannel,sH=0,sV=-2*500,sA=0,sD=-2*500) # 24 Aug data\n",
    "#astamps_corrected = correct_timestamp(astamps,achannel,sH=0,sV=-2*500,sA=-3*500,sD=-1*500) # 23rd Oct data\n",
    "astamps_corrected = correct_timestamp(astamps,achannel,step_size_ps=250,sH=0,sV=-3,sA=-5,sD=-1) # 26rd Oct data\n"
   ]
  },
  {
   "cell_type": "code",
   "execution_count": 178,
   "metadata": {},
   "outputs": [],
   "source": [
    "## h = g2_heisto(astamps_corrected, achannel,bstamps, bchannel, amd=H, bmd=H,cwindow=500,search_steps=30,search_direction=-1)\n",
    "#print (h)\n",
    "#h.index(max(h))"
   ]
  },
  {
   "cell_type": "code",
   "execution_count": 179,
   "metadata": {},
   "outputs": [
    {
     "name": "stdout",
     "output_type": "stream",
     "text": [
      "0 0 250 250\n"
     ]
    }
   ],
   "source": [
    "### correct Bob\n",
    "# add 7 To Bob's A basis\n",
    "#bstamps_corrected = correct_timestamp(bstamps,bchannel,sH=0,sV=1*500,sA=-5*500,sD=1*500) # 28 july data\n",
    "#bstamps_corrected = correct_timestamp(bstamps,bchannel,sH=0,sV=1*500,sA=1*500,sD=1*500) # 24 Aug data\n",
    "#bstamps_corrected = correct_timestamp(bstamps,bchannel,sH=0,sV=-1*500,sA=0,sD=0) # 23rd Oct data\n",
    "bstamps_corrected = correct_timestamp(bstamps,bchannel,step_size_ps = 250, sH=0,sV=0,sA=1,sD=1) # 26rd Oct data\n"
   ]
  },
  {
   "cell_type": "code",
   "execution_count": 180,
   "metadata": {
    "scrolled": true
   },
   "outputs": [
    {
     "name": "stdout",
     "output_type": "stream",
     "text": [
      "[1, 3, 5, 6, 7, 7, 8, 8, 7, 7, 5, 7, 10, 10, 12, 11, 12, 13, 10, 12, 11, 18, 19, 23, 45, 124, 337, 682, 956, 1051, 1056, 984, 775, 427, 155, 54, 27, 20, 18, 15]\n",
      "shift = 30\n"
     ]
    },
    {
     "data": {
      "text/plain": [
       "[<matplotlib.lines.Line2D at 0x7ff8ba251250>]"
      ]
     },
     "execution_count": 180,
     "metadata": {},
     "output_type": "execute_result"
    },
    {
     "data": {
      "image/png": "[encoded data removed]",
      "text/plain": [
       "<Figure size 432x288 with 1 Axes>"
      ]
     },
     "metadata": {
      "needs_background": "light"
     },
     "output_type": "display_data"
    }
   ],
   "source": [
    "# HH H(D) (D)D D(V) (V)V H(A) (A)A \n",
    "h = g2_heisto(astamps_corrected, achannel,bstamps_corrected, bchannel, amd=A, bmd=A,cwindow=750,search_steps=40,step_size_ps = 250,search_direction=-1)\n",
    "print (h)\n",
    "print(\"shift =\",h.index(max(h)))\n",
    "plt.title('cross correlation')\n",
    "plt.xlabel(\"shift (250ps)\")\n",
    "plt.ylabel(\"counts\")\n",
    "plt.plot(h,'-bo')\n"
   ]
  },
  {
   "cell_type": "code",
   "execution_count": 181,
   "metadata": {},
   "outputs": [],
   "source": [
    "hh = {}"
   ]
  },
  {
   "cell_type": "code",
   "execution_count": 182,
   "metadata": {
    "scrolled": true
   },
   "outputs": [
    {
     "name": "stdout",
     "output_type": "stream",
     "text": [
      "detectors H H \tshiftsteps 30 \tcoincount 1762\n",
      "detectors H V \tshiftsteps 29 \tcoincount 26\n",
      "detectors H A \tshiftsteps 30 \tcoincount 854\n",
      "detectors H D \tshiftsteps 30 \tcoincount 893\n",
      "detectors V H \tshiftsteps 33 \tcoincount 21\n",
      "detectors V V \tshiftsteps 30 \tcoincount 1963\n",
      "detectors V A \tshiftsteps 30 \tcoincount 929\n",
      "detectors V D \tshiftsteps 30 \tcoincount 1008\n",
      "detectors A H \tshiftsteps 29 \tcoincount 628\n",
      "detectors A V \tshiftsteps 29 \tcoincount 550\n",
      "detectors A A \tshiftsteps 30 \tcoincount 1056\n",
      "detectors A D \tshiftsteps 31 \tcoincount 28\n",
      "detectors D H \tshiftsteps 30 \tcoincount 654\n",
      "detectors D V \tshiftsteps 30 \tcoincount 537\n",
      "detectors D A \tshiftsteps 29 \tcoincount 27\n",
      "detectors D D \tshiftsteps 30 \tcoincount 1075\n"
     ]
    }
   ],
   "source": [
    "for i in range (1,5):\n",
    "    for j in range (1,5):\n",
    "        \n",
    "        h = g2_heisto(astamps_corrected, achannel,bstamps_corrected, bchannel, amd=i, bmd=j,cwindow=750,search_steps=40,step_size_ps = 250,search_direction=-1)\n",
    "        hh[str(i)+str(j)] = h\n",
    "        \n",
    "        print (\"detectors\", detectors[i],detectors[j],\"\\tshiftsteps\",h.index(max(h)),\"\\tcoincount\",max(h))"
   ]
  },
  {
   "cell_type": "code",
   "execution_count": 183,
   "metadata": {},
   "outputs": [
    {
     "name": "stdout",
     "output_type": "stream",
     "text": [
      "detectors H H\n",
      "detectors H V\n",
      "detectors H A\n",
      "detectors H D\n",
      "detectors V H\n",
      "detectors V V\n",
      "detectors V A\n",
      "detectors V D\n",
      "detectors A H\n",
      "detectors A V\n",
      "detectors A A\n",
      "detectors A D\n",
      "detectors D H\n",
      "detectors D V\n",
      "detectors D A\n",
      "detectors D D\n"
     ]
    },
    {
     "data": {
      "image/png": "[encoded data removed]",
      "text/plain": [
       "<Figure size 432x288 with 1 Axes>"
      ]
     },
     "metadata": {
      "needs_background": "light"
     },
     "output_type": "display_data"
    }
   ],
   "source": [
    "for i in range (1,5):\n",
    "    for j in range (1,5):\n",
    "        if(True):\n",
    "            #h = g2_heisto(astamps, achannel,bstamps, bchannel, amd=i, bmd=j,cwindow=500,search_steps=20,search_direction=-1)\n",
    "            print (\"detectors\", detectors[i],detectors[j])\n",
    "            #if (i==j) \n",
    "            plt.plot(hh[str(i)+str(j)], marker='o', label=detectors[i]+detectors[j])\n",
    "\n",
    "plt.title(\"Corrected_all\")\n",
    "plt.xlabel(\"Shift (500ps)\")\n",
    "plt.ylabel(\"count\")\n",
    "plt.legend()\n",
    "plt.savefig(\"./plots/Corrected_all.jpg\")\n",
    "plt.show()"
   ]
  },
  {
   "cell_type": "code",
   "execution_count": 46,
   "metadata": {},
   "outputs": [
    {
     "name": "stdout",
     "output_type": "stream",
     "text": [
      "[1, 0, 0, 0, 0, 0, 0, 0, 0, 1, 3, 8, 77, 711, 892, 270, 25, 9, 1, 0]\n"
     ]
    },
    {
     "data": {
      "text/plain": [
       "14"
      ]
     },
     "execution_count": 46,
     "metadata": {},
     "output_type": "execute_result"
    }
   ],
   "source": [
    "h = g2_heisto(astamps_corrected, achannel,bstamps_corrected, bchannel, amd=D, bmd=D,cwindow=500,search_steps=20,search_direction=-1)\n",
    "print (h)\n",
    "h.index(max(h))"
   ]
  },
  {
   "cell_type": "code",
   "execution_count": 47,
   "metadata": {},
   "outputs": [
    {
     "name": "stdout",
     "output_type": "stream",
     "text": [
      "[1, 0, 0, 0, 0, 0, 0, 0, 0, 1, 3, 8, 77, 711, 892, 270, 25, 9, 1, 0]\n"
     ]
    }
   ],
   "source": [
    "print (hh[str(4)+str(4)])"
   ]
  },
  {
   "cell_type": "code",
   "execution_count": 48,
   "metadata": {},
   "outputs": [],
   "source": [
    "def match_coincidence(at,ad,bt,bd,cwindow,shift):\n",
    "    ia = 0\n",
    "    ib = 0\n",
    "    acoin_indexes = []\n",
    "    bcoin_indexes = []\n",
    "    while (ia<len(at) and ib <len(bt)):\n",
    "        \n",
    "        diff = bt[ib]- at[ia] + shift\n",
    "\n",
    "        if (abs(diff)<=cwindow):\n",
    "            #coin_count +=1\n",
    "            acoin_indexes.append(ia)\n",
    "            bcoin_indexes.append(ib)\n",
    "            ia+=1\n",
    "            ib+=1\n",
    "            #continue\n",
    "        elif (diff>cwindow):\n",
    "            ia+=1\n",
    "            #continue\n",
    "        elif( diff <-cwindow):\n",
    "            ib+=1\n",
    "            #continue\n",
    "        else:\n",
    "            print (\"ERROR! I should not be here\")\n",
    "            break\n",
    "    return acoin_indexes,bcoin_indexes\n",
    "    "
   ]
  },
  {
   "cell_type": "code",
   "execution_count": 49,
   "metadata": {},
   "outputs": [],
   "source": [
    "ac_indexes,bc_indexes = match_coincidence(astamps_corrected,achannel,bstamps_corrected,bchannel,1500,-15*500)"
   ]
  },
  {
   "cell_type": "code",
   "execution_count": 50,
   "metadata": {},
   "outputs": [
    {
     "name": "stdout",
     "output_type": "stream",
     "text": [
      "1263979050517 1264019817441\n",
      "diff 40760424\n"
     ]
    }
   ],
   "source": [
    "i = 1\n",
    "j = 0\n",
    "print(astamps_corrected[i], bstamps_corrected[j])\n",
    "print(\"diff\",bstamps_corrected[j]-astamps_corrected[i]-13*500 )"
   ]
  },
  {
   "cell_type": "code",
   "execution_count": 51,
   "metadata": {},
   "outputs": [
    {
     "data": {
      "text/plain": [
       "10605"
      ]
     },
     "execution_count": 51,
     "metadata": {},
     "output_type": "execute_result"
    }
   ],
   "source": [
    "len(ac_indexes)"
   ]
  },
  {
   "cell_type": "code",
   "execution_count": 52,
   "metadata": {},
   "outputs": [
    {
     "data": {
      "text/plain": [
       "0"
      ]
     },
     "execution_count": 52,
     "metadata": {},
     "output_type": "execute_result"
    }
   ],
   "source": [
    "bc_indexes[0]\n"
   ]
  },
  {
   "cell_type": "code",
   "execution_count": 53,
   "metadata": {},
   "outputs": [
    {
     "data": {
      "text/plain": [
       "51378408"
      ]
     },
     "execution_count": 53,
     "metadata": {},
     "output_type": "execute_result"
    }
   ],
   "source": [
    "bstamps_corrected[1]- astamps_corrected[1] - 6500"
   ]
  },
  {
   "cell_type": "code",
   "execution_count": 54,
   "metadata": {},
   "outputs": [
    {
     "name": "stdout",
     "output_type": "stream",
     "text": [
      "1265447201009 1266169828092 722622583\n"
     ]
    }
   ],
   "source": [
    "print(astamps_corrected[51],bstamps_corrected[76], bstamps_corrected[76] - astamps_corrected[51]-9*500)"
   ]
  },
  {
   "cell_type": "code",
   "execution_count": 55,
   "metadata": {},
   "outputs": [],
   "source": [
    "basis_count = 0\n",
    "error_count = 0\n",
    "for (a,b) in zip(ac_indexes,bc_indexes):\n",
    "    da = achannel[a]\n",
    "    db = bchannel[b]\n",
    "    if (da >= 3 and db >= 3):\n",
    "        #basis HV\n",
    "        #print(da,db)\n",
    "        basis_count+=1\n",
    "        if (da!=db):\n",
    "            error_count+=1\n",
    "    if( da<3 and db <3):\n",
    "        #print (da,db)\n",
    "        if(da!=db):\n",
    "            error_count+=1\n",
    "        basis_count+=1"
   ]
  },
  {
   "cell_type": "code",
   "execution_count": 56,
   "metadata": {},
   "outputs": [
    {
     "data": {
      "text/plain": [
       "5374"
      ]
     },
     "execution_count": 56,
     "metadata": {},
     "output_type": "execute_result"
    }
   ],
   "source": [
    "basis_count"
   ]
  },
  {
   "cell_type": "code",
   "execution_count": 57,
   "metadata": {},
   "outputs": [
    {
     "data": {
      "text/plain": [
       "49"
      ]
     },
     "execution_count": 57,
     "metadata": {},
     "output_type": "execute_result"
    }
   ],
   "source": [
    "error_count"
   ]
  },
  {
   "cell_type": "code",
   "execution_count": 58,
   "metadata": {},
   "outputs": [
    {
     "data": {
      "text/plain": [
       "0.9117975437290659"
      ]
     },
     "execution_count": 58,
     "metadata": {},
     "output_type": "execute_result"
    }
   ],
   "source": [
    "QBER = error_count / basis_count\n",
    "QBER*100"
   ]
  },
  {
   "cell_type": "code",
   "execution_count": 59,
   "metadata": {},
   "outputs": [
    {
     "data": {
      "text/plain": [
       "[1263972397614,\n",
       " 1263979050517,\n",
       " 1263987431844,\n",
       " 1264019809746,\n",
       " 1264026384193,\n",
       " 1264031378440,\n",
       " 1264056533771,\n",
       " 1264122975950,\n",
       " 1264127141577,\n",
       " 1264133086104]"
      ]
     },
     "execution_count": 59,
     "metadata": {},
     "output_type": "execute_result"
    }
   ],
   "source": [
    "astamps_corrected[0:10]"
   ]
  },
  {
   "cell_type": "code",
   "execution_count": 60,
   "metadata": {},
   "outputs": [
    {
     "data": {
      "text/plain": [
       "[1264019817441,\n",
       " 1264030435425,\n",
       " 1264034455317,\n",
       " 1264048218621,\n",
       " 1264050708676,\n",
       " 1264098924973,\n",
       " 1264111028484,\n",
       " 1264113619520,\n",
       " 1264150780634,\n",
       " 1264179099105]"
      ]
     },
     "execution_count": 60,
     "metadata": {},
     "output_type": "execute_result"
    }
   ],
   "source": [
    "bstamps_corrected[0:10]"
   ]
  },
  {
   "cell_type": "code",
   "execution_count": 61,
   "metadata": {
    "scrolled": true
   },
   "outputs": [
    {
     "data": {
      "text/plain": [
       "0.21634026927784578"
      ]
     },
     "execution_count": 61,
     "metadata": {},
     "output_type": "execute_result"
    }
   ],
   "source": [
    "len (ac_indexes) / len(astamps_corrected)"
   ]
  },
  {
   "cell_type": "code",
   "execution_count": 62,
   "metadata": {},
   "outputs": [
    {
     "data": {
      "text/plain": [
       "1.378373810489"
      ]
     },
     "execution_count": 62,
     "metadata": {},
     "output_type": "execute_result"
    }
   ],
   "source": [
    "duration = astamps[-1]-astamps[0]\n",
    "duration / (10**12)"
   ]
  },
  {
   "cell_type": "code",
   "execution_count": 63,
   "metadata": {},
   "outputs": [
    {
     "data": {
      "text/plain": [
       "4902.0"
      ]
     },
     "execution_count": 63,
     "metadata": {},
     "output_type": "execute_result"
    }
   ],
   "source": [
    "len(astamps)/10"
   ]
  },
  {
   "cell_type": "markdown",
   "metadata": {},
   "source": [
    "Singles rate 3.4 Million/s\n",
    "coincidence rate 333 K/s \n",
    "QBER = 3.7 %\n",
    "coincidence window 500 ps\n",
    "\n",
    "for coincidence window of 1 ns QBER is around 4.2 %\n"
   ]
  },
  {
   "cell_type": "code",
   "execution_count": null,
   "metadata": {},
   "outputs": [],
   "source": []
  }
 ],
 "metadata": {
  "kernelspec": {
   "display_name": "Python 3",
   "language": "python",
   "name": "python3"
  },
  "language_info": {
   "codemirror_mode": {
    "name": "ipython",
    "version": 3
   },
   "file_extension": ".py",
   "mimetype": "text/x-python",
   "name": "python",
   "nbconvert_exporter": "python",
   "pygments_lexer": "ipython3",
   "version": "3.8.2"
  }
 },
 "nbformat": 4,
 "nbformat_minor": 4
}
