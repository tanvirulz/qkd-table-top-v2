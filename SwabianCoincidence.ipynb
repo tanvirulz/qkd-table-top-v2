{
 "cells": [
  {
   "cell_type": "code",
   "execution_count": 1,
   "metadata": {},
   "outputs": [],
   "source": [
    "from TimeTagger import FileReader\n",
    "import numpy as np\n",
    "import easygui\n",
    "import numpy as np\n",
    "import matplotlib.pyplot as plt"
   ]
  },
  {
   "cell_type": "code",
   "execution_count": null,
   "metadata": {},
   "outputs": [],
   "source": []
  },
  {
   "cell_type": "markdown",
   "metadata": {},
   "source": [
    "We know that H and V got swapped in BOB so I must correct for it in code. "
   ]
  },
  {
   "cell_type": "code",
   "execution_count": 2,
   "metadata": {},
   "outputs": [],
   "source": [
    "#GLOBAL DEFINITIONS\n",
    "H = 1\n",
    "V = 2\n",
    "A = 3\n",
    "D = 4\n"
   ]
  },
  {
   "cell_type": "code",
   "execution_count": 3,
   "metadata": {},
   "outputs": [],
   "source": [
    "#folder = r'C:\\Data\\\\'\n",
    "folder = \"./swabian/20200714_Swabian_Timestamp/data_2\"\n",
    "#file = '2.97mW_1.1.ttbin'\n",
    "file = \"4_1uW0dB.1.ttbin\"\n",
    "filepath = folder + '/' + file\n",
    "\n",
    "#filepath = easygui.fileopenbox(default = folder)\n",
    "\n",
    "\n",
    "\n",
    "\n"
   ]
  },
  {
   "cell_type": "code",
   "execution_count": 4,
   "metadata": {},
   "outputs": [],
   "source": [
    "def loadSwabianTimeStamps(fileIn, t = np.inf):\n",
    "    \n",
    "        file_reader = FileReader(fileIn)\n",
    "        stamps = []\n",
    "        channel = []\n",
    "        \n",
    "        \n",
    "        while file_reader.hasData():\n",
    "            #n_events = 100000; # Number of events to read at once\n",
    "            n_events = 100000; # Number of events to read at once\n",
    "            \n",
    "            # Read at most n_events.\n",
    "            data = file_reader.getData(n_events);  # data is an instance of TimeTagStreamBuffer\n",
    "\n",
    "            channelTmp = data.getChannels()\n",
    "            stampsTmp = data.getTimestamps()\n",
    "          #  overflow_types = data.getEventTypes()   # TimeTag = 0, Error = 1, OverflowBegin = 2, OverflowEnd = 3, MissedEvents = 4\n",
    "          #  missed_events = data.getMissedEvents()\n",
    "            \n",
    "            for i in range(len(channelTmp)):\n",
    "                channel.append(channelTmp[i])\n",
    "                stamps.append(stampsTmp[i])\n",
    "            break\n",
    "            if stamps[-1] - stamps[0] > t:\n",
    "                break\n",
    "        return stamps, channel\n"
   ]
  },
  {
   "cell_type": "code",
   "execution_count": 5,
   "metadata": {},
   "outputs": [],
   "source": [
    "stamps, channel = loadSwabianTimeStamps(filepath)"
   ]
  },
  {
   "cell_type": "code",
   "execution_count": 6,
   "metadata": {},
   "outputs": [
    {
     "data": {
      "text/plain": [
       "[2, 6, 2, 8, 1, 2, 4, 4, 5, 8, 5, 7, 3, 7, 4, 6, 5, 6, 1, 5]"
      ]
     },
     "execution_count": 6,
     "metadata": {},
     "output_type": "execute_result"
    }
   ],
   "source": [
    "channel[:20]"
   ]
  },
  {
   "cell_type": "code",
   "execution_count": 7,
   "metadata": {},
   "outputs": [],
   "source": [
    "#seperate out alice's and bob's events\n",
    "astamps = []\n",
    "achannel = []\n",
    "bstamps = []\n",
    "bchannel = []\n",
    "for (s,c) in zip(stamps, channel):\n",
    "    if (c <=4):\n",
    "        astamps.append(s)\n",
    "        achannel.append(c)\n",
    "    else:\n",
    "        bstamps.append(s)\n",
    "        nc = c-4\n",
    "        \n",
    "        \n",
    "        if (nc==3):\n",
    "            nc = 4\n",
    "        elif (nc == 4):\n",
    "            nc = 3\n",
    "        bchannel.append(nc)"
   ]
  },
  {
   "cell_type": "code",
   "execution_count": 8,
   "metadata": {},
   "outputs": [
    {
     "data": {
      "text/plain": [
       "44939"
      ]
     },
     "execution_count": 8,
     "metadata": {},
     "output_type": "execute_result"
    }
   ],
   "source": [
    "len(astamps)"
   ]
  },
  {
   "cell_type": "code",
   "execution_count": 9,
   "metadata": {},
   "outputs": [
    {
     "data": {
      "text/plain": [
       "55061"
      ]
     },
     "execution_count": 9,
     "metadata": {},
     "output_type": "execute_result"
    }
   ],
   "source": [
    "len(bstamps)"
   ]
  },
  {
   "cell_type": "code",
   "execution_count": 10,
   "metadata": {},
   "outputs": [
    {
     "data": {
      "text/plain": [
       "577447917"
      ]
     },
     "execution_count": 10,
     "metadata": {},
     "output_type": "execute_result"
    }
   ],
   "source": [
    "577447917"
   ]
  },
  {
   "cell_type": "code",
   "execution_count": 11,
   "metadata": {},
   "outputs": [
    {
     "data": {
      "text/plain": [
       "100000"
      ]
     },
     "execution_count": 11,
     "metadata": {},
     "output_type": "execute_result"
    }
   ],
   "source": [
    "len(bstamps)+len(astamps)"
   ]
  },
  {
   "cell_type": "code",
   "execution_count": 12,
   "metadata": {},
   "outputs": [],
   "source": [
    "#convert the resolution to 1/8 of a nanosecond\n",
    "#saverawevents"
   ]
  },
  {
   "cell_type": "code",
   "execution_count": 13,
   "metadata": {},
   "outputs": [
    {
     "data": {
      "text/plain": [
       "1.0086875374"
      ]
     },
     "execution_count": 13,
     "metadata": {},
     "output_type": "execute_result"
    }
   ],
   "source": [
    "100*(astamps[-1] - astamps[0])/10**12"
   ]
  },
  {
   "cell_type": "code",
   "execution_count": 14,
   "metadata": {},
   "outputs": [
    {
     "data": {
      "text/plain": [
       "1"
      ]
     },
     "execution_count": 14,
     "metadata": {},
     "output_type": "execute_result"
    }
   ],
   "source": [
    "achannel[-1]"
   ]
  },
  {
   "cell_type": "code",
   "execution_count": 15,
   "metadata": {},
   "outputs": [
    {
     "data": {
      "text/plain": [
       "[1086398751803,\n",
       " 1086398894346,\n",
       " 1086398985766,\n",
       " 1086399116932,\n",
       " 1086399157249,\n",
       " 1086399262520,\n",
       " 1086399490280,\n",
       " 1086399689867,\n",
       " 1086400241735,\n",
       " 1086400301477]"
      ]
     },
     "execution_count": 15,
     "metadata": {},
     "output_type": "execute_result"
    }
   ],
   "source": [
    "astamps[:10]"
   ]
  },
  {
   "cell_type": "code",
   "execution_count": 16,
   "metadata": {},
   "outputs": [
    {
     "data": {
      "text/plain": [
       "[2, 2, 1, 2, 4, 4, 3, 4, 1, 2]"
      ]
     },
     "execution_count": 16,
     "metadata": {},
     "output_type": "execute_result"
    }
   ],
   "source": [
    "achannel[:10]"
   ]
  },
  {
   "cell_type": "code",
   "execution_count": 17,
   "metadata": {},
   "outputs": [
    {
     "data": {
      "text/plain": [
       "44939"
      ]
     },
     "execution_count": 17,
     "metadata": {},
     "output_type": "execute_result"
    }
   ],
   "source": [
    "len(astamps)"
   ]
  },
  {
   "cell_type": "code",
   "execution_count": 18,
   "metadata": {},
   "outputs": [
    {
     "data": {
      "text/plain": [
       "34342903.0"
      ]
     },
     "execution_count": 18,
     "metadata": {},
     "output_type": "execute_result"
    }
   ],
   "source": [
    "2197945792/64"
   ]
  },
  {
   "cell_type": "code",
   "execution_count": 19,
   "metadata": {},
   "outputs": [],
   "source": [
    "def coincount(at,ad,bt,bd,amd=H,bmd=H,cwindow=1000,shift=0 ):\n",
    "    #print(\"coincount: \",amd,bmd,cwindow,shift)\n",
    "    ia = 0\n",
    "    ib = 0\n",
    "    coin_count = 0\n",
    "    while (ia<len(at) and ib <len(bt)):\n",
    "        #ignore beacon events\n",
    "        if (ad[ia]!=amd):\n",
    "            ia+=1\n",
    "            continue\n",
    "        if (bd[ib]!=bmd):\n",
    "            ib+=1\n",
    "            continue\n",
    "            \n",
    "        diff = bt[ib]- at[ia] + shift\n",
    "\n",
    "        if (abs(diff)<=cwindow):\n",
    "            coin_count +=1\n",
    "            \n",
    "            ia+=1\n",
    "            ib+=1\n",
    "            #continue\n",
    "        elif (diff>cwindow):\n",
    "            ia+=1\n",
    "            #continue\n",
    "        elif( diff <-cwindow):\n",
    "            ib+=1\n",
    "            #continue\n",
    "        else:\n",
    "            print (\"ERROR! I should not be here\")\n",
    "            break\n",
    "    return coin_count\n"
   ]
  },
  {
   "cell_type": "code",
   "execution_count": 20,
   "metadata": {},
   "outputs": [],
   "source": [
    "#x = coincount(astamps, achannel,bstamps, bchannel, H, H,cwindow=1000,shift=0)\n",
    "#x"
   ]
  },
  {
   "cell_type": "code",
   "execution_count": null,
   "metadata": {},
   "outputs": [],
   "source": []
  },
  {
   "cell_type": "code",
   "execution_count": 21,
   "metadata": {},
   "outputs": [],
   "source": [
    "def g2_heisto(at,ad,bt,bd,amd=H,bmd=H,cwindow=1000,search_steps=10,search_direction=1):\n",
    "    heisto = []\n",
    "    i = 0\n",
    "    count = 0\n",
    "    while(i<search_steps):\n",
    "        shift = i*cwindow*search_direction\n",
    "        count = coincount(at, ad,bt, bd, amd,bmd,cwindow=cwindow,shift=shift)\n",
    "        #print (count)\n",
    "        heisto.append(count)\n",
    "        i += 1\n",
    "    return heisto "
   ]
  },
  {
   "cell_type": "code",
   "execution_count": 22,
   "metadata": {},
   "outputs": [
    {
     "data": {
      "text/plain": [
       "44939"
      ]
     },
     "execution_count": 22,
     "metadata": {},
     "output_type": "execute_result"
    }
   ],
   "source": [
    "len(astamps)"
   ]
  },
  {
   "cell_type": "code",
   "execution_count": 23,
   "metadata": {},
   "outputs": [
    {
     "data": {
      "text/plain": [
       "1086398751803"
      ]
     },
     "execution_count": 23,
     "metadata": {},
     "output_type": "execute_result"
    }
   ],
   "source": [
    "astamps[0]"
   ]
  },
  {
   "cell_type": "code",
   "execution_count": 24,
   "metadata": {},
   "outputs": [
    {
     "name": "stdout",
     "output_type": "stream",
     "text": [
      "[12, 14, 18, 13, 18, 28, 26, 23, 21, 31, 37, 26, 22, 19, 24, 25, 13, 13, 16, 19]\n",
      "10\n"
     ]
    },
    {
     "data": {
      "text/plain": [
       "[<matplotlib.lines.Line2D at 0x7fdf32f57220>]"
      ]
     },
     "execution_count": 24,
     "metadata": {},
     "output_type": "execute_result"
    },
    {
     "data": {
      "image/png": "[encoded data removed]",
      "text/plain": [
       "<Figure size 432x288 with 1 Axes>"
      ]
     },
     "metadata": {
      "needs_background": "light"
     },
     "output_type": "display_data"
    }
   ],
   "source": [
    "h = g2_heisto(astamps, achannel,bstamps, bchannel, amd=H ,bmd=V,cwindow=500,search_steps=20,search_direction=-1)\n",
    "print (h)\n",
    "print(h.index(max(h)))\n",
    "plt.title('HA cross correlation')\n",
    "plt.xlabel(\"shift (500ps)\")\n",
    "plt.ylabel(\"counts\")\n",
    "plt.plot(h,'-bo')"
   ]
  },
  {
   "cell_type": "code",
   "execution_count": 25,
   "metadata": {},
   "outputs": [],
   "source": [
    "detectors = [\"_\",\"H\",\"V\",\"A\",\"D\"]"
   ]
  },
  {
   "cell_type": "code",
   "execution_count": 29,
   "metadata": {},
   "outputs": [
    {
     "data": {
      "image/png": "[encoded data removed]",
      "text/plain": [
       "<Figure size 432x288 with 1 Axes>"
      ]
     },
     "metadata": {
      "needs_background": "light"
     },
     "output_type": "display_data"
    }
   ],
   "source": [
    "for i in range (1,5):\n",
    "    for j in range (1,5):\n",
    "        if(False):\n",
    "            h = g2_heisto(astamps, achannel,bstamps, bchannel, amd=i, bmd=j,cwindow=500,search_steps=20,search_direction=-1)\n",
    "            print (\"detectors\", detectors[i],detectors[j],\"\\tshiftsteps\",h.index(max(h)),\"\\tcoincount\",max(h))\n",
    "            #if (i==j) \n",
    "            plt.plot(h, marker='o', label=detectors[i]+detectors[j])\n",
    "\n",
    "plt.title(\"Matching\")\n",
    "plt.xlabel(\"Shift (500ps)\")\n",
    "plt.ylabel(\"count\")\n",
    "#plt.legend()\n",
    "plt.savefig(\"./plots/Matching.jpg\")\n",
    "plt.show()"
   ]
  },
  {
   "cell_type": "code",
   "execution_count": 30,
   "metadata": {},
   "outputs": [
    {
     "data": {
      "image/png": "[encoded data removed]",
      "text/plain": [
       "<Figure size 432x288 with 1 Axes>"
      ]
     },
     "metadata": {
      "needs_background": "light"
     },
     "output_type": "display_data"
    }
   ],
   "source": [
    "a = [2,3,2,5]\n",
    "b = [3.4,1,9]\n",
    "\n",
    "plt.plot(a,marker='o',label=\"a\")\n",
    "plt.plot(b,label='b')\n",
    "plt.legend()\n",
    "plt.show()"
   ]
  },
  {
   "cell_type": "code",
   "execution_count": 31,
   "metadata": {},
   "outputs": [],
   "source": [
    "def correct_timestamp(stamps,detectors,sH=0,sV=0,sA=0,sD=0):\n",
    "    cstamp=[]\n",
    "    ts = 0\n",
    "    for (s,d) in zip (stamps,detectors):\n",
    "        ts = s\n",
    "        if(d==H): \n",
    "            ts+=sH\n",
    "        elif(d==V):\n",
    "            ts+=sV\n",
    "        elif(d==A):\n",
    "            ts+=sA\n",
    "        elif(d==D):\n",
    "            ts+=sD      \n",
    "        cstamp.append(ts)\n",
    "    return cstamp"
   ]
  },
  {
   "cell_type": "code",
   "execution_count": 32,
   "metadata": {},
   "outputs": [],
   "source": [
    "#correct alice HV delay missmatch add 500ps to alice's V \n",
    "astamps_corrected = correct_timestamp(astamps,achannel,sH=1*500,sV=3*500,sA=3*500,sD=0)"
   ]
  },
  {
   "cell_type": "code",
   "execution_count": 33,
   "metadata": {},
   "outputs": [],
   "source": [
    "#h = g2_heisto(astamps_corrected, achannel,bstamps, bchannel, amd=H, bmd=H,cwindow=500,search_steps=30,search_direction=-1)\n",
    "#print (h)\n",
    "#h.index(max(h))"
   ]
  },
  {
   "cell_type": "code",
   "execution_count": 34,
   "metadata": {},
   "outputs": [],
   "source": [
    "#correct Bob\n",
    "# add 7 To Bob's A basis\n",
    "bstamps_corrected = correct_timestamp(bstamps,bchannel,sH=5*500,sV=5*500,sA=0,sD=6*500)"
   ]
  },
  {
   "cell_type": "code",
   "execution_count": 35,
   "metadata": {},
   "outputs": [
    {
     "name": "stdout",
     "output_type": "stream",
     "text": [
      "[7, 8, 11, 9, 8, 8, 8, 7, 7, 6, 15, 55, 526, 745, 288, 39, 16, 16, 17, 8]\n",
      "shift = 13\n"
     ]
    },
    {
     "data": {
      "text/plain": [
       "[<matplotlib.lines.Line2D at 0x7fdf2fcaa9d0>]"
      ]
     },
     "execution_count": 35,
     "metadata": {},
     "output_type": "execute_result"
    },
    {
     "data": {
      "image/png": "[encoded data removed]",
      "text/plain": [
       "<Figure size 432x288 with 1 Axes>"
      ]
     },
     "metadata": {
      "needs_background": "light"
     },
     "output_type": "display_data"
    }
   ],
   "source": [
    "h = g2_heisto(astamps_corrected, achannel,bstamps_corrected, bchannel, amd=A ,bmd=A,cwindow=500,search_steps=20,search_direction=-1)\n",
    "print (h)\n",
    "print(\"shift =\",h.index(max(h)))\n",
    "plt.title('cross correlation')\n",
    "plt.xlabel(\"shift (500ps)\")\n",
    "plt.ylabel(\"counts\")\n",
    "plt.plot(h,'-bo')\n"
   ]
  },
  {
   "cell_type": "code",
   "execution_count": 36,
   "metadata": {},
   "outputs": [],
   "source": [
    "hh = {}"
   ]
  },
  {
   "cell_type": "code",
   "execution_count": 37,
   "metadata": {
    "scrolled": true
   },
   "outputs": [
    {
     "name": "stdout",
     "output_type": "stream",
     "text": [
      "detectors H H \tshiftsteps 13 \tcoincount 1383\n",
      "detectors H V \tshiftsteps 14 \tcoincount 37\n",
      "detectors H A \tshiftsteps 14 \tcoincount 523\n",
      "detectors H D \tshiftsteps 13 \tcoincount 875\n",
      "detectors V H \tshiftsteps 12 \tcoincount 26\n",
      "detectors V V \tshiftsteps 13 \tcoincount 1274\n",
      "detectors V A \tshiftsteps 13 \tcoincount 673\n",
      "detectors V D \tshiftsteps 13 \tcoincount 572\n",
      "detectors A H \tshiftsteps 12 \tcoincount 373\n",
      "detectors A V \tshiftsteps 13 \tcoincount 370\n",
      "detectors A A \tshiftsteps 13 \tcoincount 745\n",
      "detectors A D \tshiftsteps 13 \tcoincount 48\n",
      "detectors D H \tshiftsteps 13 \tcoincount 329\n",
      "detectors D V \tshiftsteps 13 \tcoincount 394\n",
      "detectors D A \tshiftsteps 13 \tcoincount 25\n",
      "detectors D D \tshiftsteps 13 \tcoincount 760\n"
     ]
    }
   ],
   "source": [
    "for i in range (1,5):\n",
    "    for j in range (1,5):\n",
    "        \n",
    "        h = g2_heisto(astamps_corrected, achannel,bstamps_corrected, bchannel, amd=i, bmd=j,cwindow=500,search_steps=20,search_direction=-1)\n",
    "        hh[str(i)+str(j)] = h\n",
    "        \n",
    "        print (\"detectors\", detectors[i],detectors[j],\"\\tshiftsteps\",h.index(max(h)),\"\\tcoincount\",max(h))"
   ]
  },
  {
   "cell_type": "code",
   "execution_count": 178,
   "metadata": {},
   "outputs": [
    {
     "name": "stdout",
     "output_type": "stream",
     "text": [
      "detectors D H \tshiftsteps 13 \tcoincount 1521\n",
      "detectors D V \tshiftsteps 13 \tcoincount 1521\n",
      "detectors D A \tshiftsteps 13 \tcoincount 1521\n",
      "detectors D D \tshiftsteps 13 \tcoincount 1521\n"
     ]
    },
    {
     "data": {
      "image/png": "[encoded data removed]",
      "text/plain": [
       "<Figure size 432x288 with 1 Axes>"
      ]
     },
     "metadata": {
      "needs_background": "light"
     },
     "output_type": "display_data"
    }
   ],
   "source": [
    "for i in range (1,5):\n",
    "    for j in range (1,5):\n",
    "        if(i==D):\n",
    "            #h = g2_heisto(astamps, achannel,bstamps, bchannel, amd=i, bmd=j,cwindow=500,search_steps=20,search_direction=-1)\n",
    "            print (\"detectors\", detectors[i],detectors[j],\"\\tshiftsteps\",h.index(max(h)),\"\\tcoincount\",max(h))\n",
    "            #if (i==j) \n",
    "            plt.plot(hh[str(i)+str(j)], marker='o', label=detectors[i]+detectors[j])\n",
    "\n",
    "plt.title(\"Corrected_Matching\")\n",
    "plt.xlabel(\"Shift (500ps)\")\n",
    "plt.ylabel(\"count\")\n",
    "plt.legend()\n",
    "plt.savefig(\"./plots/Corrected_Matching.jpg\")\n",
    "plt.show()"
   ]
  },
  {
   "cell_type": "code",
   "execution_count": 34,
   "metadata": {},
   "outputs": [
    {
     "name": "stdout",
     "output_type": "stream",
     "text": [
      "[22, 23, 18, 18, 28, 30, 30, 32, 35, 51, 104, 392, 1316, 1396, 450, 76, 40, 34, 33, 31]\n"
     ]
    },
    {
     "data": {
      "text/plain": [
       "13"
      ]
     },
     "execution_count": 34,
     "metadata": {},
     "output_type": "execute_result"
    }
   ],
   "source": [
    "h = g2_heisto(astamps_corrected, achannel,bstamps_corrected, bchannel, amd=D, bmd=D,cwindow=500,search_steps=20,search_direction=-1)\n",
    "print (h)\n",
    "h.index(max(h))"
   ]
  },
  {
   "cell_type": "code",
   "execution_count": 36,
   "metadata": {},
   "outputs": [
    {
     "name": "stdout",
     "output_type": "stream",
     "text": [
      "[22, 23, 18, 18, 28, 30, 30, 32, 35, 51, 104, 392, 1316, 1396, 450, 76, 40, 34, 33, 31]\n"
     ]
    }
   ],
   "source": [
    "print (hh[str(4)+str(4)])"
   ]
  },
  {
   "cell_type": "code",
   "execution_count": 38,
   "metadata": {},
   "outputs": [],
   "source": [
    "def match_coincidence(at,ad,bt,bd,cwindow,shift):\n",
    "    ia = 0\n",
    "    ib = 0\n",
    "    acoin_indexes = []\n",
    "    bcoin_indexes = []\n",
    "    while (ia<len(at) and ib <len(bt)):\n",
    "        \n",
    "        diff = bt[ib]- at[ia] + shift\n",
    "\n",
    "        if (abs(diff)<=cwindow):\n",
    "            #coin_count +=1\n",
    "            acoin_indexes.append(ia)\n",
    "            bcoin_indexes.append(ib)\n",
    "            ia+=1\n",
    "            ib+=1\n",
    "            #continue\n",
    "        elif (diff>cwindow):\n",
    "            ia+=1\n",
    "            #continue\n",
    "        elif( diff <-cwindow):\n",
    "            ib+=1\n",
    "            #continue\n",
    "        else:\n",
    "            print (\"ERROR! I should not be here\")\n",
    "            break\n",
    "    return acoin_indexes,bcoin_indexes\n",
    "    "
   ]
  },
  {
   "cell_type": "code",
   "execution_count": 39,
   "metadata": {},
   "outputs": [],
   "source": [
    "ac_indexes,bc_indexes = match_coincidence(astamps_corrected,achannel,bstamps_corrected,bchannel,1500,-13*500)"
   ]
  },
  {
   "cell_type": "code",
   "execution_count": 40,
   "metadata": {},
   "outputs": [
    {
     "data": {
      "text/plain": [
       "10063"
      ]
     },
     "execution_count": 40,
     "metadata": {},
     "output_type": "execute_result"
    }
   ],
   "source": [
    "len(ac_indexes)"
   ]
  },
  {
   "cell_type": "code",
   "execution_count": 41,
   "metadata": {},
   "outputs": [
    {
     "data": {
      "text/plain": [
       "0.2239257660384076"
      ]
     },
     "execution_count": 41,
     "metadata": {},
     "output_type": "execute_result"
    }
   ],
   "source": [
    "len(ac_indexes)/ len(astamps)"
   ]
  },
  {
   "cell_type": "code",
   "execution_count": 42,
   "metadata": {},
   "outputs": [
    {
     "data": {
      "text/plain": [
       "[1, 5, 8, 9, 11, 20, 21, 22, 23, 24]"
      ]
     },
     "execution_count": 42,
     "metadata": {},
     "output_type": "execute_result"
    }
   ],
   "source": [
    "ac_indexes[:10]"
   ]
  },
  {
   "cell_type": "code",
   "execution_count": 43,
   "metadata": {},
   "outputs": [
    {
     "data": {
      "text/plain": [
       "[1, 2, 10, 11, 12, 24, 25, 26, 30, 32]"
      ]
     },
     "execution_count": 43,
     "metadata": {},
     "output_type": "execute_result"
    }
   ],
   "source": [
    "bc_indexes[:10]"
   ]
  },
  {
   "cell_type": "code",
   "execution_count": 44,
   "metadata": {},
   "outputs": [
    {
     "name": "stdout",
     "output_type": "stream",
     "text": [
      "1086407877284 1086410543788 2662004\n"
     ]
    }
   ],
   "source": [
    "print(astamps_corrected[51],bstamps_corrected[76], bstamps_corrected[76] - astamps_corrected[51]-9*500)"
   ]
  },
  {
   "cell_type": "code",
   "execution_count": 45,
   "metadata": {},
   "outputs": [],
   "source": [
    "basis_count = 0\n",
    "error_count = 0\n",
    "for (a,b) in zip(ac_indexes,bc_indexes):\n",
    "    da = achannel[a]\n",
    "    db = bchannel[b]\n",
    "    if (da >= 3 and db >= 3):\n",
    "        #basis HV\n",
    "        #print(da,db)\n",
    "        basis_count+=1\n",
    "        if (da!=db):\n",
    "            error_count+=1\n",
    "    if( da<3 and db <3):\n",
    "        #print (da,db)\n",
    "        if(da!=db):\n",
    "            error_count+=1\n",
    "        basis_count+=1"
   ]
  },
  {
   "cell_type": "code",
   "execution_count": 46,
   "metadata": {},
   "outputs": [
    {
     "data": {
      "text/plain": [
       "5044"
      ]
     },
     "execution_count": 46,
     "metadata": {},
     "output_type": "execute_result"
    }
   ],
   "source": [
    "basis_count"
   ]
  },
  {
   "cell_type": "code",
   "execution_count": 47,
   "metadata": {},
   "outputs": [
    {
     "data": {
      "text/plain": [
       "228"
      ]
     },
     "execution_count": 47,
     "metadata": {},
     "output_type": "execute_result"
    }
   ],
   "source": [
    "error_count"
   ]
  },
  {
   "cell_type": "code",
   "execution_count": 48,
   "metadata": {},
   "outputs": [
    {
     "data": {
      "text/plain": [
       "4.520222045995242"
      ]
     },
     "execution_count": 48,
     "metadata": {},
     "output_type": "execute_result"
    }
   ],
   "source": [
    "QBER = error_count / basis_count\n",
    "QBER*100"
   ]
  },
  {
   "cell_type": "code",
   "execution_count": 49,
   "metadata": {},
   "outputs": [
    {
     "data": {
      "text/plain": [
       "[1086398753303,\n",
       " 1086398895846,\n",
       " 1086398986266,\n",
       " 1086399118432,\n",
       " 1086399157249,\n",
       " 1086399262520,\n",
       " 1086399491780,\n",
       " 1086399689867,\n",
       " 1086400242235,\n",
       " 1086400302977]"
      ]
     },
     "execution_count": 49,
     "metadata": {},
     "output_type": "execute_result"
    }
   ],
   "source": [
    "astamps_corrected[0:10]"
   ]
  },
  {
   "cell_type": "code",
   "execution_count": 50,
   "metadata": {},
   "outputs": [
    {
     "data": {
      "text/plain": [
       "[1086398878055,\n",
       " 1086398902493,\n",
       " 1086399268952,\n",
       " 1086399304476,\n",
       " 1086399339497,\n",
       " 1086399344556,\n",
       " 1086399650658,\n",
       " 1086399828964,\n",
       " 1086400123960,\n",
       " 1086400192146]"
      ]
     },
     "execution_count": 50,
     "metadata": {},
     "output_type": "execute_result"
    }
   ],
   "source": [
    "bstamps_corrected[0:10]"
   ]
  },
  {
   "cell_type": "code",
   "execution_count": 54,
   "metadata": {
    "scrolled": true
   },
   "outputs": [
    {
     "data": {
      "text/plain": [
       "0.2239257660384076"
      ]
     },
     "execution_count": 54,
     "metadata": {},
     "output_type": "execute_result"
    }
   ],
   "source": [
    "len (ac_indexes) / len(astamps_corrected)"
   ]
  },
  {
   "cell_type": "code",
   "execution_count": 52,
   "metadata": {},
   "outputs": [
    {
     "data": {
      "text/plain": [
       "0.010086875374"
      ]
     },
     "execution_count": 52,
     "metadata": {},
     "output_type": "execute_result"
    }
   ],
   "source": [
    "duration = astamps[-1]-astamps[0]\n",
    "duration / (10**12)"
   ]
  },
  {
   "cell_type": "code",
   "execution_count": 53,
   "metadata": {},
   "outputs": [
    {
     "data": {
      "text/plain": [
       "4493.9"
      ]
     },
     "execution_count": 53,
     "metadata": {},
     "output_type": "execute_result"
    }
   ],
   "source": [
    "len(astamps)/10"
   ]
  },
  {
   "cell_type": "markdown",
   "metadata": {},
   "source": [
    "Singles rate 3.4 Million/s\n",
    "coincidence rate 333 K/s \n",
    "QBER = 3.7 %\n",
    "coincidence window 500 ps\n",
    "\n",
    "for coincidence window of 1 ns QBER is around 4.2 %\n"
   ]
  },
  {
   "cell_type": "code",
   "execution_count": null,
   "metadata": {},
   "outputs": [],
   "source": []
  }
 ],
 "metadata": {
  "kernelspec": {
   "display_name": "Python 3",
   "language": "python",
   "name": "python3"
  },
  "language_info": {
   "codemirror_mode": {
    "name": "ipython",
    "version": 3
   },
   "file_extension": ".py",
   "mimetype": "text/x-python",
   "name": "python",
   "nbconvert_exporter": "python",
   "pygments_lexer": "ipython3",
   "version": "3.8.2"
  }
 },
 "nbformat": 4,
 "nbformat_minor": 4
}
