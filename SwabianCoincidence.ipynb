{
 "cells": [
  {
   "cell_type": "code",
   "execution_count": 1,
   "metadata": {},
   "outputs": [],
   "source": [
    "from TimeTagger import FileReader\n",
    "import numpy as np\n",
    "import easygui\n",
    "import numpy as np\n",
    "import matplotlib.pyplot as plt\n",
    "\n"
   ]
  },
  {
   "cell_type": "code",
   "execution_count": null,
   "metadata": {},
   "outputs": [],
   "source": []
  },
  {
   "cell_type": "markdown",
   "metadata": {},
   "source": [
    "We know that H and V got swapped in BOB so I must correct for it in code. "
   ]
  },
  {
   "cell_type": "code",
   "execution_count": 2,
   "metadata": {},
   "outputs": [],
   "source": [
    "#GLOBAL DEFINITIONS\n",
    "H = 1\n",
    "V = 2\n",
    "A = 3\n",
    "D = 4\n"
   ]
  },
  {
   "cell_type": "code",
   "execution_count": 3,
   "metadata": {},
   "outputs": [],
   "source": [
    "#folder = r'C:\\Data\\\\'\n",
    "#folder = \"/media/tanvir/SpooqyLab/Table_Top_Demo/1stOct2020\"\n",
    "#folder = \"./test\"\n",
    "#folder = \"/home/tanvir/work/Programming/gProj/Satellite_QKD/data_source\"\n",
    "#folder = \"/home/tanvir/work/Programming/gProj/qkd-table-top-v2/qutools\"\n",
    "#folder = \"/home/tanvir/work/Programming/gProj/qkd-table-top-v2/test\"\n",
    "folder = \"/home/tanvir/work/Programming/gProj/qkd-table-top-v2/swabian/newmatch11Jun21\"\n",
    "#file = '2.97mW_1.1.ttbin'\n",
    "#file = \"onlyB.1.ttbin\"\n",
    "#file = \"dark1.ttbin\"\n",
    "file = \"3_88mW00dB.1.ttbin\"\n",
    "filepath = folder + '/' + file\n",
    "\n",
    "#filepath = easygui.fileopenbox(default = folder)\n",
    "\n",
    "\n",
    "\n",
    "\n"
   ]
  },
  {
   "cell_type": "code",
   "execution_count": 4,
   "metadata": {},
   "outputs": [],
   "source": [
    "def loadSwabianTimeStamps(fileIn, t = np.inf):\n",
    "    \n",
    "        file_reader = FileReader(fileIn)\n",
    "        stamps = []\n",
    "        channel = []\n",
    "        \n",
    "        \n",
    "        while file_reader.hasData():\n",
    "            n_events = 100000; # Number of events to read at once\n",
    "            #n_events = 400000; # Number of events to read at once\n",
    "            \n",
    "            # Read at most n_events.\n",
    "            data = file_reader.getData(n_events);  # data is an instance of TimeTagStreamBuffer\n",
    "\n",
    "            channelTmp = data.getChannels()\n",
    "            stampsTmp = data.getTimestamps()\n",
    "          #  overflow_types = data.getEventTypes()   # TimeTag = 0, Error = 1, OverflowBegin = 2, OverflowEnd = 3, MissedEvents = 4\n",
    "          #  missed_events = data.getMissedEvents()\n",
    "            \n",
    "            for i in range(len(channelTmp)):\n",
    "                channel.append(channelTmp[i])\n",
    "                stamps.append(stampsTmp[i])\n",
    "            break\n",
    "            if stamps[-1] - stamps[0] > t:\n",
    "                break\n",
    "        return stamps, channel\n"
   ]
  },
  {
   "cell_type": "code",
   "execution_count": 5,
   "metadata": {},
   "outputs": [],
   "source": [
    "stamps, channel = loadSwabianTimeStamps(filepath)"
   ]
  },
  {
   "cell_type": "code",
   "execution_count": 6,
   "metadata": {},
   "outputs": [
    {
     "data": {
      "text/plain": [
       "[2, 3, 8, 1, 3, 4, 1, 7, 2, 7, 8, 6, 5, 6, 8, 6, 2, 8, 8, 1]"
      ]
     },
     "execution_count": 6,
     "metadata": {},
     "output_type": "execute_result"
    }
   ],
   "source": [
    "channel[:20]"
   ]
  },
  {
   "cell_type": "code",
   "execution_count": 7,
   "metadata": {},
   "outputs": [],
   "source": [
    "#seperate out alice's and bob's events\n",
    "astamps = []\n",
    "achannel = []\n",
    "bstamps = []\n",
    "bchannel = []\n",
    "for (s,c) in zip(stamps, channel):\n",
    "    if (c <=4):\n",
    "        astamps.append(s)\n",
    "        achannel.append(c)\n",
    "    else:\n",
    "        bstamps.append(s)\n",
    "        nc = c-4\n",
    "        \n",
    "        #qutoolsData\n",
    "        '''\n",
    "        if (nc == H):\n",
    "            nc = D\n",
    "        elif (nc == V):\n",
    "            nc = A\n",
    "        elif (nc == A):\n",
    "            nc = H\n",
    "        elif (nc == D):\n",
    "            nc = V\n",
    "        else :\n",
    "            print (\"Error! unknown channel\")\n",
    "            break\n",
    "\n",
    "        '''\n",
    "        #23 Oct Data\n",
    "        if (nc == H):\n",
    "            nc = A\n",
    "        elif (nc == V):\n",
    "            nc = D\n",
    "        elif (nc == A):\n",
    "            nc = H\n",
    "        elif (nc == D):\n",
    "            nc = V\n",
    "        else :\n",
    "            print (\"Error! unknown channel\")\n",
    "            break\n",
    "            \n",
    "        #1st Oct data\n",
    "        '''\n",
    "        if (nc == H):\n",
    "            nc = D\n",
    "        elif (nc == V):\n",
    "            nc = A\n",
    "        elif (nc == A):\n",
    "            nc = H\n",
    "        elif (nc == D):\n",
    "            nc = V\n",
    "        else :\n",
    "            print (\"Error! unknown channel\")\n",
    "            break\n",
    "        '''\n",
    "        '''if (nc == V):\n",
    "            nc = D\n",
    "        elif (nc == D):\n",
    "            nc = V\n",
    "        \n",
    "        if (nc == A):\n",
    "            nc = H\n",
    "        elif (nc == H):\n",
    "            nc = A\n",
    "            \n",
    "        if (nc == A):\n",
    "            nc = D\n",
    "        elif (nc ==D):\n",
    "            nc = A\n",
    "        '''\n",
    "        '''if (nc == A):\n",
    "            nc = H\n",
    "        elif (nc == H):\n",
    "            nc = A\n",
    "        elif (nc == V):\n",
    "            nc = D\n",
    "        elif (nc == D):\n",
    "            nc = V\n",
    "        '''\n",
    "        '''\n",
    "        #24 Aug Data\n",
    "        if ( nc == H ):\n",
    "            nc = A\n",
    "        elif ( nc == V):\n",
    "            nc = D\n",
    "        elif ( nc == A):\n",
    "            nc = V\n",
    "        elif (nc == D):\n",
    "            nc = H\n",
    "        else :\n",
    "            print (\"Error! unknown channel\")\n",
    "            break\n",
    "        '''   \n",
    "        '''if ( nc == H):\n",
    "            nc = D\n",
    "        elif (nc==D):\n",
    "            nc = H\n",
    "        \n",
    "        if ( nc == A):\n",
    "            nc = V\n",
    "        elif (nc ==V):\n",
    "            nc = A\n",
    "        \n",
    "        if ( nc == A):\n",
    "            nc = D\n",
    "        elif ( nc == D):\n",
    "            nc = A'''\n",
    "        \n",
    "        '''#28th and 29th July data\n",
    "        if (nc == D):\n",
    "            nc = H\n",
    "        elif (nc == H):\n",
    "            nc = A\n",
    "        elif (nc == A):\n",
    "            nc = V\n",
    "        elif (nc== V):\n",
    "            nc = D'''\n",
    "        \n",
    "        '''\n",
    "        # 14 july data\n",
    "        if (nc==3):\n",
    "            nc = 4\n",
    "        elif (nc == 4):\n",
    "            nc = 3\n",
    "            \n",
    "        '''        \n",
    "        bchannel.append(nc)"
   ]
  },
  {
   "cell_type": "code",
   "execution_count": 8,
   "metadata": {},
   "outputs": [
    {
     "data": {
      "text/plain": [
       "46969"
      ]
     },
     "execution_count": 8,
     "metadata": {},
     "output_type": "execute_result"
    }
   ],
   "source": [
    "len(astamps)"
   ]
  },
  {
   "cell_type": "code",
   "execution_count": 9,
   "metadata": {},
   "outputs": [
    {
     "data": {
      "text/plain": [
       "53031"
      ]
     },
     "execution_count": 9,
     "metadata": {},
     "output_type": "execute_result"
    }
   ],
   "source": [
    "len(bstamps)"
   ]
  },
  {
   "cell_type": "code",
   "execution_count": 10,
   "metadata": {},
   "outputs": [
    {
     "data": {
      "text/plain": [
       "577447917"
      ]
     },
     "execution_count": 10,
     "metadata": {},
     "output_type": "execute_result"
    }
   ],
   "source": [
    "577447917"
   ]
  },
  {
   "cell_type": "code",
   "execution_count": 11,
   "metadata": {},
   "outputs": [
    {
     "data": {
      "text/plain": [
       "100000"
      ]
     },
     "execution_count": 11,
     "metadata": {},
     "output_type": "execute_result"
    }
   ],
   "source": [
    "len(bstamps)+len(astamps)"
   ]
  },
  {
   "cell_type": "code",
   "execution_count": 12,
   "metadata": {},
   "outputs": [],
   "source": [
    "#convert the resolution to 1/8 of a nanosecond\n",
    "#saverawevents"
   ]
  },
  {
   "cell_type": "code",
   "execution_count": 13,
   "metadata": {},
   "outputs": [
    {
     "data": {
      "text/plain": [
       "0.010615387247"
      ]
     },
     "execution_count": 13,
     "metadata": {},
     "output_type": "execute_result"
    }
   ],
   "source": [
    "(bstamps[-1] - bstamps[0])/10**12"
   ]
  },
  {
   "cell_type": "code",
   "execution_count": 14,
   "metadata": {},
   "outputs": [],
   "source": [
    "bob_dark = len(bchannel)/9.9701281539"
   ]
  },
  {
   "cell_type": "code",
   "execution_count": 15,
   "metadata": {},
   "outputs": [
    {
     "data": {
      "text/plain": [
       "43.91661286712264"
      ]
     },
     "execution_count": 15,
     "metadata": {},
     "output_type": "execute_result"
    }
   ],
   "source": [
    "alice_single = 5504381.190504\n",
    "\n",
    "c_window = 1500/(10**12)\n",
    "\n",
    "dark_coin = alice_single * bob_dark * c_window\n",
    "dark_coin"
   ]
  },
  {
   "cell_type": "code",
   "execution_count": 16,
   "metadata": {},
   "outputs": [
    {
     "data": {
      "text/plain": [
       "[2, 3, 1, 3, 4, 1, 2, 2, 1, 3]"
      ]
     },
     "execution_count": 16,
     "metadata": {},
     "output_type": "execute_result"
    }
   ],
   "source": [
    "achannel[:10]"
   ]
  },
  {
   "cell_type": "code",
   "execution_count": 17,
   "metadata": {},
   "outputs": [
    {
     "data": {
      "text/plain": [
       "46969"
      ]
     },
     "execution_count": 17,
     "metadata": {},
     "output_type": "execute_result"
    }
   ],
   "source": [
    "len(astamps)"
   ]
  },
  {
   "cell_type": "code",
   "execution_count": 18,
   "metadata": {},
   "outputs": [
    {
     "data": {
      "text/plain": [
       "1.74857e-05"
      ]
     },
     "execution_count": 18,
     "metadata": {},
     "output_type": "execute_result"
    }
   ],
   "source": [
    "100*(astamps[3] - astamps[2])/10**12"
   ]
  },
  {
   "cell_type": "code",
   "execution_count": 19,
   "metadata": {},
   "outputs": [
    {
     "data": {
      "text/plain": [
       "8.91781585036184"
      ]
     },
     "execution_count": 19,
     "metadata": {},
     "output_type": "execute_result"
    }
   ],
   "source": [
    "5504381.190504 * 1080.087 * c_window\n",
    "\n"
   ]
  },
  {
   "cell_type": "code",
   "execution_count": 17,
   "metadata": {},
   "outputs": [],
   "source": [
    "def coincount(at,ad,bt,bd,amd=H,bmd=H,cwindow=1000,shift=0 ):\n",
    "    #print(\"coincount: \",amd,bmd,cwindow,shift)\n",
    "    ia = 0\n",
    "    ib = 0\n",
    "    coin_count = 0\n",
    "    while (ia<len(at) and ib <len(bt)):\n",
    "        #ignore beacon events\n",
    "        if (ad[ia]!=amd):\n",
    "            ia+=1\n",
    "            continue\n",
    "        if (bd[ib]!=bmd):\n",
    "            ib+=1\n",
    "            continue\n",
    "            \n",
    "        diff = bt[ib]- at[ia] + shift\n",
    "\n",
    "        if (abs(diff)<=cwindow):\n",
    "            coin_count +=1\n",
    "            \n",
    "            ia+=1\n",
    "            ib+=1\n",
    "            #continue\n",
    "        elif (diff>cwindow):\n",
    "            ia+=1\n",
    "            #continue\n",
    "        elif( diff <-cwindow):\n",
    "            ib+=1\n",
    "            #continue\n",
    "        else:\n",
    "            print (\"ERROR! I should not be here\")\n",
    "            break\n",
    "    return coin_count\n"
   ]
  },
  {
   "cell_type": "code",
   "execution_count": 18,
   "metadata": {},
   "outputs": [],
   "source": [
    "#x = coincount(astamps, achannel,bstamps, bchannel, H, H,cwindow=1000,shift=0)\n",
    "#x"
   ]
  },
  {
   "cell_type": "code",
   "execution_count": null,
   "metadata": {},
   "outputs": [],
   "source": []
  },
  {
   "cell_type": "code",
   "execution_count": 19,
   "metadata": {},
   "outputs": [],
   "source": [
    "def g2_heisto(at,ad,bt,bd,amd=H,bmd=H,cwindow=1000,search_steps=10, step_size_ps = 500,search_direction=1):\n",
    "    heisto = []\n",
    "    i = 0\n",
    "    count = 0\n",
    "    while(i<search_steps):\n",
    "        shift = i*step_size_ps*search_direction\n",
    "        count = coincount(at, ad,bt, bd, amd,bmd,cwindow=cwindow,shift=shift)\n",
    "        #print (count)\n",
    "        heisto.append(count)\n",
    "        i += 1\n",
    "    return heisto "
   ]
  },
  {
   "cell_type": "code",
   "execution_count": 20,
   "metadata": {},
   "outputs": [
    {
     "data": {
      "text/plain": [
       "46969"
      ]
     },
     "execution_count": 20,
     "metadata": {},
     "output_type": "execute_result"
    }
   ],
   "source": [
    "len(astamps)"
   ]
  },
  {
   "cell_type": "code",
   "execution_count": 21,
   "metadata": {},
   "outputs": [
    {
     "data": {
      "text/plain": [
       "1231127037723"
      ]
     },
     "execution_count": 21,
     "metadata": {},
     "output_type": "execute_result"
    }
   ],
   "source": [
    "astamps[0]"
   ]
  },
  {
   "cell_type": "code",
   "execution_count": 22,
   "metadata": {},
   "outputs": [
    {
     "data": {
      "text/plain": [
       "'h = g2_heisto(astamps, achannel,bstamps, bchannel, amd=A ,bmd=V,cwindow=500,search_steps=20,search_direction=-1)\\nprint (h)\\nprint(h.index(max(h)))\\nplt.title(\\'HA cross correlation\\')\\nplt.xlabel(\"shift (500ps)\")\\nplt.ylabel(\"counts\")\\nplt.plot(h,\\'-bo\\')'"
      ]
     },
     "execution_count": 22,
     "metadata": {},
     "output_type": "execute_result"
    }
   ],
   "source": [
    "'''h = g2_heisto(astamps, achannel,bstamps, bchannel, amd=A ,bmd=V,cwindow=500,search_steps=20,search_direction=-1)\n",
    "print (h)\n",
    "print(h.index(max(h)))\n",
    "plt.title('HA cross correlation')\n",
    "plt.xlabel(\"shift (500ps)\")\n",
    "plt.ylabel(\"counts\")\n",
    "plt.plot(h,'-bo')'''"
   ]
  },
  {
   "cell_type": "code",
   "execution_count": 23,
   "metadata": {},
   "outputs": [],
   "source": [
    "detectors = [\"_\",\"H\",\"V\",\"A\",\"D\"]"
   ]
  },
  {
   "cell_type": "code",
   "execution_count": 24,
   "metadata": {},
   "outputs": [
    {
     "name": "stdout",
     "output_type": "stream",
     "text": [
      "detectors H H \tshiftsteps 30 \tcoincount 1628\n",
      "detectors H V \tshiftsteps 8 \tcoincount 40\n",
      "detectors H A \tshiftsteps 29 \tcoincount 837\n",
      "detectors H D \tshiftsteps 29 \tcoincount 797\n",
      "detectors V H \tshiftsteps 26 \tcoincount 38\n",
      "detectors V V \tshiftsteps 26 \tcoincount 2087\n",
      "detectors V A \tshiftsteps 25 \tcoincount 895\n",
      "detectors V D \tshiftsteps 26 \tcoincount 1097\n",
      "detectors A H \tshiftsteps 24 \tcoincount 581\n",
      "detectors A V \tshiftsteps 24 \tcoincount 553\n",
      "detectors A A \tshiftsteps 23 \tcoincount 980\n",
      "detectors A D \tshiftsteps 23 \tcoincount 46\n",
      "detectors D H \tshiftsteps 29 \tcoincount 513\n",
      "detectors D V \tshiftsteps 29 \tcoincount 575\n",
      "detectors D A \tshiftsteps 29 \tcoincount 45\n",
      "detectors D D \tshiftsteps 29 \tcoincount 1086\n"
     ]
    },
    {
     "data": {
      "image/png": "[encoded data removed]",
      "text/plain": [
       "<Figure size 432x288 with 1 Axes>"
      ]
     },
     "metadata": {
      "needs_background": "light"
     },
     "output_type": "display_data"
    }
   ],
   "source": [
    "for i in range (1,5):\n",
    "    for j in range (1,5):\n",
    "        if(True):\n",
    "            h = g2_heisto(astamps, achannel,bstamps, bchannel, amd=i, bmd=j,cwindow=750,search_steps=40,step_size_ps=250,search_direction=-1)\n",
    "            print (\"detectors\", detectors[i],detectors[j],\"\\tshiftsteps\",h.index(max(h)),\"\\tcoincount\",max(h))\n",
    "            #if (i==j) \n",
    "            plt.plot(h, marker='o', label=detectors[i]+detectors[j])\n",
    "\n",
    "plt.title(\"Matching\")\n",
    "plt.xlabel(\"Shift (250ps)\")\n",
    "plt.ylabel(\"count\")\n",
    "#plt.legend()\n",
    "plt.savefig(\"./plots/Matching.jpg\")\n",
    "plt.show()"
   ]
  },
  {
   "cell_type": "code",
   "execution_count": 25,
   "metadata": {},
   "outputs": [
    {
     "data": {
      "image/png": "[encoded data removed]",
      "text/plain": [
       "<Figure size 432x288 with 1 Axes>"
      ]
     },
     "metadata": {
      "needs_background": "light"
     },
     "output_type": "display_data"
    }
   ],
   "source": [
    "a = [2,3,2,5]\n",
    "b = [3.4,1,9]\n",
    "\n",
    "plt.plot(a,marker='o',label=\"a\")\n",
    "plt.plot(b,label='b')\n",
    "plt.legend()\n",
    "plt.show()"
   ]
  },
  {
   "cell_type": "code",
   "execution_count": 26,
   "metadata": {},
   "outputs": [],
   "source": [
    "def correct_timestamp(stamps,detectors,step_size_ps=250,sH=0,sV=0,sA=0,sD=0):\n",
    "    cstamp=[]\n",
    "    ts = 0\n",
    "    for (s,d) in zip (stamps,detectors):\n",
    "        ts = s\n",
    "        if(d==H): \n",
    "            ts+=sH*step_size_ps\n",
    "        elif(d==V):\n",
    "            ts+=sV*step_size_ps\n",
    "        elif(d==A):\n",
    "            ts+=sA*step_size_ps\n",
    "        elif(d==D):\n",
    "            ts+=sD*step_size_ps      \n",
    "        cstamp.append(ts)\n",
    "        \n",
    "    print (step_size_ps*sH,step_size_ps*sV,step_size_ps*sA,step_size_ps*sD)\n",
    "    \n",
    "    return cstamp"
   ]
  },
  {
   "cell_type": "code",
   "execution_count": 27,
   "metadata": {},
   "outputs": [
    {
     "name": "stdout",
     "output_type": "stream",
     "text": [
      "0 -750 -1500 0\n"
     ]
    }
   ],
   "source": [
    "#correct alice HV delay missmatch add 500ps to alice's V \n",
    "#astamps_corrected = correct_timestamp(astamps,achannel,sH=0,sV=-1*500,sA=0,sD=-2*500) #28 july data\n",
    "#astamps_corrected = correct_timestamp(astamps,achannel,sH=0,sV=-2*500,sA=0,sD=-2*500) # 24 Aug data\n",
    "#astamps_corrected = correct_timestamp(astamps,achannel,sH=0,sV=-2*500,sA=-3*500,sD=-1*500) # 23rd Oct data\n",
    "#astamps_corrected = correct_timestamp(astamps,achannel,step_size_ps=250,sH=0,sV=-3,sA=-5,sD=-1) # 26rd Oct data\n",
    "astamps_corrected = correct_timestamp(astamps,achannel,step_size_ps=250,sH=0,sV=-3,sA=-6,sD=0) #23rd Oct new calibration\n"
   ]
  },
  {
   "cell_type": "code",
   "execution_count": 28,
   "metadata": {},
   "outputs": [],
   "source": [
    "## h = g2_heisto(astamps_corrected, achannel,bstamps, bchannel, amd=H, bmd=H,cwindow=500,search_steps=30,search_direction=-1)\n",
    "#print (h)\n",
    "#h.index(max(h))"
   ]
  },
  {
   "cell_type": "code",
   "execution_count": 29,
   "metadata": {},
   "outputs": [
    {
     "name": "stdout",
     "output_type": "stream",
     "text": [
      "0 250 250 250\n"
     ]
    }
   ],
   "source": [
    "### correct Bob\n",
    "# add 7 To Bob's A basis\n",
    "#bstamps_corrected = correct_timestamp(bstamps,bchannel,sH=0,sV=1*500,sA=-5*500,sD=1*500) # 28 july data\n",
    "#bstamps_corrected = correct_timestamp(bstamps,bchannel,sH=0,sV=1*500,sA=1*500,sD=1*500) # 24 Aug data\n",
    "#bstamps_corrected = correct_timestamp(bstamps,bchannel,sH=0,sV=-1*500,sA=0,sD=0) # 23rd Oct data\n",
    "#bstamps_corrected = correct_timestamp(bstamps,bchannel,step_size_ps = 250, sH=0,sV=0,sA=1,sD=1) # 26rd Oct data\n",
    "bstamps_corrected = correct_timestamp(bstamps,bchannel,step_size_ps = 250, sH=0,sV=1,sA=1,sD=1) #23rdOct new\n"
   ]
  },
  {
   "cell_type": "code",
   "execution_count": 50,
   "metadata": {
    "scrolled": true
   },
   "outputs": [
    {
     "name": "stdout",
     "output_type": "stream",
     "text": [
      "[17, 16, 16, 18, 17, 17, 16, 17, 16, 18, 17, 14, 14, 14, 14, 10, 10, 12, 15, 17, 19, 20, 22, 27, 35, 64, 141, 356, 679, 907, 980, 971, 904, 694, 369, 130, 49, 30, 16, 12]\n",
      "shift = 30\n"
     ]
    },
    {
     "data": {
      "text/plain": [
       "[<matplotlib.lines.Line2D at 0x7fb692ebc8e0>]"
      ]
     },
     "execution_count": 50,
     "metadata": {},
     "output_type": "execute_result"
    },
    {
     "data": {
      "image/png": "[encoded data removed]",
      "text/plain": [
       "<Figure size 432x288 with 1 Axes>"
      ]
     },
     "metadata": {
      "needs_background": "light"
     },
     "output_type": "display_data"
    }
   ],
   "source": [
    "# HH H(D) (D)D D(V) (V)V H(A) (A)A \n",
    "h = g2_heisto(astamps_corrected, achannel,bstamps_corrected, bchannel, amd=A, bmd=A,cwindow=750,search_steps=40,step_size_ps = 250,search_direction=-1)\n",
    "print (h)\n",
    "print(\"shift =\",h.index(max(h)))\n",
    "plt.title('cross correlation')\n",
    "plt.xlabel(\"shift (250ps)\")\n",
    "plt.ylabel(\"counts\")\n",
    "plt.plot(h,'-bo')\n"
   ]
  },
  {
   "cell_type": "code",
   "execution_count": 51,
   "metadata": {},
   "outputs": [],
   "source": [
    "hh = {}"
   ]
  },
  {
   "cell_type": "code",
   "execution_count": null,
   "metadata": {},
   "outputs": [],
   "source": []
  },
  {
   "cell_type": "code",
   "execution_count": null,
   "metadata": {},
   "outputs": [],
   "source": []
  },
  {
   "cell_type": "code",
   "execution_count": 52,
   "metadata": {
    "scrolled": true
   },
   "outputs": [
    {
     "name": "stdout",
     "output_type": "stream",
     "text": [
      "detectors H H \tshiftsteps 30 \tcoincount 1628\n",
      "detectors H V \tshiftsteps 9 \tcoincount 40\n",
      "detectors H A \tshiftsteps 30 \tcoincount 837\n",
      "detectors H D \tshiftsteps 30 \tcoincount 797\n",
      "detectors V H \tshiftsteps 29 \tcoincount 38\n",
      "detectors V V \tshiftsteps 30 \tcoincount 2087\n",
      "detectors V A \tshiftsteps 29 \tcoincount 895\n",
      "detectors V D \tshiftsteps 30 \tcoincount 1097\n",
      "detectors A H \tshiftsteps 30 \tcoincount 581\n",
      "detectors A V \tshiftsteps 31 \tcoincount 553\n",
      "detectors A A \tshiftsteps 30 \tcoincount 980\n",
      "detectors A D \tshiftsteps 30 \tcoincount 46\n",
      "detectors D H \tshiftsteps 29 \tcoincount 513\n",
      "detectors D V \tshiftsteps 30 \tcoincount 575\n",
      "detectors D A \tshiftsteps 30 \tcoincount 45\n",
      "detectors D D \tshiftsteps 30 \tcoincount 1086\n"
     ]
    }
   ],
   "source": [
    "for i in range (1,5):\n",
    "    for j in range (1,5):\n",
    "        \n",
    "        h = g2_heisto(astamps_corrected, achannel,bstamps_corrected, bchannel, amd=i, bmd=j,cwindow=750,search_steps=40,step_size_ps = 250,search_direction=-1)\n",
    "        hh[str(i)+str(j)] = h\n",
    "        \n",
    "        print (\"detectors\", detectors[i],detectors[j],\"\\tshiftsteps\",h.index(max(h)),\"\\tcoincount\",max(h))"
   ]
  },
  {
   "cell_type": "code",
   "execution_count": 53,
   "metadata": {},
   "outputs": [
    {
     "name": "stdout",
     "output_type": "stream",
     "text": [
      "detectors H H\n",
      "detectors V V\n",
      "detectors A A\n",
      "detectors D D\n"
     ]
    },
    {
     "data": {
      "image/png": "[encoded data removed]",
      "text/plain": [
       "<Figure size 432x288 with 1 Axes>"
      ]
     },
     "metadata": {
      "needs_background": "light"
     },
     "output_type": "display_data"
    }
   ],
   "source": [
    "for i in range (1,5):\n",
    "    for j in range (1,5):\n",
    "        if(i==j):\n",
    "            #h = g2_heisto(astamps, achannel,bstamps, bchannel, amd=i, bmd=j,cwindow=500,search_steps=20,search_direction=-1)\n",
    "            print (\"detectors\", detectors[i],detectors[j])\n",
    "            #if (i==j) \n",
    "            plt.plot(hh[str(i)+str(j)], marker='o', label=detectors[i]+detectors[j])\n",
    "\n",
    "plt.title(\"Corrected_all\")\n",
    "plt.xlabel(\"Shift (500ps)\")\n",
    "plt.ylabel(\"count\")\n",
    "plt.legend()\n",
    "plt.savefig(\"./plots/Corrected_all.jpg\")\n",
    "plt.show()"
   ]
  },
  {
   "cell_type": "code",
   "execution_count": 54,
   "metadata": {},
   "outputs": [],
   "source": [
    "#h = g2_heisto(astamps_corrected, achannel,bstamps_corrected, bchannel, amd=D, bmd=D,cwindow=500,search_steps=20,search_direction=-1)\n",
    "#print (h)\n",
    "#h.index(max(h))"
   ]
  },
  {
   "cell_type": "code",
   "execution_count": 55,
   "metadata": {},
   "outputs": [
    {
     "name": "stdout",
     "output_type": "stream",
     "text": [
      "[15, 14, 14, 14, 16, 12, 9, 11, 14, 13, 11, 12, 20, 22, 21, 23, 25, 23, 16, 15, 17, 18, 25, 31, 49, 129, 335, 717, 1006, 1085, 1086, 1012, 804, 421, 124, 40, 22, 18, 15, 16]\n"
     ]
    }
   ],
   "source": [
    "print (hh[str(4)+str(4)])"
   ]
  },
  {
   "cell_type": "code",
   "execution_count": 30,
   "metadata": {},
   "outputs": [],
   "source": [
    "def match_coincidence(at,ad,bt,bd,cwindow,shift):\n",
    "    ia = 0\n",
    "    ib = 0\n",
    "    acoin_indexes = []\n",
    "    bcoin_indexes = []\n",
    "    while (ia<len(at) and ib <len(bt)):\n",
    "        \n",
    "        diff = bt[ib]- at[ia] + shift\n",
    "\n",
    "        if (abs(diff)<=cwindow):\n",
    "            #coin_count +=1\n",
    "            acoin_indexes.append(ia)\n",
    "            bcoin_indexes.append(ib)\n",
    "            ia+=1\n",
    "            ib+=1\n",
    "            #continue\n",
    "        elif (diff>cwindow):\n",
    "            ia+=1\n",
    "            #continue\n",
    "        elif( diff <-cwindow):\n",
    "            ib+=1\n",
    "            #continue\n",
    "        else:\n",
    "            print (\"ERROR! I should not be here\")\n",
    "            break\n",
    "    return acoin_indexes,bcoin_indexes\n",
    "\n"
   ]
  },
  {
   "cell_type": "code",
   "execution_count": 35,
   "metadata": {},
   "outputs": [],
   "source": [
    "ac_indexes,bc_indexes = match_coincidence(astamps_corrected,achannel,bstamps_corrected,bchannel,1500,-7500)"
   ]
  },
  {
   "cell_type": "code",
   "execution_count": 82,
   "metadata": {},
   "outputs": [
    {
     "data": {
      "text/plain": [
       "34"
      ]
     },
     "execution_count": 82,
     "metadata": {},
     "output_type": "execute_result"
    }
   ],
   "source": [
    "def hex_from_bitmap(ap,bp):\n",
    "    h=0\n",
    "    for i in ap: \n",
    "        h<<=1\n",
    "        h= h|i\n",
    "    for i in bp: \n",
    "        h<<=1\n",
    "        h= h|i    \n",
    "    #print (hex(h) )\n",
    "    return h\n",
    "    \n",
    "hex_from_bitmap([0,0,1,0],[0,0,1,0])"
   ]
  },
  {
   "cell_type": "code",
   "execution_count": 83,
   "metadata": {},
   "outputs": [
    {
     "data": {
      "text/plain": [
       "4"
      ]
     },
     "execution_count": 83,
     "metadata": {},
     "output_type": "execute_result"
    }
   ],
   "source": [
    "h = 1\n",
    "h<<=2\n",
    "\n",
    "h"
   ]
  },
  {
   "cell_type": "code",
   "execution_count": 84,
   "metadata": {},
   "outputs": [
    {
     "name": "stdout",
     "output_type": "stream",
     "text": [
      "atype 84 btype 120\n",
      "12423 12423 12423\n"
     ]
    }
   ],
   "source": [
    "def match_multi_coincidences(at,ad,bt,bd,cwindow,shift):\n",
    "    ia = 0\n",
    "    ib = 0\n",
    "    acoin_indexes = []\n",
    "    bcoin_indexes = []\n",
    "    coin_events =[]\n",
    "    count_Atype=0\n",
    "    count_Btype=0\n",
    "    while (ia<len(at) and ib <len(bt)):\n",
    "        \n",
    "        diff = bt[ib]- at[ia] + shift\n",
    "\n",
    "        if (abs(diff)<=cwindow):\n",
    "            acoin_indexes.append(ia)\n",
    "            bcoin_indexes.append(ib)\n",
    "            \n",
    "            ap = [0,0,0,0]\n",
    "            bp= [0,0,0,0]\n",
    "            #coin_count +=1\n",
    "            \n",
    "            #multi_coincidence_logic \n",
    "            ap[ad[ia]-1]=1\n",
    "            bp[bd[ib]-1]=1\n",
    "            c_root = at[ia]\n",
    "            #find alice's muilti events\n",
    "            for i in range(3):\n",
    "                ia+=1\n",
    "                if (ia>=len(at)): \n",
    "                    break \n",
    "                if (at[ia] - c_root)>cwindow:\n",
    "                    break\n",
    "                ap[ad[ia]-1]=1\n",
    "                #print(\"found A type\")\n",
    "                count_Atype+=1\n",
    "                #break\n",
    "            \n",
    "            #find bob's multi events\n",
    "            for i in range(3):\n",
    "                ib+=1\n",
    "                if (ib>=len(at)): \n",
    "                    break\n",
    "                diff_m = bt[ib]- c_root + shift\n",
    "                \n",
    "                if abs(diff_m)>cwindow:\n",
    "                    break\n",
    "                bp[bd[ib]-1]=1\n",
    "                \n",
    "                #print(\"found B type\")\n",
    "                count_Btype+=1\n",
    "                \n",
    "                \n",
    "            \n",
    "            #ia+=1\n",
    "            #ib+=1\n",
    "            #continue\n",
    "            event = hex_from_bitmap(ap,bp)\n",
    "            coin_events.append(event)\n",
    "        elif (diff>cwindow):\n",
    "            ia+=1\n",
    "            #continue\n",
    "        elif( diff <-cwindow):\n",
    "            ib+=1\n",
    "            #continue\n",
    "        else:\n",
    "            print (\"ERROR! I should not be here\")\n",
    "            break\n",
    "    print (\"atype\",count_Atype,\"btype\",count_Btype)\n",
    "    return acoin_indexes,bcoin_indexes, coin_events\n",
    "ac_indexes,bc_indexes,coin_events = match_multi_coincidences(astamps_corrected,achannel,bstamps_corrected,bchannel,1500,-7500)\n",
    "print (len(ac_indexes),len(bc_indexes),len(coin_events) )"
   ]
  },
  {
   "cell_type": "code",
   "execution_count": 64,
   "metadata": {},
   "outputs": [
    {
     "name": "stdout",
     "output_type": "stream",
     "text": [
      "['1', '2']\n"
     ]
    }
   ],
   "source": []
  },
  {
   "cell_type": "code",
   "execution_count": 58,
   "metadata": {},
   "outputs": [
    {
     "name": "stdout",
     "output_type": "stream",
     "text": [
      "1231127257818 1231127265907\n",
      "diff 1589\n"
     ]
    }
   ],
   "source": [
    "i = 1\n",
    "j = 0\n",
    "print(astamps_corrected[i], bstamps_corrected[j])\n",
    "print(\"diff\",bstamps_corrected[j]-astamps_corrected[i]-13*500 )"
   ]
  },
  {
   "cell_type": "code",
   "execution_count": 59,
   "metadata": {},
   "outputs": [
    {
     "data": {
      "text/plain": [
       "12435"
      ]
     },
     "execution_count": 59,
     "metadata": {},
     "output_type": "execute_result"
    }
   ],
   "source": [
    "len(ac_indexes)"
   ]
  },
  {
   "cell_type": "code",
   "execution_count": 60,
   "metadata": {},
   "outputs": [
    {
     "data": {
      "text/plain": [
       "0"
      ]
     },
     "execution_count": 60,
     "metadata": {},
     "output_type": "execute_result"
    }
   ],
   "source": [
    "bc_indexes[0]\n"
   ]
  },
  {
   "cell_type": "code",
   "execution_count": 61,
   "metadata": {},
   "outputs": [
    {
     "data": {
      "text/plain": [
       "484234"
      ]
     },
     "execution_count": 61,
     "metadata": {},
     "output_type": "execute_result"
    }
   ],
   "source": [
    "bstamps_corrected[1]- astamps_corrected[1] - 6500"
   ]
  },
  {
   "cell_type": "code",
   "execution_count": null,
   "metadata": {},
   "outputs": [],
   "source": [
    "print(astamps_corrected[51],bstamps_corrected[76], bstamps_corrected[76] - astamps_corrected[51]-9*500)"
   ]
  },
  {
   "cell_type": "code",
   "execution_count": null,
   "metadata": {},
   "outputs": [],
   "source": [
    "basis_count = 0\n",
    "error_count = 0\n",
    "for (a,b) in zip(ac_indexes,bc_indexes):\n",
    "    da = achannel[a]\n",
    "    db = bchannel[b]\n",
    "    if (da >= 3 and db >= 3):\n",
    "        #basis HV\n",
    "        #print(da,db)\n",
    "        basis_count+=1\n",
    "        if (da!=db):\n",
    "            error_count+=1\n",
    "    if( da<3 and db <3):\n",
    "        #print (da,db)\n",
    "        if(da!=db):\n",
    "            error_count+=1\n",
    "        basis_count+=1"
   ]
  },
  {
   "cell_type": "code",
   "execution_count": null,
   "metadata": {},
   "outputs": [],
   "source": [
    "basis_count"
   ]
  },
  {
   "cell_type": "code",
   "execution_count": null,
   "metadata": {},
   "outputs": [],
   "source": [
    "error_count"
   ]
  },
  {
   "cell_type": "code",
   "execution_count": null,
   "metadata": {},
   "outputs": [],
   "source": [
    "QBER = error_count / basis_count\n",
    "QBER*100"
   ]
  },
  {
   "cell_type": "code",
   "execution_count": null,
   "metadata": {},
   "outputs": [],
   "source": [
    "astamps_corrected[0:10]"
   ]
  },
  {
   "cell_type": "code",
   "execution_count": null,
   "metadata": {},
   "outputs": [],
   "source": [
    "bstamps_corrected[0:10]"
   ]
  },
  {
   "cell_type": "code",
   "execution_count": null,
   "metadata": {
    "scrolled": true
   },
   "outputs": [],
   "source": [
    "len (ac_indexes) / len(astamps_corrected)"
   ]
  },
  {
   "cell_type": "code",
   "execution_count": null,
   "metadata": {},
   "outputs": [],
   "source": [
    "duration = astamps[-1]-astamps[0]\n",
    "duration / (10**12)"
   ]
  },
  {
   "cell_type": "code",
   "execution_count": null,
   "metadata": {},
   "outputs": [],
   "source": [
    "len(astamps)/10"
   ]
  },
  {
   "cell_type": "markdown",
   "metadata": {},
   "source": [
    "Singles rate 3.4 Million/s\n",
    "coincidence rate 333 K/s \n",
    "QBER = 3.7 %\n",
    "coincidence window 500 ps\n",
    "\n",
    "for coincidence window of 1 ns QBER is around 4.2 %\n"
   ]
  },
  {
   "cell_type": "code",
   "execution_count": null,
   "metadata": {},
   "outputs": [],
   "source": []
  },
  {
   "cell_type": "code",
   "execution_count": null,
   "metadata": {},
   "outputs": [],
   "source": []
  },
  {
   "cell_type": "code",
   "execution_count": null,
   "metadata": {},
   "outputs": [],
   "source": []
  }
 ],
 "metadata": {
  "kernelspec": {
   "display_name": "Python 3",
   "language": "python",
   "name": "python3"
  },
  "language_info": {
   "codemirror_mode": {
    "name": "ipython",
    "version": 3
   },
   "file_extension": ".py",
   "mimetype": "text/x-python",
   "name": "python",
   "nbconvert_exporter": "python",
   "pygments_lexer": "ipython3",
   "version": "3.8.2"
  }
 },
 "nbformat": 4,
 "nbformat_minor": 4
}
