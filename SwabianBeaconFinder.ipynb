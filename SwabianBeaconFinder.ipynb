{
 "cells": [
  {
   "cell_type": "code",
   "execution_count": 236,
   "metadata": {},
   "outputs": [],
   "source": [
    "from TimeTagger import FileReader\n",
    "import numpy as np\n",
    "import easygui\n",
    "import numpy as np\n",
    "import matplotlib.pyplot as plt"
   ]
  },
  {
   "cell_type": "markdown",
   "metadata": {},
   "source": [
    "We know that H and V got swapped in BOB so I must correct for it in code. "
   ]
  },
  {
   "cell_type": "code",
   "execution_count": 237,
   "metadata": {},
   "outputs": [],
   "source": [
    "#GLOBAL DEFINITIONS\n",
    "H = 1\n",
    "V = 2\n",
    "A = 3\n",
    "D = 4\n"
   ]
  },
  {
   "cell_type": "code",
   "execution_count": 238,
   "metadata": {},
   "outputs": [],
   "source": [
    "#folder = r'C:\\Data\\\\'\n",
    "folder = \"./swabian/4thNov2020_WithBeacon\"\n",
    "#file = '2.97mW_1.1.ttbin'\n",
    "file = \"3_5mW_00dB_witB.1.ttbin\"\n",
    "filepath = folder + '/' + file\n",
    "\n",
    "#filepath = easygui.fileopenbox(default = folder)"
   ]
  },
  {
   "cell_type": "code",
   "execution_count": 239,
   "metadata": {},
   "outputs": [],
   "source": [
    "def loadSwabianTimeStamps(fileIn, t = np.inf):\n",
    "    \n",
    "        file_reader = FileReader(fileIn)\n",
    "        stamps = []\n",
    "        channel = []\n",
    "        \n",
    "        \n",
    "        while file_reader.hasData():\n",
    "            n_events = 100000; # Number of events to read at once\n",
    "            #n_events = 200000; # Number of events to read at once\n",
    "            \n",
    "            # Read at most n_events.\n",
    "            data = file_reader.getData(n_events);  # data is an instance of TimeTagStreamBuffer\n",
    "\n",
    "            channelTmp = data.getChannels()\n",
    "            stampsTmp = data.getTimestamps()\n",
    "          #  overflow_types = data.getEventTypes()   # TimeTag = 0, Error = 1, OverflowBegin = 2, OverflowEnd = 3, MissedEvents = 4\n",
    "          #  missed_events = data.getMissedEvents()\n",
    "            \n",
    "            for i in range(len(channelTmp)):\n",
    "                channel.append(channelTmp[i])\n",
    "                stamps.append(stampsTmp[i])\n",
    "            break\n",
    "            if stamps[-1] - stamps[0] > t:\n",
    "                break\n",
    "        return stamps, channel\n"
   ]
  },
  {
   "cell_type": "code",
   "execution_count": 240,
   "metadata": {},
   "outputs": [],
   "source": [
    "stamps, channel = loadSwabianTimeStamps(filepath)"
   ]
  },
  {
   "cell_type": "code",
   "execution_count": 241,
   "metadata": {},
   "outputs": [
    {
     "data": {
      "text/plain": [
       "[7, 4, 1, 7, 5, 8, 2, 5, 2, 6, 7, 5, 4, 8, 7, 8, 4, 3, 7, 6]"
      ]
     },
     "execution_count": 241,
     "metadata": {},
     "output_type": "execute_result"
    }
   ],
   "source": [
    "channel[:20]"
   ]
  },
  {
   "cell_type": "code",
   "execution_count": 242,
   "metadata": {},
   "outputs": [],
   "source": [
    "#seperate out alice's and bob's events\n",
    "astamps = []\n",
    "achannel = []\n",
    "bstamps = []\n",
    "bchannel = []\n",
    "for (s,c) in zip(stamps, channel):\n",
    "    if (c <=4):\n",
    "        astamps.append(s)\n",
    "        achannel.append(c)\n",
    "    else:\n",
    "        bstamps.append(s)\n",
    "        nc = c-4\n",
    "        \n",
    "        #23 Oct Data\n",
    "        if (nc == H):\n",
    "            nc = A\n",
    "        elif (nc == V):\n",
    "            nc = D\n",
    "        elif (nc == A):\n",
    "            nc = H\n",
    "        elif (nc == D):\n",
    "            nc = V\n",
    "        else :\n",
    "            print (\"Error! unknown channel\")\n",
    "            break\n",
    "\n",
    "        '''    \n",
    "        #1st Oct data\n",
    "        \n",
    "        if (nc == H):\n",
    "            nc = D\n",
    "        elif (nc == V):\n",
    "            nc = A\n",
    "        elif (nc == A):\n",
    "            nc = H\n",
    "        elif (nc == D):\n",
    "            nc = V\n",
    "        else :\n",
    "            print (\"Error! unknown channel\")\n",
    "            break\n",
    "        \n",
    "        '''\n",
    "        '''if (nc == V):\n",
    "            nc = D\n",
    "        elif (nc == D):\n",
    "            nc = V\n",
    "        \n",
    "        if (nc == A):\n",
    "            nc = H\n",
    "        elif (nc == H):\n",
    "            nc = A\n",
    "            \n",
    "        if (nc == A):\n",
    "            nc = D\n",
    "        elif (nc ==D):\n",
    "            nc = A\n",
    "        '''\n",
    "        '''if (nc == A):\n",
    "            nc = H\n",
    "        elif (nc == H):\n",
    "            nc = A\n",
    "        elif (nc == V):\n",
    "            nc = D\n",
    "        elif (nc == D):\n",
    "            nc = V\n",
    "        '''\n",
    "        \n",
    "        '''#24 Aug Data\n",
    "        if ( nc == H ):\n",
    "            nc = A\n",
    "        elif ( nc == V):\n",
    "            nc = D\n",
    "        elif ( nc == A):\n",
    "            nc = V\n",
    "        elif (nc == D):\n",
    "            nc = H\n",
    "        else :\n",
    "            print (\"Error! unknown channel\")\n",
    "            break\n",
    "        '''    \n",
    "        '''if ( nc == H):\n",
    "            nc = D\n",
    "        elif (nc==D):\n",
    "            nc = H\n",
    "        \n",
    "        if ( nc == A):\n",
    "            nc = V\n",
    "        elif (nc ==V):\n",
    "            nc = A\n",
    "        \n",
    "        if ( nc == A):\n",
    "            nc = D\n",
    "        elif ( nc == D):\n",
    "            nc = A'''\n",
    "        \n",
    "        '''#28th and 29th July data\n",
    "        if (nc == D):\n",
    "            nc = H\n",
    "        elif (nc == H):\n",
    "            nc = A\n",
    "        elif (nc == A):\n",
    "            nc = V\n",
    "        elif (nc== V):\n",
    "            nc = D'''\n",
    "        \n",
    "        '''\n",
    "        # 14 july data\n",
    "        if (nc==3):\n",
    "            nc = 4\n",
    "        elif (nc == 4):\n",
    "            nc = 3\n",
    "            \n",
    "        '''        \n",
    "        bchannel.append(nc)"
   ]
  },
  {
   "cell_type": "code",
   "execution_count": 243,
   "metadata": {},
   "outputs": [
    {
     "data": {
      "text/plain": [
       "46453"
      ]
     },
     "execution_count": 243,
     "metadata": {},
     "output_type": "execute_result"
    }
   ],
   "source": [
    "len(astamps)"
   ]
  },
  {
   "cell_type": "code",
   "execution_count": 244,
   "metadata": {},
   "outputs": [
    {
     "data": {
      "text/plain": [
       "53547"
      ]
     },
     "execution_count": 244,
     "metadata": {},
     "output_type": "execute_result"
    }
   ],
   "source": [
    "len(bstamps)"
   ]
  },
  {
   "cell_type": "code",
   "execution_count": 245,
   "metadata": {},
   "outputs": [
    {
     "data": {
      "text/plain": [
       "577447917"
      ]
     },
     "execution_count": 245,
     "metadata": {},
     "output_type": "execute_result"
    }
   ],
   "source": [
    "577447917"
   ]
  },
  {
   "cell_type": "code",
   "execution_count": 246,
   "metadata": {},
   "outputs": [
    {
     "data": {
      "text/plain": [
       "100000"
      ]
     },
     "execution_count": 246,
     "metadata": {},
     "output_type": "execute_result"
    }
   ],
   "source": [
    "len(bstamps)+len(astamps)"
   ]
  },
  {
   "cell_type": "code",
   "execution_count": 247,
   "metadata": {},
   "outputs": [],
   "source": [
    "#convert the resolution to 1/8 of a nanosecond\n",
    "#saverawevents"
   ]
  },
  {
   "cell_type": "code",
   "execution_count": 248,
   "metadata": {},
   "outputs": [
    {
     "data": {
      "text/plain": [
       "1.1087489914"
      ]
     },
     "execution_count": 248,
     "metadata": {},
     "output_type": "execute_result"
    }
   ],
   "source": [
    "100*(astamps[-1] - astamps[0])/10**12"
   ]
  },
  {
   "cell_type": "code",
   "execution_count": 249,
   "metadata": {},
   "outputs": [
    {
     "data": {
      "text/plain": [
       "3"
      ]
     },
     "execution_count": 249,
     "metadata": {},
     "output_type": "execute_result"
    }
   ],
   "source": [
    "achannel[-1]"
   ]
  },
  {
   "cell_type": "code",
   "execution_count": 250,
   "metadata": {},
   "outputs": [
    {
     "data": {
      "text/plain": [
       "[1251283797374,\n",
       " 1251284105013,\n",
       " 1251284573523,\n",
       " 1251284736246,\n",
       " 1251284973058,\n",
       " 1251285306850,\n",
       " 1251285310103,\n",
       " 1251286031053,\n",
       " 1251286041214,\n",
       " 1251286258970]"
      ]
     },
     "execution_count": 250,
     "metadata": {},
     "output_type": "execute_result"
    }
   ],
   "source": [
    "astamps[:10]"
   ]
  },
  {
   "cell_type": "code",
   "execution_count": 251,
   "metadata": {},
   "outputs": [
    {
     "data": {
      "text/plain": [
       "[4, 1, 2, 2, 4, 4, 3, 3, 4, 2]"
      ]
     },
     "execution_count": 251,
     "metadata": {},
     "output_type": "execute_result"
    }
   ],
   "source": [
    "achannel[:10]"
   ]
  },
  {
   "cell_type": "code",
   "execution_count": 252,
   "metadata": {},
   "outputs": [
    {
     "data": {
      "text/plain": [
       "46453"
      ]
     },
     "execution_count": 252,
     "metadata": {},
     "output_type": "execute_result"
    }
   ],
   "source": [
    "len(astamps)"
   ]
  },
  {
   "cell_type": "code",
   "execution_count": 253,
   "metadata": {},
   "outputs": [
    {
     "data": {
      "text/plain": [
       "34342903.0"
      ]
     },
     "execution_count": 253,
     "metadata": {},
     "output_type": "execute_result"
    }
   ],
   "source": [
    "2197945792/64"
   ]
  },
  {
   "cell_type": "code",
   "execution_count": 263,
   "metadata": {},
   "outputs": [],
   "source": [
    "def correct_timestamp(stamps,detectors,step_size_ps=250,sH=0,sV=0,sA=0,sD=0):\n",
    "    cstamp=[]\n",
    "    ts = 0\n",
    "    for (s,d) in zip (stamps,detectors):\n",
    "        ts = s\n",
    "        if(d==H): \n",
    "            ts+=sH*step_size_ps\n",
    "        elif(d==V):\n",
    "            ts+=sV*step_size_ps\n",
    "        elif(d==A):\n",
    "            ts+=sA*step_size_ps\n",
    "        elif(d==D):\n",
    "            ts+=sD*step_size_ps      \n",
    "        cstamp.append(ts)\n",
    "        \n",
    "    print (step_size_ps*sH,step_size_ps*sV,step_size_ps*sA,step_size_ps*sD)\n",
    "    \n",
    "    return cstamp"
   ]
  },
  {
   "cell_type": "code",
   "execution_count": 264,
   "metadata": {},
   "outputs": [
    {
     "name": "stdout",
     "output_type": "stream",
     "text": [
      "0 -1000 -250 -1000\n"
     ]
    }
   ],
   "source": [
    "#correct alice HV delay missmatch add 500ps to alice's V \n",
    "#astamps_corrected = correct_timestamp(astamps,achannel,sH=0,sV=-1*500,sA=0,sD=-2*500) #28 july data\n",
    "#astamps_corrected = correct_timestamp(astamps,achannel,sH=0,sV=-2*500,sA=0,sD=-2*500) # 24 Aug data\n",
    "#astamps_corrected = correct_timestamp(astamps,achannel,sH=0,sV=-2*500,sA=-3*500,sD=-1*500) # 23rd Oct data\n",
    "astamps_corrected = correct_timestamp(astamps,achannel,step_size_ps=250,sH=0,sV=-4,sA=-1,sD=-4) # 26rd Oct data\n"
   ]
  },
  {
   "cell_type": "code",
   "execution_count": 265,
   "metadata": {},
   "outputs": [],
   "source": [
    "## h = g2_heisto(astamps_corrected, achannel,bstamps, bchannel, amd=H, bmd=H,cwindow=500,search_steps=30,search_direction=-1)\n",
    "#print (h)\n",
    "#h.index(max(h))"
   ]
  },
  {
   "cell_type": "code",
   "execution_count": 266,
   "metadata": {},
   "outputs": [
    {
     "name": "stdout",
     "output_type": "stream",
     "text": [
      "0 0 250 250\n"
     ]
    }
   ],
   "source": [
    "### correct Bob\n",
    "# add 7 To Bob's A basis\n",
    "#bstamps_corrected = correct_timestamp(bstamps,bchannel,sH=0,sV=1*500,sA=-5*500,sD=1*500) # 28 july data\n",
    "#bstamps_corrected = correct_timestamp(bstamps,bchannel,sH=0,sV=1*500,sA=1*500,sD=1*500) # 24 Aug data\n",
    "#bstamps_corrected = correct_timestamp(bstamps,bchannel,sH=0,sV=-1*500,sA=0,sD=0) # 23rd Oct data\n",
    "bstamps_corrected = correct_timestamp(bstamps,bchannel,step_size_ps = 250,sH=0,sV=0,sA=1,sD=1) # 26rd Oct data\n"
   ]
  },
  {
   "cell_type": "code",
   "execution_count": 268,
   "metadata": {},
   "outputs": [],
   "source": [
    "hh = {}"
   ]
  },
  {
   "cell_type": "code",
   "execution_count": 383,
   "metadata": {},
   "outputs": [],
   "source": [
    "def find_beacons(stamps,channel,cwindow,d_threshold ):\n",
    "    i = 0\n",
    "    beacon_indexes = []\n",
    "    while(i<len(stamps)-3): \n",
    "        found_bitmap = np.zeros((5,), dtype=int)\n",
    "        d_count = 0\n",
    "        shift_i = 0\n",
    "        fd = channel[i]\n",
    "        ft = stamps[i]\n",
    "        found_bitmap[fd] = 1\n",
    "        d_count +=1\n",
    "        \n",
    "        for j in range(1,4):\n",
    "            cd = channel[i+j]\n",
    "            ct = stamps[i+j]\n",
    "            shift_i = j\n",
    "            \n",
    "            if abs(ct-ft) > cwindow :\n",
    "                break\n",
    "                \n",
    "            if found_bitmap[cd]==1:\n",
    "                break\n",
    "            else:                \n",
    "                found_bitmap[cd] = 1\n",
    "                d_count +=1\n",
    "        \n",
    "        if d_count >= d_threshold :\n",
    "            beacon_indexes.append(i)\n",
    "            \n",
    "            #ignore next 200 nanosecond i.e 200,000 pico seconds\n",
    "            while ((i+shift_i) < (len(stamps)-3))  and ((stamps[i+shift_i] - ft) < 200000) :\n",
    "                \n",
    "                shift_i+=1\n",
    "            \n",
    "        i = i+shift_i\n",
    "    \n",
    "    return beacon_indexes\n",
    "            \n",
    "        \n",
    "        \n",
    "        "
   ]
  },
  {
   "cell_type": "code",
   "execution_count": 424,
   "metadata": {},
   "outputs": [
    {
     "data": {
      "text/plain": [
       "110"
      ]
     },
     "execution_count": 424,
     "metadata": {},
     "output_type": "execute_result"
    }
   ],
   "source": [
    "alice_beacon_indexes = find_beacons(astamps_corrected,achannel,cwindow=2000,d_threshold=3)\n",
    "len(alice_beacon_indexes)\n"
   ]
  },
  {
   "cell_type": "code",
   "execution_count": 425,
   "metadata": {},
   "outputs": [
    {
     "data": {
      "text/plain": [
       "0.002"
      ]
     },
     "execution_count": 425,
     "metadata": {},
     "output_type": "execute_result"
    }
   ],
   "source": [
    "200*10**-9*10000"
   ]
  },
  {
   "cell_type": "code",
   "execution_count": 426,
   "metadata": {},
   "outputs": [
    {
     "name": "stdout",
     "output_type": "stream",
     "text": [
      "10000.004400001935 99999956.0\n"
     ]
    }
   ],
   "source": [
    "i =0\n",
    "a = alice_beacon_indexes[i]\n",
    "b = alice_beacon_indexes[i+1]\n",
    "\n",
    "interval = (astamps_corrected[b]-astamps_corrected[a])/10**12\n",
    "frequency = 1/interval\n",
    "print (frequency, interval*10**12)"
   ]
  },
  {
   "cell_type": "code",
   "execution_count": 427,
   "metadata": {},
   "outputs": [
    {
     "name": "stdout",
     "output_type": "stream",
     "text": [
      "error at:  34\n",
      "1\n"
     ]
    }
   ],
   "source": [
    "missing_count = 0\n",
    "for i in range (len(alice_beacon_indexes)-1):\n",
    "    a = alice_beacon_indexes[i]\n",
    "    b = alice_beacon_indexes[i+1]\n",
    "    interval = (astamps_corrected[b]-astamps_corrected[a])/10**12\n",
    "    frequency = 1/interval\n",
    "\n",
    "    if ( abs(frequency - 10000)>1) :\n",
    "        print (\"error at: \", i)\n",
    "        missing_count +=1\n",
    "\n",
    "print(missing_count)"
   ]
  },
  {
   "cell_type": "code",
   "execution_count": 416,
   "metadata": {},
   "outputs": [
    {
     "data": {
      "text/plain": [
       "110.87490663999999"
      ]
     },
     "execution_count": 416,
     "metadata": {},
     "output_type": "execute_result"
    }
   ],
   "source": [
    "((astamps_corrected[-1]-astamps_corrected[0])/10**12) *10000"
   ]
  }
 ],
 "metadata": {
  "kernelspec": {
   "display_name": "Python 3",
   "language": "python",
   "name": "python3"
  },
  "language_info": {
   "codemirror_mode": {
    "name": "ipython",
    "version": 3
   },
   "file_extension": ".py",
   "mimetype": "text/x-python",
   "name": "python",
   "nbconvert_exporter": "python",
   "pygments_lexer": "ipython3",
   "version": "3.8.2"
  }
 },
 "nbformat": 4,
 "nbformat_minor": 4
}
