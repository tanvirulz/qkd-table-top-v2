{
 "cells": [
  {
   "cell_type": "code",
   "execution_count": 236,
   "metadata": {},
   "outputs": [],
   "source": [
    "from TimeTagger import FileReader\n",
    "import numpy as np\n",
    "import easygui\n",
    "import numpy as np\n",
    "import matplotlib.pyplot as plt"
   ]
  },
  {
   "cell_type": "code",
   "execution_count": null,
   "metadata": {},
   "outputs": [],
   "source": []
  },
  {
   "cell_type": "markdown",
   "metadata": {},
   "source": [
    "We know that H and V got swapped in BOB so I must correct for it in code. "
   ]
  },
  {
   "cell_type": "code",
   "execution_count": 237,
   "metadata": {},
   "outputs": [],
   "source": [
    "#GLOBAL DEFINITIONS\n",
    "H = 1\n",
    "V = 2\n",
    "A = 3\n",
    "D = 4\n"
   ]
  },
  {
   "cell_type": "code",
   "execution_count": 238,
   "metadata": {},
   "outputs": [],
   "source": [
    "#folder = r'C:\\Data\\\\'\n",
    "folder = \"./swabian/4thNov2020_WithBeacon\"\n",
    "#file = '2.97mW_1.1.ttbin'\n",
    "file = \"3_5mW_00dB_witB.1.ttbin\"\n",
    "filepath = folder + '/' + file\n",
    "\n",
    "#filepath = easygui.fileopenbox(default = folder)\n",
    "\n",
    "\n",
    "\n",
    "\n"
   ]
  },
  {
   "cell_type": "code",
   "execution_count": 239,
   "metadata": {},
   "outputs": [],
   "source": [
    "def loadSwabianTimeStamps(fileIn, t = np.inf):\n",
    "    \n",
    "        file_reader = FileReader(fileIn)\n",
    "        stamps = []\n",
    "        channel = []\n",
    "        \n",
    "        \n",
    "        while file_reader.hasData():\n",
    "            n_events = 100000; # Number of events to read at once\n",
    "            #n_events = 200000; # Number of events to read at once\n",
    "            \n",
    "            # Read at most n_events.\n",
    "            data = file_reader.getData(n_events);  # data is an instance of TimeTagStreamBuffer\n",
    "\n",
    "            channelTmp = data.getChannels()\n",
    "            stampsTmp = data.getTimestamps()\n",
    "          #  overflow_types = data.getEventTypes()   # TimeTag = 0, Error = 1, OverflowBegin = 2, OverflowEnd = 3, MissedEvents = 4\n",
    "          #  missed_events = data.getMissedEvents()\n",
    "            \n",
    "            for i in range(len(channelTmp)):\n",
    "                channel.append(channelTmp[i])\n",
    "                stamps.append(stampsTmp[i])\n",
    "            break\n",
    "            if stamps[-1] - stamps[0] > t:\n",
    "                break\n",
    "        return stamps, channel\n"
   ]
  },
  {
   "cell_type": "code",
   "execution_count": 240,
   "metadata": {},
   "outputs": [],
   "source": [
    "stamps, channel = loadSwabianTimeStamps(filepath)"
   ]
  },
  {
   "cell_type": "code",
   "execution_count": 241,
   "metadata": {},
   "outputs": [
    {
     "data": {
      "text/plain": [
       "[7, 4, 1, 7, 5, 8, 2, 5, 2, 6, 7, 5, 4, 8, 7, 8, 4, 3, 7, 6]"
      ]
     },
     "execution_count": 241,
     "metadata": {},
     "output_type": "execute_result"
    }
   ],
   "source": [
    "channel[:20]"
   ]
  },
  {
   "cell_type": "code",
   "execution_count": 242,
   "metadata": {},
   "outputs": [],
   "source": [
    "#seperate out alice's and bob's events\n",
    "astamps = []\n",
    "achannel = []\n",
    "bstamps = []\n",
    "bchannel = []\n",
    "for (s,c) in zip(stamps, channel):\n",
    "    if (c <=4):\n",
    "        astamps.append(s)\n",
    "        achannel.append(c)\n",
    "    else:\n",
    "        bstamps.append(s)\n",
    "        nc = c-4\n",
    "        \n",
    "        #23 Oct Data\n",
    "        if (nc == H):\n",
    "            nc = A\n",
    "        elif (nc == V):\n",
    "            nc = D\n",
    "        elif (nc == A):\n",
    "            nc = H\n",
    "        elif (nc == D):\n",
    "            nc = V\n",
    "        else :\n",
    "            print (\"Error! unknown channel\")\n",
    "            break\n",
    "\n",
    "        '''    \n",
    "        #1st Oct data\n",
    "        \n",
    "        if (nc == H):\n",
    "            nc = D\n",
    "        elif (nc == V):\n",
    "            nc = A\n",
    "        elif (nc == A):\n",
    "            nc = H\n",
    "        elif (nc == D):\n",
    "            nc = V\n",
    "        else :\n",
    "            print (\"Error! unknown channel\")\n",
    "            break\n",
    "        \n",
    "        '''\n",
    "        '''if (nc == V):\n",
    "            nc = D\n",
    "        elif (nc == D):\n",
    "            nc = V\n",
    "        \n",
    "        if (nc == A):\n",
    "            nc = H\n",
    "        elif (nc == H):\n",
    "            nc = A\n",
    "            \n",
    "        if (nc == A):\n",
    "            nc = D\n",
    "        elif (nc ==D):\n",
    "            nc = A\n",
    "        '''\n",
    "        '''if (nc == A):\n",
    "            nc = H\n",
    "        elif (nc == H):\n",
    "            nc = A\n",
    "        elif (nc == V):\n",
    "            nc = D\n",
    "        elif (nc == D):\n",
    "            nc = V\n",
    "        '''\n",
    "        \n",
    "        '''#24 Aug Data\n",
    "        if ( nc == H ):\n",
    "            nc = A\n",
    "        elif ( nc == V):\n",
    "            nc = D\n",
    "        elif ( nc == A):\n",
    "            nc = V\n",
    "        elif (nc == D):\n",
    "            nc = H\n",
    "        else :\n",
    "            print (\"Error! unknown channel\")\n",
    "            break\n",
    "        '''    \n",
    "        '''if ( nc == H):\n",
    "            nc = D\n",
    "        elif (nc==D):\n",
    "            nc = H\n",
    "        \n",
    "        if ( nc == A):\n",
    "            nc = V\n",
    "        elif (nc ==V):\n",
    "            nc = A\n",
    "        \n",
    "        if ( nc == A):\n",
    "            nc = D\n",
    "        elif ( nc == D):\n",
    "            nc = A'''\n",
    "        \n",
    "        '''#28th and 29th July data\n",
    "        if (nc == D):\n",
    "            nc = H\n",
    "        elif (nc == H):\n",
    "            nc = A\n",
    "        elif (nc == A):\n",
    "            nc = V\n",
    "        elif (nc== V):\n",
    "            nc = D'''\n",
    "        \n",
    "        '''\n",
    "        # 14 july data\n",
    "        if (nc==3):\n",
    "            nc = 4\n",
    "        elif (nc == 4):\n",
    "            nc = 3\n",
    "            \n",
    "        '''        \n",
    "        bchannel.append(nc)"
   ]
  },
  {
   "cell_type": "code",
   "execution_count": 243,
   "metadata": {},
   "outputs": [
    {
     "data": {
      "text/plain": [
       "46453"
      ]
     },
     "execution_count": 243,
     "metadata": {},
     "output_type": "execute_result"
    }
   ],
   "source": [
    "len(astamps)"
   ]
  },
  {
   "cell_type": "code",
   "execution_count": 244,
   "metadata": {},
   "outputs": [
    {
     "data": {
      "text/plain": [
       "53547"
      ]
     },
     "execution_count": 244,
     "metadata": {},
     "output_type": "execute_result"
    }
   ],
   "source": [
    "len(bstamps)"
   ]
  },
  {
   "cell_type": "code",
   "execution_count": 245,
   "metadata": {},
   "outputs": [
    {
     "data": {
      "text/plain": [
       "577447917"
      ]
     },
     "execution_count": 245,
     "metadata": {},
     "output_type": "execute_result"
    }
   ],
   "source": [
    "577447917"
   ]
  },
  {
   "cell_type": "code",
   "execution_count": 246,
   "metadata": {},
   "outputs": [
    {
     "data": {
      "text/plain": [
       "100000"
      ]
     },
     "execution_count": 246,
     "metadata": {},
     "output_type": "execute_result"
    }
   ],
   "source": [
    "len(bstamps)+len(astamps)"
   ]
  },
  {
   "cell_type": "code",
   "execution_count": 247,
   "metadata": {},
   "outputs": [],
   "source": [
    "#convert the resolution to 1/8 of a nanosecond\n",
    "#saverawevents"
   ]
  },
  {
   "cell_type": "code",
   "execution_count": 248,
   "metadata": {},
   "outputs": [
    {
     "data": {
      "text/plain": [
       "1.1087489914"
      ]
     },
     "execution_count": 248,
     "metadata": {},
     "output_type": "execute_result"
    }
   ],
   "source": [
    "100*(astamps[-1] - astamps[0])/10**12"
   ]
  },
  {
   "cell_type": "code",
   "execution_count": 249,
   "metadata": {},
   "outputs": [
    {
     "data": {
      "text/plain": [
       "3"
      ]
     },
     "execution_count": 249,
     "metadata": {},
     "output_type": "execute_result"
    }
   ],
   "source": [
    "achannel[-1]"
   ]
  },
  {
   "cell_type": "code",
   "execution_count": 250,
   "metadata": {},
   "outputs": [
    {
     "data": {
      "text/plain": [
       "[1251283797374,\n",
       " 1251284105013,\n",
       " 1251284573523,\n",
       " 1251284736246,\n",
       " 1251284973058,\n",
       " 1251285306850,\n",
       " 1251285310103,\n",
       " 1251286031053,\n",
       " 1251286041214,\n",
       " 1251286258970]"
      ]
     },
     "execution_count": 250,
     "metadata": {},
     "output_type": "execute_result"
    }
   ],
   "source": [
    "astamps[:10]"
   ]
  },
  {
   "cell_type": "code",
   "execution_count": 251,
   "metadata": {},
   "outputs": [
    {
     "data": {
      "text/plain": [
       "[4, 1, 2, 2, 4, 4, 3, 3, 4, 2]"
      ]
     },
     "execution_count": 251,
     "metadata": {},
     "output_type": "execute_result"
    }
   ],
   "source": [
    "achannel[:10]"
   ]
  },
  {
   "cell_type": "code",
   "execution_count": 252,
   "metadata": {},
   "outputs": [
    {
     "data": {
      "text/plain": [
       "46453"
      ]
     },
     "execution_count": 252,
     "metadata": {},
     "output_type": "execute_result"
    }
   ],
   "source": [
    "len(astamps)"
   ]
  },
  {
   "cell_type": "code",
   "execution_count": 253,
   "metadata": {},
   "outputs": [
    {
     "data": {
      "text/plain": [
       "34342903.0"
      ]
     },
     "execution_count": 253,
     "metadata": {},
     "output_type": "execute_result"
    }
   ],
   "source": [
    "2197945792/64"
   ]
  },
  {
   "cell_type": "code",
   "execution_count": 254,
   "metadata": {},
   "outputs": [],
   "source": [
    "def coincount(at,ad,bt,bd,amd=H,bmd=H,cwindow=1000,shift=0 ):\n",
    "    #print(\"coincount: \",amd,bmd,cwindow,shift)\n",
    "    ia = 0\n",
    "    ib = 0\n",
    "    coin_count = 0\n",
    "    while (ia<len(at) and ib <len(bt)):\n",
    "        #ignore beacon events\n",
    "        if (ad[ia]!=amd):\n",
    "            ia+=1\n",
    "            continue\n",
    "        if (bd[ib]!=bmd):\n",
    "            ib+=1\n",
    "            continue\n",
    "            \n",
    "        diff = bt[ib]- at[ia] + shift\n",
    "\n",
    "        if (abs(diff)<=cwindow):\n",
    "            coin_count +=1\n",
    "            \n",
    "            ia+=1\n",
    "            ib+=1\n",
    "            #continue\n",
    "        elif (diff>cwindow):\n",
    "            ia+=1\n",
    "            #continue\n",
    "        elif( diff <-cwindow):\n",
    "            ib+=1\n",
    "            #continue\n",
    "        else:\n",
    "            print (\"ERROR! I should not be here\")\n",
    "            break\n",
    "    return coin_count\n"
   ]
  },
  {
   "cell_type": "code",
   "execution_count": 255,
   "metadata": {},
   "outputs": [],
   "source": [
    "#x = coincount(astamps, achannel,bstamps, bchannel, H, H,cwindow=1000,shift=0)\n",
    "#x"
   ]
  },
  {
   "cell_type": "code",
   "execution_count": null,
   "metadata": {},
   "outputs": [],
   "source": []
  },
  {
   "cell_type": "code",
   "execution_count": 256,
   "metadata": {},
   "outputs": [],
   "source": [
    "def g2_heisto(at,ad,bt,bd,amd=H,bmd=H,cwindow=1000,search_steps=10, step_size_ps = 500,search_direction=1):\n",
    "    heisto = []\n",
    "    i = 0\n",
    "    count = 0\n",
    "    while(i<search_steps):\n",
    "        shift = i*step_size_ps*search_direction\n",
    "        count = coincount(at, ad,bt, bd, amd,bmd,cwindow=cwindow,shift=shift)\n",
    "        #print (count)\n",
    "        heisto.append(count)\n",
    "        i += 1\n",
    "    return heisto "
   ]
  },
  {
   "cell_type": "code",
   "execution_count": 257,
   "metadata": {},
   "outputs": [
    {
     "data": {
      "text/plain": [
       "46453"
      ]
     },
     "execution_count": 257,
     "metadata": {},
     "output_type": "execute_result"
    }
   ],
   "source": [
    "len(astamps)"
   ]
  },
  {
   "cell_type": "code",
   "execution_count": 258,
   "metadata": {},
   "outputs": [
    {
     "data": {
      "text/plain": [
       "1251283797374"
      ]
     },
     "execution_count": 258,
     "metadata": {},
     "output_type": "execute_result"
    }
   ],
   "source": [
    "astamps[0]"
   ]
  },
  {
   "cell_type": "code",
   "execution_count": 259,
   "metadata": {},
   "outputs": [
    {
     "data": {
      "text/plain": [
       "'h = g2_heisto(astamps, achannel,bstamps, bchannel, amd=A ,bmd=V,cwindow=500,search_steps=20,search_direction=-1)\\nprint (h)\\nprint(h.index(max(h)))\\nplt.title(\\'HA cross correlation\\')\\nplt.xlabel(\"shift (500ps)\")\\nplt.ylabel(\"counts\")\\nplt.plot(h,\\'-bo\\')'"
      ]
     },
     "execution_count": 259,
     "metadata": {},
     "output_type": "execute_result"
    }
   ],
   "source": [
    "'''h = g2_heisto(astamps, achannel,bstamps, bchannel, amd=A ,bmd=V,cwindow=500,search_steps=20,search_direction=-1)\n",
    "print (h)\n",
    "print(h.index(max(h)))\n",
    "plt.title('HA cross correlation')\n",
    "plt.xlabel(\"shift (500ps)\")\n",
    "plt.ylabel(\"counts\")\n",
    "plt.plot(h,'-bo')'''"
   ]
  },
  {
   "cell_type": "code",
   "execution_count": 260,
   "metadata": {},
   "outputs": [],
   "source": [
    "detectors = [\"_\",\"H\",\"V\",\"A\",\"D\"]"
   ]
  },
  {
   "cell_type": "code",
   "execution_count": 261,
   "metadata": {},
   "outputs": [
    {
     "name": "stdout",
     "output_type": "stream",
     "text": [
      "detectors H H \tshiftsteps 29 \tcoincount 1728\n",
      "detectors H V \tshiftsteps 27 \tcoincount 163\n",
      "detectors H A \tshiftsteps 29 \tcoincount 792\n",
      "detectors H D \tshiftsteps 28 \tcoincount 950\n",
      "detectors V H \tshiftsteps 24 \tcoincount 155\n",
      "detectors V V \tshiftsteps 26 \tcoincount 1998\n",
      "detectors V A \tshiftsteps 25 \tcoincount 1014\n",
      "detectors V D \tshiftsteps 25 \tcoincount 1051\n",
      "detectors A H \tshiftsteps 28 \tcoincount 676\n",
      "detectors A V \tshiftsteps 28 \tcoincount 595\n",
      "detectors A A \tshiftsteps 28 \tcoincount 1006\n",
      "detectors A D \tshiftsteps 24 \tcoincount 158\n",
      "detectors D H \tshiftsteps 24 \tcoincount 551\n",
      "detectors D V \tshiftsteps 25 \tcoincount 618\n",
      "detectors D A \tshiftsteps 22 \tcoincount 152\n",
      "detectors D D \tshiftsteps 25 \tcoincount 1136\n"
     ]
    },
    {
     "data": {
      "image/png": "[encoded data removed]",
      "text/plain": [
       "<Figure size 432x288 with 1 Axes>"
      ]
     },
     "metadata": {
      "needs_background": "light"
     },
     "output_type": "display_data"
    }
   ],
   "source": [
    "for i in range (1,5):\n",
    "    for j in range (1,5):\n",
    "        if(True):\n",
    "            h = g2_heisto(astamps, achannel,bstamps, bchannel, amd=i, bmd=j,cwindow=750,search_steps=40,step_size_ps=250,search_direction=-1)\n",
    "            print (\"detectors\", detectors[i],detectors[j],\"\\tshiftsteps\",h.index(max(h)),\"\\tcoincount\",max(h))\n",
    "            #if (i==j) \n",
    "            plt.plot(h, marker='o', label=detectors[i]+detectors[j])\n",
    "\n",
    "plt.title(\"Matching\")\n",
    "plt.xlabel(\"Shift (250ps)\")\n",
    "plt.ylabel(\"count\")\n",
    "#plt.legend()\n",
    "plt.savefig(\"./plots/Matching.jpg\")\n",
    "plt.show()"
   ]
  },
  {
   "cell_type": "code",
   "execution_count": 262,
   "metadata": {},
   "outputs": [
    {
     "data": {
      "image/png": "[encoded data removed]",
      "text/plain": [
       "<Figure size 432x288 with 1 Axes>"
      ]
     },
     "metadata": {
      "needs_background": "light"
     },
     "output_type": "display_data"
    }
   ],
   "source": [
    "a = [2,3,2,5]\n",
    "b = [3.4,1,9]\n",
    "\n",
    "plt.plot(a,marker='o',label=\"a\")\n",
    "plt.plot(b,label='b')\n",
    "plt.legend()\n",
    "plt.show()"
   ]
  },
  {
   "cell_type": "code",
   "execution_count": 263,
   "metadata": {},
   "outputs": [],
   "source": [
    "def correct_timestamp(stamps,detectors,step_size_ps=250,sH=0,sV=0,sA=0,sD=0):\n",
    "    cstamp=[]\n",
    "    ts = 0\n",
    "    for (s,d) in zip (stamps,detectors):\n",
    "        ts = s\n",
    "        if(d==H): \n",
    "            ts+=sH*step_size_ps\n",
    "        elif(d==V):\n",
    "            ts+=sV*step_size_ps\n",
    "        elif(d==A):\n",
    "            ts+=sA*step_size_ps\n",
    "        elif(d==D):\n",
    "            ts+=sD*step_size_ps      \n",
    "        cstamp.append(ts)\n",
    "        \n",
    "    print (step_size_ps*sH,step_size_ps*sV,step_size_ps*sA,step_size_ps*sD)\n",
    "    \n",
    "    return cstamp"
   ]
  },
  {
   "cell_type": "code",
   "execution_count": 264,
   "metadata": {},
   "outputs": [
    {
     "name": "stdout",
     "output_type": "stream",
     "text": [
      "0 -1000 -250 -1000\n"
     ]
    }
   ],
   "source": [
    "#correct alice HV delay missmatch add 500ps to alice's V \n",
    "#astamps_corrected = correct_timestamp(astamps,achannel,sH=0,sV=-1*500,sA=0,sD=-2*500) #28 july data\n",
    "#astamps_corrected = correct_timestamp(astamps,achannel,sH=0,sV=-2*500,sA=0,sD=-2*500) # 24 Aug data\n",
    "#astamps_corrected = correct_timestamp(astamps,achannel,sH=0,sV=-2*500,sA=-3*500,sD=-1*500) # 23rd Oct data\n",
    "astamps_corrected = correct_timestamp(astamps,achannel,step_size_ps=250,sH=0,sV=-4,sA=-1,sD=-4) # 26rd Oct data\n"
   ]
  },
  {
   "cell_type": "code",
   "execution_count": 265,
   "metadata": {},
   "outputs": [],
   "source": [
    "## h = g2_heisto(astamps_corrected, achannel,bstamps, bchannel, amd=H, bmd=H,cwindow=500,search_steps=30,search_direction=-1)\n",
    "#print (h)\n",
    "#h.index(max(h))"
   ]
  },
  {
   "cell_type": "code",
   "execution_count": 266,
   "metadata": {},
   "outputs": [
    {
     "name": "stdout",
     "output_type": "stream",
     "text": [
      "0 0 250 250\n"
     ]
    }
   ],
   "source": [
    "### correct Bob\n",
    "# add 7 To Bob's A basis\n",
    "#bstamps_corrected = correct_timestamp(bstamps,bchannel,sH=0,sV=1*500,sA=-5*500,sD=1*500) # 28 july data\n",
    "#bstamps_corrected = correct_timestamp(bstamps,bchannel,sH=0,sV=1*500,sA=1*500,sD=1*500) # 24 Aug data\n",
    "#bstamps_corrected = correct_timestamp(bstamps,bchannel,sH=0,sV=-1*500,sA=0,sD=0) # 23rd Oct data\n",
    "bstamps_corrected = correct_timestamp(bstamps,bchannel,step_size_ps = 250,sH=0,sV=0,sA=1,sD=1) # 26rd Oct data\n"
   ]
  },
  {
   "cell_type": "code",
   "execution_count": 267,
   "metadata": {
    "scrolled": true
   },
   "outputs": [
    {
     "name": "stdout",
     "output_type": "stream",
     "text": [
      "[15, 16, 19, 16, 17, 18, 19, 18, 18, 20, 19, 17, 16, 16, 13, 12, 12, 12, 14, 15, 20, 28, 45, 81, 105, 155, 266, 516, 735, 782, 792, 764, 666, 417, 180, 96, 62, 42, 26, 22]\n",
      "shift = 30\n"
     ]
    },
    {
     "data": {
      "text/plain": [
       "[<matplotlib.lines.Line2D at 0x7f8889015e20>]"
      ]
     },
     "execution_count": 267,
     "metadata": {},
     "output_type": "execute_result"
    },
    {
     "data": {
      "image/png": "[encoded data removed]",
      "text/plain": [
       "<Figure size 432x288 with 1 Axes>"
      ]
     },
     "metadata": {
      "needs_background": "light"
     },
     "output_type": "display_data"
    }
   ],
   "source": [
    "# HH H(D) (D)D D(V) (V)V H(A) (A)A \n",
    "#h = g2_heisto(astamps_corrected, achannel,bstamps_corrected, bchannel, amd=H, bmd=H,cwindow=750,search_steps=40,step_size_ps = 250,search_direction=-1)\n",
    "h = g2_heisto(astamps_corrected, achannel,bstamps_corrected, bchannel, amd=H, bmd=A,cwindow=750,search_steps=40,step_size_ps = 250,search_direction=-1)\n",
    "print (h)\n",
    "print(\"shift =\",h.index(max(h)))\n",
    "plt.title('cross correlation')\n",
    "plt.xlabel(\"shift (250ps)\")\n",
    "plt.ylabel(\"counts\")\n",
    "plt.plot(h,'-bo')\n"
   ]
  },
  {
   "cell_type": "code",
   "execution_count": 268,
   "metadata": {},
   "outputs": [],
   "source": [
    "hh = {}"
   ]
  },
  {
   "cell_type": "code",
   "execution_count": 269,
   "metadata": {
    "scrolled": true
   },
   "outputs": [
    {
     "name": "stdout",
     "output_type": "stream",
     "text": [
      "detectors H H \tshiftsteps 29 \tcoincount 1728\n",
      "detectors H V \tshiftsteps 27 \tcoincount 163\n",
      "detectors H A \tshiftsteps 30 \tcoincount 792\n",
      "detectors H D \tshiftsteps 29 \tcoincount 950\n",
      "detectors V H \tshiftsteps 28 \tcoincount 155\n",
      "detectors V V \tshiftsteps 30 \tcoincount 1998\n",
      "detectors V A \tshiftsteps 30 \tcoincount 1014\n",
      "detectors V D \tshiftsteps 30 \tcoincount 1051\n",
      "detectors A H \tshiftsteps 29 \tcoincount 676\n",
      "detectors A V \tshiftsteps 29 \tcoincount 595\n",
      "detectors A A \tshiftsteps 30 \tcoincount 1006\n",
      "detectors A D \tshiftsteps 26 \tcoincount 158\n",
      "detectors D H \tshiftsteps 28 \tcoincount 551\n",
      "detectors D V \tshiftsteps 29 \tcoincount 618\n",
      "detectors D A \tshiftsteps 27 \tcoincount 152\n",
      "detectors D D \tshiftsteps 30 \tcoincount 1136\n"
     ]
    }
   ],
   "source": [
    "for i in range (1,5):\n",
    "    for j in range (1,5):\n",
    "        \n",
    "        h = g2_heisto(astamps_corrected, achannel,bstamps_corrected, bchannel, amd=i, bmd=j,cwindow=750,search_steps=40,step_size_ps = 250,search_direction=-1)\n",
    "        hh[str(i)+str(j)] = h\n",
    "        \n",
    "        print (\"detectors\", detectors[i],detectors[j],\"\\tshiftsteps\",h.index(max(h)),\"\\tcoincount\",max(h))"
   ]
  },
  {
   "cell_type": "code",
   "execution_count": 270,
   "metadata": {},
   "outputs": [
    {
     "name": "stdout",
     "output_type": "stream",
     "text": [
      "detectors H H\n",
      "detectors H V\n",
      "detectors H A\n",
      "detectors H D\n",
      "detectors V H\n",
      "detectors V V\n",
      "detectors V A\n",
      "detectors V D\n",
      "detectors A H\n",
      "detectors A V\n",
      "detectors A A\n",
      "detectors A D\n",
      "detectors D H\n",
      "detectors D V\n",
      "detectors D A\n",
      "detectors D D\n"
     ]
    },
    {
     "data": {
      "image/png": "[encoded data removed]",
      "text/plain": [
       "<Figure size 432x288 with 1 Axes>"
      ]
     },
     "metadata": {
      "needs_background": "light"
     },
     "output_type": "display_data"
    }
   ],
   "source": [
    "for i in range (1,5):\n",
    "    for j in range (1,5):\n",
    "        if(True):\n",
    "            #h = g2_heisto(astamps, achannel,bstamps, bchannel, amd=i, bmd=j,cwindow=500,search_steps=20,search_direction=-1)\n",
    "            print (\"detectors\", detectors[i],detectors[j])\n",
    "            #if (i==j) \n",
    "            plt.plot(hh[str(i)+str(j)], marker='o', label=detectors[i]+detectors[j])\n",
    "\n",
    "plt.title(\"Corrected_all\")\n",
    "plt.xlabel(\"Shift (500ps)\")\n",
    "plt.ylabel(\"count\")\n",
    "plt.legend()\n",
    "plt.savefig(\"./plots/Corrected_all.jpg\")\n",
    "plt.show()"
   ]
  },
  {
   "cell_type": "code",
   "execution_count": 271,
   "metadata": {},
   "outputs": [
    {
     "name": "stdout",
     "output_type": "stream",
     "text": [
      "[11, 8, 9, 11, 15, 12, 8, 10, 10, 27, 39, 58, 92, 121, 504, 1059, 697, 89, 27, 15]\n"
     ]
    },
    {
     "data": {
      "text/plain": [
       "15"
      ]
     },
     "execution_count": 271,
     "metadata": {},
     "output_type": "execute_result"
    }
   ],
   "source": [
    "h = g2_heisto(astamps_corrected, achannel,bstamps_corrected, bchannel, amd=D, bmd=D,cwindow=500,search_steps=20,search_direction=-1)\n",
    "print (h)\n",
    "h.index(max(h))"
   ]
  },
  {
   "cell_type": "code",
   "execution_count": 272,
   "metadata": {},
   "outputs": [
    {
     "name": "stdout",
     "output_type": "stream",
     "text": [
      "[12, 14, 15, 14, 15, 14, 19, 21, 20, 17, 18, 18, 14, 12, 12, 16, 22, 31, 40, 45, 63, 79, 94, 110, 139, 161, 242, 556, 965, 1128, 1136, 1127, 1036, 717, 285, 96, 53, 35, 26, 17]\n"
     ]
    }
   ],
   "source": [
    "print (hh[str(4)+str(4)])"
   ]
  },
  {
   "cell_type": "code",
   "execution_count": 273,
   "metadata": {},
   "outputs": [],
   "source": [
    "def match_coincidence(at,ad,bt,bd,cwindow,shift):\n",
    "    ia = 0\n",
    "    ib = 0\n",
    "    acoin_indexes = []\n",
    "    bcoin_indexes = []\n",
    "    while (ia<len(at) and ib <len(bt)):\n",
    "        \n",
    "        diff = bt[ib]- at[ia] + shift\n",
    "\n",
    "        if (abs(diff)<=cwindow):\n",
    "            #coin_count +=1\n",
    "            acoin_indexes.append(ia)\n",
    "            bcoin_indexes.append(ib)\n",
    "            ia+=1\n",
    "            ib+=1\n",
    "            #continue\n",
    "        elif (diff>cwindow):\n",
    "            ia+=1\n",
    "            #continue\n",
    "        elif( diff <-cwindow):\n",
    "            ib+=1\n",
    "            #continue\n",
    "        else:\n",
    "            print (\"ERROR! I should not be here\")\n",
    "            break\n",
    "    return acoin_indexes,bcoin_indexes\n",
    "    "
   ]
  },
  {
   "cell_type": "code",
   "execution_count": 274,
   "metadata": {},
   "outputs": [],
   "source": [
    "ac_indexes,bc_indexes = match_coincidence(astamps_corrected,achannel,bstamps_corrected,bchannel,1500,-15*500)"
   ]
  },
  {
   "cell_type": "code",
   "execution_count": null,
   "metadata": {},
   "outputs": [],
   "source": []
  },
  {
   "cell_type": "code",
   "execution_count": 383,
   "metadata": {},
   "outputs": [],
   "source": [
    "def find_beacons(stamps,channel,cwindow,d_threshold ):\n",
    "    i = 0\n",
    "    beacon_indexes = []\n",
    "    while(i<len(stamps)-3): \n",
    "        found_bitmap = np.zeros((5,), dtype=int)\n",
    "        d_count = 0\n",
    "        shift_i = 0\n",
    "        fd = channel[i]\n",
    "        ft = stamps[i]\n",
    "        found_bitmap[fd] = 1\n",
    "        d_count +=1\n",
    "        \n",
    "        for j in range(1,4):\n",
    "            cd = channel[i+j]\n",
    "            ct = stamps[i+j]\n",
    "            shift_i = j\n",
    "            \n",
    "            if abs(ct-ft) > cwindow :\n",
    "                break\n",
    "                \n",
    "            if found_bitmap[cd]==1:\n",
    "                break\n",
    "            else:                \n",
    "                found_bitmap[cd] = 1\n",
    "                d_count +=1\n",
    "        \n",
    "        if d_count >= d_threshold :\n",
    "            beacon_indexes.append(i)\n",
    "            \n",
    "            #ignore next 200 nanosecond i.e 200,000 pico seconds\n",
    "            while ((i+shift_i) < (len(stamps)-3))  and ((stamps[i+shift_i] - ft) < 200000) :\n",
    "                \n",
    "                shift_i+=1\n",
    "            \n",
    "        i = i+shift_i\n",
    "    \n",
    "    return beacon_indexes\n",
    "            \n",
    "        \n",
    "        \n",
    "        "
   ]
  },
  {
   "cell_type": "code",
   "execution_count": 424,
   "metadata": {},
   "outputs": [
    {
     "data": {
      "text/plain": [
       "110"
      ]
     },
     "execution_count": 424,
     "metadata": {},
     "output_type": "execute_result"
    }
   ],
   "source": [
    "alice_beacon_indexes = find_beacons(astamps_corrected,achannel,cwindow=2000,d_threshold=3)\n",
    "len(alice_beacon_indexes)\n"
   ]
  },
  {
   "cell_type": "code",
   "execution_count": 425,
   "metadata": {},
   "outputs": [
    {
     "data": {
      "text/plain": [
       "0.002"
      ]
     },
     "execution_count": 425,
     "metadata": {},
     "output_type": "execute_result"
    }
   ],
   "source": [
    "200*10**-9*10000"
   ]
  },
  {
   "cell_type": "code",
   "execution_count": 426,
   "metadata": {},
   "outputs": [
    {
     "name": "stdout",
     "output_type": "stream",
     "text": [
      "10000.004400001935 99999956.0\n"
     ]
    }
   ],
   "source": [
    "i =0\n",
    "a = alice_beacon_indexes[i]\n",
    "b = alice_beacon_indexes[i+1]\n",
    "\n",
    "interval = (astamps_corrected[b]-astamps_corrected[a])/10**12\n",
    "frequency = 1/interval\n",
    "print (frequency, interval*10**12)"
   ]
  },
  {
   "cell_type": "code",
   "execution_count": 427,
   "metadata": {},
   "outputs": [
    {
     "name": "stdout",
     "output_type": "stream",
     "text": [
      "error at:  34\n",
      "1\n"
     ]
    }
   ],
   "source": [
    "missing_count = 0\n",
    "for i in range (len(alice_beacon_indexes)-1):\n",
    "    a = alice_beacon_indexes[i]\n",
    "    b = alice_beacon_indexes[i+1]\n",
    "    interval = (astamps_corrected[b]-astamps_corrected[a])/10**12\n",
    "    frequency = 1/interval\n",
    "\n",
    "    if ( abs(frequency - 10000)>1) :\n",
    "        print (\"error at: \", i)\n",
    "        missing_count +=1\n",
    "\n",
    "print(missing_count)"
   ]
  },
  {
   "cell_type": "code",
   "execution_count": 416,
   "metadata": {},
   "outputs": [
    {
     "data": {
      "text/plain": [
       "110.87490663999999"
      ]
     },
     "execution_count": 416,
     "metadata": {},
     "output_type": "execute_result"
    }
   ],
   "source": [
    "((astamps_corrected[-1]-astamps_corrected[0])/10**12) *10000"
   ]
  },
  {
   "cell_type": "code",
   "execution_count": 50,
   "metadata": {},
   "outputs": [
    {
     "name": "stdout",
     "output_type": "stream",
     "text": [
      "1263979050517 1264019817441\n",
      "diff 40760424\n"
     ]
    }
   ],
   "source": [
    "i = 1\n",
    "j = 0\n",
    "print(astamps_corrected[i], bstamps_corrected[j])\n",
    "print(\"diff\",bstamps_corrected[j]-astamps_corrected[i]-13*500 )"
   ]
  },
  {
   "cell_type": "code",
   "execution_count": null,
   "metadata": {},
   "outputs": [],
   "source": []
  },
  {
   "cell_type": "code",
   "execution_count": 51,
   "metadata": {},
   "outputs": [
    {
     "data": {
      "text/plain": [
       "10605"
      ]
     },
     "execution_count": 51,
     "metadata": {},
     "output_type": "execute_result"
    }
   ],
   "source": [
    "len(ac_indexes)"
   ]
  },
  {
   "cell_type": "code",
   "execution_count": 52,
   "metadata": {},
   "outputs": [
    {
     "data": {
      "text/plain": [
       "0"
      ]
     },
     "execution_count": 52,
     "metadata": {},
     "output_type": "execute_result"
    }
   ],
   "source": [
    "bc_indexes[0]\n"
   ]
  },
  {
   "cell_type": "code",
   "execution_count": 53,
   "metadata": {},
   "outputs": [
    {
     "data": {
      "text/plain": [
       "51378408"
      ]
     },
     "execution_count": 53,
     "metadata": {},
     "output_type": "execute_result"
    }
   ],
   "source": [
    "bstamps_corrected[1]- astamps_corrected[1] - 6500"
   ]
  },
  {
   "cell_type": "code",
   "execution_count": 54,
   "metadata": {},
   "outputs": [
    {
     "name": "stdout",
     "output_type": "stream",
     "text": [
      "1265447201009 1266169828092 722622583\n"
     ]
    }
   ],
   "source": [
    "print(astamps_corrected[51],bstamps_corrected[76], bstamps_corrected[76] - astamps_corrected[51]-9*500)"
   ]
  },
  {
   "cell_type": "code",
   "execution_count": 55,
   "metadata": {},
   "outputs": [],
   "source": [
    "basis_count = 0\n",
    "error_count = 0\n",
    "for (a,b) in zip(ac_indexes,bc_indexes):\n",
    "    da = achannel[a]\n",
    "    db = bchannel[b]\n",
    "    if (da >= 3 and db >= 3):\n",
    "        #basis HV\n",
    "        #print(da,db)\n",
    "        basis_count+=1\n",
    "        if (da!=db):\n",
    "            error_count+=1\n",
    "    if( da<3 and db <3):\n",
    "        #print (da,db)\n",
    "        if(da!=db):\n",
    "            error_count+=1\n",
    "        basis_count+=1"
   ]
  },
  {
   "cell_type": "code",
   "execution_count": 56,
   "metadata": {},
   "outputs": [
    {
     "data": {
      "text/plain": [
       "5374"
      ]
     },
     "execution_count": 56,
     "metadata": {},
     "output_type": "execute_result"
    }
   ],
   "source": [
    "basis_count"
   ]
  },
  {
   "cell_type": "code",
   "execution_count": 57,
   "metadata": {},
   "outputs": [
    {
     "data": {
      "text/plain": [
       "49"
      ]
     },
     "execution_count": 57,
     "metadata": {},
     "output_type": "execute_result"
    }
   ],
   "source": [
    "error_count"
   ]
  },
  {
   "cell_type": "code",
   "execution_count": 58,
   "metadata": {},
   "outputs": [
    {
     "data": {
      "text/plain": [
       "0.9117975437290659"
      ]
     },
     "execution_count": 58,
     "metadata": {},
     "output_type": "execute_result"
    }
   ],
   "source": [
    "QBER = error_count / basis_count\n",
    "QBER*100"
   ]
  },
  {
   "cell_type": "code",
   "execution_count": 59,
   "metadata": {},
   "outputs": [
    {
     "data": {
      "text/plain": [
       "[1263972397614,\n",
       " 1263979050517,\n",
       " 1263987431844,\n",
       " 1264019809746,\n",
       " 1264026384193,\n",
       " 1264031378440,\n",
       " 1264056533771,\n",
       " 1264122975950,\n",
       " 1264127141577,\n",
       " 1264133086104]"
      ]
     },
     "execution_count": 59,
     "metadata": {},
     "output_type": "execute_result"
    }
   ],
   "source": [
    "astamps_corrected[0:10]"
   ]
  },
  {
   "cell_type": "code",
   "execution_count": 60,
   "metadata": {},
   "outputs": [
    {
     "data": {
      "text/plain": [
       "[1264019817441,\n",
       " 1264030435425,\n",
       " 1264034455317,\n",
       " 1264048218621,\n",
       " 1264050708676,\n",
       " 1264098924973,\n",
       " 1264111028484,\n",
       " 1264113619520,\n",
       " 1264150780634,\n",
       " 1264179099105]"
      ]
     },
     "execution_count": 60,
     "metadata": {},
     "output_type": "execute_result"
    }
   ],
   "source": [
    "bstamps_corrected[0:10]"
   ]
  },
  {
   "cell_type": "code",
   "execution_count": 61,
   "metadata": {
    "scrolled": true
   },
   "outputs": [
    {
     "data": {
      "text/plain": [
       "0.21634026927784578"
      ]
     },
     "execution_count": 61,
     "metadata": {},
     "output_type": "execute_result"
    }
   ],
   "source": [
    "len (ac_indexes) / len(astamps_corrected)"
   ]
  },
  {
   "cell_type": "code",
   "execution_count": 62,
   "metadata": {},
   "outputs": [
    {
     "data": {
      "text/plain": [
       "1.378373810489"
      ]
     },
     "execution_count": 62,
     "metadata": {},
     "output_type": "execute_result"
    }
   ],
   "source": [
    "duration = astamps[-1]-astamps[0]\n",
    "duration / (10**12)"
   ]
  },
  {
   "cell_type": "code",
   "execution_count": 63,
   "metadata": {},
   "outputs": [
    {
     "data": {
      "text/plain": [
       "4902.0"
      ]
     },
     "execution_count": 63,
     "metadata": {},
     "output_type": "execute_result"
    }
   ],
   "source": [
    "len(astamps)/10"
   ]
  },
  {
   "cell_type": "markdown",
   "metadata": {},
   "source": [
    "Singles rate 3.4 Million/s\n",
    "coincidence rate 333 K/s \n",
    "QBER = 3.7 %\n",
    "coincidence window 500 ps\n",
    "\n",
    "for coincidence window of 1 ns QBER is around 4.2 %\n"
   ]
  },
  {
   "cell_type": "code",
   "execution_count": null,
   "metadata": {},
   "outputs": [],
   "source": []
  }
 ],
 "metadata": {
  "kernelspec": {
   "display_name": "Python 3",
   "language": "python",
   "name": "python3"
  },
  "language_info": {
   "codemirror_mode": {
    "name": "ipython",
    "version": 3
   },
   "file_extension": ".py",
   "mimetype": "text/x-python",
   "name": "python",
   "nbconvert_exporter": "python",
   "pygments_lexer": "ipython3",
   "version": "3.8.2"
  }
 },
 "nbformat": 4,
 "nbformat_minor": 4
}
